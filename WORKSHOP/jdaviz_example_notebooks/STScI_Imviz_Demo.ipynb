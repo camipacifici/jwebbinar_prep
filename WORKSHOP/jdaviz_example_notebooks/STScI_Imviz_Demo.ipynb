{
 "cells": [
  {
   "cell_type": "markdown",
   "id": "035a23fd",
   "metadata": {},
   "source": [
    "# Imviz Demonstration\n",
    "#### STScI Onsite Demo Day 2022-10-27\n",
    "https://jdaviz.readthedocs.io/en/latest/imviz/index.html\n",
    "\n",
    "This notebook presents some basic functionality of the Imviz tool of Jdaviz. It is intended to be used within a presentation flow after the basic layout and subset functionality has been demonstrated. Please review Ricky O'Steen's presentation to get a background on the Imviz layout and how to use Subsets.\n",
    "\n",
    "For additional resources, please review our provided full example notebooks maintained in the Jdaviz repository: https://github.com/spacetelescope/jdaviz/tree/main/notebooks"
   ]
  },
  {
   "cell_type": "markdown",
   "id": "884e8432",
   "metadata": {},
   "source": [
    "Import modules needed for this notebook:"
   ]
  },
  {
   "cell_type": "code",
   "execution_count": null,
   "id": "8f2d1e37",
   "metadata": {},
   "outputs": [],
   "source": [
    "import tempfile\n",
    "import warnings\n",
    "\n",
    "from astroquery.mast import Observations\n",
    "\n",
    "from jdaviz import Imviz"
   ]
  },
  {
   "cell_type": "markdown",
   "id": "aaf960cd",
   "metadata": {},
   "source": [
    "We create an Imviz instance and grab the default viewer instance as well:"
   ]
  },
  {
   "cell_type": "code",
   "execution_count": null,
   "id": "409eedc4",
   "metadata": {},
   "outputs": [],
   "source": [
    "imviz = Imviz()"
   ]
  },
  {
   "cell_type": "markdown",
   "id": "3a332f61",
   "metadata": {},
   "source": [
    "Let's download some data and load it into Imviz:"
   ]
  },
  {
   "cell_type": "code",
   "execution_count": null,
   "id": "7bddbc18",
   "metadata": {},
   "outputs": [],
   "source": [
    "files = ['jw02727-o002_t062_nircam_clear-f090w_i2d.fits',\n",
    "         'jw02727-o002_t062_nircam_clear-f277w_i2d.fits'\n",
    "        ]\n",
    "\n",
    "for fn in files:\n",
    "    # Uncomment these lines if you didn't download the data from Box\n",
    "    #uri = f\"mast:JWST/product/{fn}\"\n",
    "    #result = Observations.download_file(uri, local_path=fn)\n",
    "    with warnings.catch_warnings():\n",
    "        warnings.simplefilter('ignore')\n",
    "        imviz.load_data(fn)"
   ]
  },
  {
   "cell_type": "markdown",
   "id": "8a4b2e1a",
   "metadata": {},
   "source": [
    "Now, we can display Imviz:"
   ]
  },
  {
   "cell_type": "code",
   "execution_count": null,
   "id": "8b754faa",
   "metadata": {
    "scrolled": false
   },
   "outputs": [],
   "source": [
    "imviz.show()"
   ]
  },
  {
   "cell_type": "markdown",
   "id": "88b7129e",
   "metadata": {},
   "source": [
    "## WCS Linking Controls\n",
    "https://jdaviz.readthedocs.io/en/latest/imviz/plugins.html#link-control\n",
    "\n",
    "The first thing you will probably notice is that the image doesn't take up the entire viewer area. If you press the \"b\" key to blink to the other loaded image, you will see that this image is zoomed correctly by default. The odd default zoom on the other is because the images are linked by pixel when loaded. We can instead link by WCS (world coordinates) so that the images will be properly aligned."
   ]
  },
  {
   "cell_type": "markdown",
   "id": "b34dde0c",
   "metadata": {},
   "source": [
    "There are two ways to link in Imviz. Firstly, you can do it from within the UI through the Links Control plugin by selecting \"WCS\". Either open the plugin tray to the right and search for \"Links Control\", or execute the following cell to open it automatically:"
   ]
  },
  {
   "cell_type": "code",
   "execution_count": null,
   "id": "812bbbf5",
   "metadata": {},
   "outputs": [],
   "source": [
    "imviz.plugins['Links Control'].open_in_tray()"
   ]
  },
  {
   "cell_type": "markdown",
   "id": "75367551",
   "metadata": {},
   "source": [
    "You can also set the link type from the API using the Imviz Helper:"
   ]
  },
  {
   "cell_type": "code",
   "execution_count": null,
   "id": "f7c9f085",
   "metadata": {},
   "outputs": [],
   "source": [
    "imviz.link_data(link_type='wcs')"
   ]
  },
  {
   "cell_type": "markdown",
   "id": "c9e777a4",
   "metadata": {},
   "source": [
    "Now if you blink, your two images should be aligned"
   ]
  },
  {
   "cell_type": "markdown",
   "id": "882eb388",
   "metadata": {},
   "source": [
    "## Aperture Photometry\n",
    "https://jdaviz.readthedocs.io/en/latest/imviz/plugins.html#simple-aperture-photometry\n",
    "\n",
    "With the ability to define subsets, as demonstrated in Ricky's overview, you can perform simple aperture photometry interactively on your image. To show the plugin, either navigate to it on the plugin bar, or execute the following cell to open it automatically:"
   ]
  },
  {
   "cell_type": "code",
   "execution_count": null,
   "id": "5e3b881e",
   "metadata": {},
   "outputs": [],
   "source": [
    "imviz.plugins['Imviz Simple Aperture Photometry'].open_in_tray()"
   ]
  },
  {
   "cell_type": "markdown",
   "id": "8e186fa2",
   "metadata": {},
   "source": [
    "#### Defining Photometry Target\n",
    "1. Firstly, ensure, the correct dataset you would like to perform photometry on is selected in the plugin.\n",
    "2. Next, define a subset on the image using the subset tool. Center the subset on the object to perform photometry on\n",
    "3. This subset should now be selectable as the Aperture under the plugin. Select that subset\n",
    "\n",
    "#### Defining Background\n",
    "Once the Aperture is selected, you should now be presented with the ability to define the background information for your photometry calculation. There are currently three different ways to define the background:\n",
    "* By default, the manual options are presented for full control over the background values\n",
    "* Annulus provides a width around the subset to average to automatically calculate a background value\n",
    "* If there is a particular part of the sky you would like to use to define the background on, you can draw a separate subset and select that as the background subset\n",
    "\n",
    "#### Scaling and Count Conversion\n",
    "To calibrate the final values, we provide the opportunity to modify the Flux Scaling and Count Conversion factors used in the photometry calculation. Adjust these values if desired\n",
    "\n",
    "#### Generate Plot type\n",
    "Imviz provides different types of plots to render: Curve of growth, Radial Profile (using a binned average), and Raw Radial Profile (Raw will show all points used to calculate the Radial Profile curve with no binning.\n",
    "\n",
    "At this point, you can also fit a guassian curve to the curve, if desired. Click \"Calculate\" to generate your plot\n",
    "\n",
    "#### Photometry Results\n",
    "Imviz will pass your inputs to the photutils backend to perform the photometry. The results of the photometry run will be shown below the plot."
   ]
  },
  {
   "cell_type": "markdown",
   "id": "280cb7c7",
   "metadata": {},
   "source": [
    "## Plot Options\n",
    "The Plot Options plugins allows you to modify how your image appears. Here, we'll demo something a little prettier, but first, we need to download some new datasets"
   ]
  },
  {
   "cell_type": "code",
   "execution_count": null,
   "id": "89cfcff0",
   "metadata": {},
   "outputs": [],
   "source": [
    "files = ['jw02731-o001_t017_nircam_clear-f090w_i2d.fits',\n",
    "         'jw02731-o001_t017_nircam_clear-f187n_i2d.fits',\n",
    "         'jw02731-o001_t017_nircam_clear-f200w_i2d.fits',\n",
    "         'jw02731-o001_t017_nircam_clear-f335m_i2d.fits',\n",
    "         'jw02731-o001_t017_nircam_clear-f444w_i2d.fits',\n",
    "         'jw02731-o001_t017_nircam_f444w-f470n_i2d.fits'\n",
    "        ]\n",
    "# Uncomment these lines if you didn't download the data from Box\n",
    "#for f in files:\n",
    "#    result = Observations.download_file(f'mast:JWST/product/{f}', base_url=\"https://mast.stsci.edu/api/v0.1/Download/file\")\n",
    "    \n",
    "imviz_carina = Imviz(verbosity='error')\n",
    "for f in files:\n",
    "    imviz_carina.load_data(f, data_label=f[31:36])\n",
    "\n",
    "\n",
    "# Link images by WCS (without affine approximation)\n",
    "imviz_carina.plugins['Links Control'].link_type = 'WCS'\n",
    "imviz_carina.plugins['Links Control'].wcs_use_affine = False\n",
    "\n",
    "imviz_carina.show()"
   ]
  },
  {
   "cell_type": "markdown",
   "id": "ca62dbf5",
   "metadata": {},
   "source": [
    "To show the Plot Options plugin, either search in the plugin bar, or execute the following cell to open it automatically:"
   ]
  },
  {
   "cell_type": "code",
   "execution_count": null,
   "id": "6706967c",
   "metadata": {},
   "outputs": [],
   "source": [
    "plot_options = imviz_carina.plugins['Plot Options']\n",
    "plot_options.open_in_tray()"
   ]
  },
  {
   "cell_type": "markdown",
   "id": "3e1285e7",
   "metadata": {},
   "source": [
    "Here you can adjust the color, opacity, contrast, and bias among other things. You can adjust them manually via the UI, or programmatically via the API to make image appear as you'd like:"
   ]
  },
  {
   "cell_type": "code",
   "execution_count": null,
   "id": "c2211739",
   "metadata": {},
   "outputs": [],
   "source": [
    "plot_options.image_color_mode = 'Monochromatic'\n",
    "img_settings = {'f090w': {'image_color': '#cc7ace',\n",
    "                          'stretch_vmax': 4,\n",
    "                          'image_opacity': 0.32,\n",
    "                          'image_contrast': 0.69,\n",
    "                          'image_bias': 0.39},\n",
    "                'f187n': {'image_color': '#66cfef',\n",
    "                          'stretch_vmin': 0,\n",
    "                          'stretch_vmax': 16,\n",
    "                          'image_opacity': 0.4,\n",
    "                          'image_contrast': 0.94,\n",
    "                          'image_bias': 0.74},\n",
    "                'f200w': {'image_color': '#61d3e1',\n",
    "                          'stretch_vmax': 6,\n",
    "                          'image_opacity': 0.31,\n",
    "                          'image_contrast': 2.15,\n",
    "                          'image_bias': 0.66},\n",
    "                'f335m': {'image_color': '#afff6b',\n",
    "                          'stretch_vmin': 4,\n",
    "                          'stretch_vmax': 27,\n",
    "                          'image_opacity': 0.23,\n",
    "                          'image_contrast': 3.13,\n",
    "                          'image_bias': 0.67},\n",
    "                'f444w': {'image_color': '#ff767c',\n",
    "                          'stretch_vmax': 10,\n",
    "                          'image_opacity': 0.18,\n",
    "                          'image_contrast': 1.77,\n",
    "                          'image_bias': 0.56},\n",
    "                'f470n': {'image_color': '#f7787d',\n",
    "                          'stretch_vmin': 1,\n",
    "                          'stretch_vmax': 11,\n",
    "                          'image_opacity': 0.4,\n",
    "                          'image_contrast': 2.53,\n",
    "                          'image_bias': 0.27}}\n",
    "\n",
    "for layer, settings in img_settings.items():\n",
    "    plot_options.layer = f'{layer}[DATA]'\n",
    "    for k,v in settings.items():\n",
    "        setattr(plot_options, k, v)"
   ]
  },
  {
   "cell_type": "code",
   "execution_count": null,
   "id": "231f2fe1",
   "metadata": {},
   "outputs": [],
   "source": []
  }
 ],
 "metadata": {
  "kernelspec": {
   "display_name": "Python 3 (ipykernel)",
   "language": "python",
   "name": "python3"
  },
  "language_info": {
   "codemirror_mode": {
    "name": "ipython",
    "version": 3
   },
   "file_extension": ".py",
   "mimetype": "text/x-python",
   "name": "python",
   "nbconvert_exporter": "python",
   "pygments_lexer": "ipython3",
   "version": "3.10.8"
  }
 },
 "nbformat": 4,
 "nbformat_minor": 5
}
