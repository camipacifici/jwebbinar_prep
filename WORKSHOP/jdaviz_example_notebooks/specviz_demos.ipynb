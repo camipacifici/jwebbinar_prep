{
 "cells": [
  {
   "cell_type": "code",
   "execution_count": null,
   "id": "eb786bc9",
   "metadata": {},
   "outputs": [],
   "source": [
    "from astropy.utils.data import download_file\n",
    "from astroquery.mast import Observations\n",
    "import warnings\n",
    "\n",
    "import tempfile\n",
    "data_dir = tempfile.gettempdir()\n",
    "\n",
    "with warnings.catch_warnings():\n",
    "    warnings.simplefilter(\"ignore\")"
   ]
  },
  {
   "cell_type": "markdown",
   "id": "a8f09266",
   "metadata": {},
   "source": [
    "# Specviz2D"
   ]
  },
  {
   "cell_type": "code",
   "execution_count": null,
   "id": "c0731f37",
   "metadata": {
    "scrolled": false
   },
   "outputs": [],
   "source": [
    "from jdaviz import Specviz2d\n",
    "\n",
    "fn = 'jw02736-o007_s09239_nirspec_f170lp-g235m_s2d.fits'\n",
    "# Uncomment this line if you didn't download the file from Box ahead of time\n",
    "#result = Observations.download_file(f\"mast:JWST/product/{fn}\", local_path=fn)\n",
    "\n",
    "specviz2d = Specviz2d()\n",
    "specviz2d.load_data(fn)\n",
    "\n",
    "specviz2d.show()"
   ]
  },
  {
   "cell_type": "markdown",
   "id": "8a465829",
   "metadata": {},
   "source": [
    "### Spectral Extraction"
   ]
  },
  {
   "cell_type": "code",
   "execution_count": null,
   "id": "1afe273c",
   "metadata": {},
   "outputs": [],
   "source": [
    "specviz2d.plugins['Spectral Extraction'].open_in_tray()"
   ]
  },
  {
   "cell_type": "markdown",
   "id": "97e51144",
   "metadata": {},
   "source": [
    "* defaults for spectral extraction determined based on input data\n",
    "* can manually tweak all spectral extraction options, seeing preview in real-time\n",
    "* can export (and optionally overwrite) to a 1D spectrum"
   ]
  },
  {
   "cell_type": "markdown",
   "id": "3b7a2509",
   "metadata": {},
   "source": [
    "# Specviz"
   ]
  },
  {
   "cell_type": "code",
   "execution_count": null,
   "id": "26bf63e9",
   "metadata": {},
   "outputs": [],
   "source": [
    "from jdaviz import Specviz\n",
    "\n",
    "fn = 'jw02736-o007_s09239_nirspec_f170lp-g235m_x1d.fits'\n",
    "# Uncomment this line if you didn't download the file from Box ahead of time\n",
    "#result = Observations.download_file(f\"mast:JWST/product/{fn}\", local_path=fn)\n",
    "\n",
    "specviz = Specviz()\n",
    "specviz.load_spectrum(fn, \"myfile\")\n",
    "\n",
    "specviz.show()"
   ]
  },
  {
   "cell_type": "markdown",
   "id": "e130b380",
   "metadata": {},
   "source": [
    "### Line Lists & Redshift\n",
    "\n",
    "* load list: Galactic 2000A-11000A\n",
    "* search and enable lines: H a (6562.819), [N II] (6548.05), [N II] (6583.46), [S II] 6716.44, [S II] (6730.81)\n",
    "* approximate redshift by setting observed wavelength of H a to 22500 A\n",
    "* use slider to refine redshift value\n",
    "* use line selection tool to identify other lines"
   ]
  },
  {
   "cell_type": "code",
   "execution_count": null,
   "id": "7a70d4e9",
   "metadata": {},
   "outputs": [],
   "source": [
    "specviz.plugins['Line Lists'].open_in_tray()"
   ]
  },
  {
   "cell_type": "markdown",
   "id": "c996dfb9",
   "metadata": {},
   "source": [
    "### Creating Subsets from API"
   ]
  },
  {
   "cell_type": "code",
   "execution_count": null,
   "id": "0e82a6cf",
   "metadata": {},
   "outputs": [],
   "source": [
    "from glue.core.roi import XRangeROI\n",
    "\n",
    "sv = specviz.app.get_viewer('spectrum-viewer')\n",
    "sv.apply_roi(XRangeROI(2.27, 2.277))"
   ]
  },
  {
   "cell_type": "markdown",
   "id": "3c49f25d",
   "metadata": {},
   "source": [
    "### Line Analysis\n",
    "\n",
    "* select subset\n",
    "* set redshift based on centroid value by identifying the H a line"
   ]
  },
  {
   "cell_type": "code",
   "execution_count": null,
   "id": "47fc922c",
   "metadata": {},
   "outputs": [],
   "source": [
    "specviz.plugins['Line Analysis'].open_in_tray()"
   ]
  },
  {
   "cell_type": "markdown",
   "id": "63eb808d",
   "metadata": {},
   "source": [
    "### Model Fitting"
   ]
  },
  {
   "cell_type": "code",
   "execution_count": null,
   "id": "f2d3c68e",
   "metadata": {},
   "outputs": [],
   "source": [
    "# NOTE: this will revise or create a new subset depending on the setting in the toolbar!\n",
    "sv = specviz.app.get_viewer('spectrum-viewer')\n",
    "sv.apply_roi(XRangeROI(2.265, 2.285))"
   ]
  },
  {
   "cell_type": "code",
   "execution_count": null,
   "id": "de148525",
   "metadata": {},
   "outputs": [],
   "source": [
    "plugin = specviz.plugins['Model Fitting']\n",
    "plugin.show()"
   ]
  },
  {
   "cell_type": "code",
   "execution_count": null,
   "id": "cc01393a",
   "metadata": {},
   "outputs": [],
   "source": [
    "dir(plugin)"
   ]
  },
  {
   "cell_type": "code",
   "execution_count": null,
   "id": "3f8f74f3",
   "metadata": {},
   "outputs": [],
   "source": [
    "plugin.spectral_subset"
   ]
  },
  {
   "cell_type": "code",
   "execution_count": null,
   "id": "600c5235",
   "metadata": {},
   "outputs": [],
   "source": [
    "plugin.spectral_subset = 'Subset 1'"
   ]
  },
  {
   "cell_type": "code",
   "execution_count": null,
   "id": "9d233560",
   "metadata": {},
   "outputs": [],
   "source": [
    "help(plugin.create_model_component)"
   ]
  },
  {
   "cell_type": "code",
   "execution_count": null,
   "id": "f2d82030",
   "metadata": {},
   "outputs": [],
   "source": [
    "plugin.create_model_component('Const1D', 'C')\n",
    "plugin.create_model_component('Gaussian1D', 'G1')\n",
    "plugin.create_model_component('Gaussian1D', 'G2')\n",
    "plugin.create_model_component('Gaussian1D', 'G3')"
   ]
  },
  {
   "cell_type": "code",
   "execution_count": null,
   "id": "172e2741",
   "metadata": {},
   "outputs": [],
   "source": [
    "help(plugin.set_model_component)"
   ]
  },
  {
   "cell_type": "code",
   "execution_count": null,
   "id": "d378a7b0",
   "metadata": {},
   "outputs": [],
   "source": [
    "plugin.set_model_component('G1', 'mean', 2.268)\n",
    "plugin.set_model_component('G2', 'mean', 2.273)\n",
    "plugin.set_model_component('G3', 'mean', 2.280)\n",
    "\n",
    "plugin.set_model_component('G1', 'stddev', 0.001)\n",
    "plugin.set_model_component('G2', 'stddev', 0.001)\n",
    "plugin.set_model_component('G3', 'stddev', 0.001)"
   ]
  },
  {
   "cell_type": "code",
   "execution_count": null,
   "id": "584dc5ab",
   "metadata": {},
   "outputs": [],
   "source": [
    "model, spectrum = plugin.calculate_fit()"
   ]
  },
  {
   "cell_type": "code",
   "execution_count": null,
   "id": "59e042b6",
   "metadata": {},
   "outputs": [],
   "source": [
    "model"
   ]
  },
  {
   "cell_type": "code",
   "execution_count": null,
   "id": "e36384c6",
   "metadata": {},
   "outputs": [],
   "source": [
    "spectrum"
   ]
  },
  {
   "cell_type": "code",
   "execution_count": null,
   "id": "35956266",
   "metadata": {},
   "outputs": [],
   "source": [
    "plugin.get_model_component('G1')"
   ]
  },
  {
   "cell_type": "code",
   "execution_count": null,
   "id": "a13e5001",
   "metadata": {},
   "outputs": [],
   "source": []
  }
 ],
 "metadata": {
  "kernelspec": {
   "display_name": "Python 3 (ipykernel)",
   "language": "python",
   "name": "python3"
  },
  "language_info": {
   "codemirror_mode": {
    "name": "ipython",
    "version": 3
   },
   "file_extension": ".py",
   "mimetype": "text/x-python",
   "name": "python",
   "nbconvert_exporter": "python",
   "pygments_lexer": "ipython3",
   "version": "3.10.8"
  }
 },
 "nbformat": 4,
 "nbformat_minor": 5
}
