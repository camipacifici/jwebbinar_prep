{
 "cells": [
  {
   "cell_type": "markdown",
   "id": "15f52a93-71d4-42f8-be6a-06c57a3d093b",
   "metadata": {},
   "source": [
    "# RGB images with Imviz\n",
    "\n",
    "**Use case**: create RGB images using Imviz programmatically.<br>\n",
    "**Data**: Cartwheel Galaxy, NIRCam and MIRI Composite Image<br>\n",
    "**Tools**: jdaviz<br>\n",
    "**Cross-intrument**: Any imager<br>\n",
    "**Documentation**: This notebook is part of a STScI's larger [post-pipeline Data Analysis Tools Ecosystem](https://jwst-docs.stsci.edu/jwst-post-pipeline-data-analysis).<br>\n",
    "\n",
    "For additional resources, please review our provided full example notebooks maintained in the Jdaviz repository: https://github.com/spacetelescope/jdaviz/tree/main/notebooks"
   ]
  },
  {
   "cell_type": "markdown",
   "id": "b9cd9107-8213-4e61-9e59-f347e86fa32a",
   "metadata": {},
   "source": [
    "Import modules needed for this notebook:"
   ]
  },
  {
   "cell_type": "code",
   "execution_count": null,
   "id": "f303397e-c25c-46c4-8e09-83b8dc47064e",
   "metadata": {},
   "outputs": [],
   "source": [
    "import warnings\n",
    "\n",
    "from astroquery.mast import Observations\n",
    "\n",
    "import jdaviz\n",
    "from jdaviz import Imviz\n",
    "\n",
    "from IPython.display import Image"
   ]
  },
  {
   "cell_type": "code",
   "execution_count": null,
   "id": "72f2f178-7ba1-46c2-aaf7-d9cc08c52638",
   "metadata": {},
   "outputs": [],
   "source": [
    "print(jdaviz.__version__)"
   ]
  },
  {
   "cell_type": "markdown",
   "id": "779a18b5-f0fd-4049-81d4-46914dd1087b",
   "metadata": {},
   "source": [
    "## Download images and load Imviz\n",
    "\n",
    "We create an Imviz instance and grab the default viewer instance as well:"
   ]
  },
  {
   "cell_type": "code",
   "execution_count": null,
   "id": "607d8255-065e-41ec-abdb-5bdec6de49bd",
   "metadata": {},
   "outputs": [],
   "source": [
    "imviz = Imviz()"
   ]
  },
  {
   "cell_type": "markdown",
   "id": "43a9a241-816e-4bc6-a43a-f7bc25defdb7",
   "metadata": {},
   "source": [
    "Let's download some data. The images are quite large. The download will take a few minutes."
   ]
  },
  {
   "cell_type": "code",
   "execution_count": null,
   "id": "89d25666-2619-4542-adbc-e2a19a80964c",
   "metadata": {},
   "outputs": [],
   "source": [
    "# on the platform\n",
    "data_dir = '/home/shared/preloaded-fits/jwebbinar_37'\n",
    "\n",
    "# on your local machine\n",
    "# data_dir = '.'\n",
    "\n",
    "files = [\n",
    "    'jw02727-o002_t062_nircam_clear-f090w_i2d.fits',\n",
    "    'jw02727-o002_t062_nircam_clear-f150w_i2d.fits',\n",
    "    'jw02727-o002_t062_nircam_clear-f200w_i2d.fits',\n",
    "    'jw02727-o002_t062_nircam_clear-f277w_i2d.fits',\n",
    "    'jw02727-o002_t062_nircam_clear-f356w_i2d.fits',\n",
    "    'jw02727-o002_t062_nircam_clear-f444w_i2d.fits',\n",
    "    'jw02727-o007_t062_miri_f770w_i2d.fits',\n",
    "    'jw02727-o007_t062_miri_f1000w_i2d.fits',\n",
    "    'jw02727-o007_t062_miri_f1280w_i2d.fits',\n",
    "    'jw02727-o007_t062_miri_f1800w_i2d.fits'\n",
    "]"
   ]
  },
  {
   "cell_type": "markdown",
   "id": "bc148048-1f4d-4a2f-8c15-bc614c9cb2b5",
   "metadata": {},
   "source": [
    "Run the next cell if you need to download the files"
   ]
  },
  {
   "cell_type": "raw",
   "id": "7018d9b2-6b94-4eac-9329-c1562c189581",
   "metadata": {},
   "source": [
    "for fn in files:\n",
    "    uri = f\"mast:JWST/product/{fn}\"\n",
    "    result = Observations.download_file(uri, local_path=f'{data_dir}/{fn}')"
   ]
  },
  {
   "cell_type": "code",
   "execution_count": null,
   "id": "87b1f9cc-e67c-43a8-af1e-688f816c4904",
   "metadata": {},
   "outputs": [],
   "source": [
    "with warnings.catch_warnings():\n",
    "    warnings.simplefilter('ignore')\n",
    "    with imviz.batch_load():\n",
    "        for fn in files:\n",
    "            imviz.load_data(f'{data_dir}/{fn}', data_label=fn.split(\"_\")[-2])"
   ]
  },
  {
   "cell_type": "markdown",
   "id": "4dc677bb-c88a-4832-88b1-9b2a133b23da",
   "metadata": {},
   "source": [
    "Now, we can display Imviz."
   ]
  },
  {
   "cell_type": "code",
   "execution_count": null,
   "id": "e2cd0812-147a-44cb-9702-f5238bd26c52",
   "metadata": {},
   "outputs": [],
   "source": [
    "imviz.show()"
   ]
  },
  {
   "cell_type": "markdown",
   "id": "6da993e2-09db-43aa-b582-00ef2e085f2d",
   "metadata": {},
   "source": [
    "## Align by WCS\n",
    "https://jdaviz.readthedocs.io/en/latest/imviz/plugins.html#orientation\n",
    "\n",
    "The first thing you will probably notice is that the image doesn't take up the entire viewer area. If you press the \"b\" key to blink to the next image, you will see that this image is zoomed correctly by default. The odd default zoom on the other is because the images are linked by pixel when loaded. We can instead link by WCS (world coordinates) so that the images will be properly aligned."
   ]
  },
  {
   "cell_type": "markdown",
   "id": "ed74c9e0-b9be-4ed9-8d07-0c6467f08424",
   "metadata": {},
   "source": [
    "There are two ways to link in Imviz. Firstly, you can do it from within the UI through the Orientation plugin by selecting \"WCS\". Either open the plugin tray to the right and search for \"Orientation\", or execute the following cell to open it automatically:"
   ]
  },
  {
   "cell_type": "raw",
   "id": "19e1a482-b4c3-47c7-9d98-1bc864450d70",
   "metadata": {},
   "source": [
    "imviz.plugins['Orientation'].open_in_tray()"
   ]
  },
  {
   "cell_type": "markdown",
   "id": "6031f7ab-4b7e-4ae2-86a0-035b9e7ee0e0",
   "metadata": {},
   "source": [
    "You can also set the link type from the API using the Imviz Helper:"
   ]
  },
  {
   "cell_type": "code",
   "execution_count": null,
   "id": "423b82a0-da1a-4af8-a9c7-e5e20500c6e4",
   "metadata": {},
   "outputs": [],
   "source": [
    "# Link images by WCS (without affine approximation)\n",
    "imviz.plugins['Orientation'].link_type = 'WCS'\n",
    "imviz.plugins['Orientation'].wcs_use_affine = False"
   ]
  },
  {
   "cell_type": "markdown",
   "id": "890bbc9b-0b28-4734-ad65-e50997569e3e",
   "metadata": {},
   "source": [
    "Now if you blink, the images should be aligned"
   ]
  },
  {
   "cell_type": "markdown",
   "id": "8e942039-ed96-4374-888b-3a95085cbd01",
   "metadata": {},
   "source": [
    "## Plot Options\n",
    "The Plot Options plugins allows you to modify how your image appears. Here, we demonstrate how to use it to create RGB images."
   ]
  },
  {
   "cell_type": "markdown",
   "id": "ef280fbd-b255-47f6-abf2-6e8d7f9e24e7",
   "metadata": {},
   "source": [
    "To show the Plot Options plugin, either search in the plugin bar, or execute the following cell to open it automatically:"
   ]
  },
  {
   "cell_type": "code",
   "execution_count": null,
   "id": "7ac5c2a7-9e95-4eb1-8286-b91e23d9d6ec",
   "metadata": {},
   "outputs": [],
   "source": [
    "plot_options = imviz.plugins['Plot Options']"
   ]
  },
  {
   "cell_type": "markdown",
   "id": "f65b2f1f-62b1-45a1-a26d-24df3d708c9a",
   "metadata": {},
   "source": [
    "We can use the the Assign RGB Preset button, which can be triggered in the UI or with the following cell."
   ]
  },
  {
   "cell_type": "code",
   "execution_count": null,
   "id": "46940acd-e867-4ee7-8ee7-b1214762bd66",
   "metadata": {},
   "outputs": [],
   "source": [
    "plot_options.image_color_mode = 'One color per layer'\n",
    "plot_options.apply_RGB_presets()"
   ]
  },
  {
   "cell_type": "markdown",
   "id": "05c0187c-38fb-499f-ba12-dcafb0209b11",
   "metadata": {},
   "source": [
    "We just need to adjust the stretch min and max!"
   ]
  },
  {
   "cell_type": "code",
   "execution_count": null,
   "id": "3c2741a3-56a7-4b75-8d10-e8fa7527fe86",
   "metadata": {},
   "outputs": [],
   "source": [
    "plot_options.layer = 'clear-f090w[DATA]'\n",
    "plot_options.stretch_vmin = 0.17596011787551227\n",
    "plot_options.stretch_vmax = 0.3551423841838619\n",
    "plot_options.image_contrast = 1.32\n",
    "plot_options.image_bias = 0.99\n",
    "\n",
    "plot_options.layer = 'clear-f150w[DATA]'\n",
    "plot_options.stretch_vmin = 0.18871996703302496\n",
    "plot_options.stretch_vmax = 0.6705116732685391\n",
    "plot_options.image_contrast = 1.51\n",
    "plot_options.image_bias = 0.74\n",
    "\n",
    "plot_options.layer = 'clear-f200w[DATA]'\n",
    "plot_options.stretch_vmin = 0.1151172290207928\n",
    "plot_options.stretch_vmax = 0.7942854021068402\n",
    "plot_options.image_contrast = 1.02\n",
    "plot_options.image_bias = 0.55\n",
    "\n",
    "plot_options.layer = 'clear-f277w[DATA]'\n",
    "plot_options.stretch_vmin = 0.112\n",
    "plot_options.stretch_vmax = 1.0183980429172423\n",
    "plot_options.image_contrast = 1.0\n",
    "plot_options.image_bias = 0.5\n",
    "\n",
    "plot_options.layer = 'clear-f356w[DATA]'\n",
    "plot_options.stretch_vmin = 0.0812369933694993\n",
    "plot_options.stretch_vmax = 0.6180504419892486\n",
    "plot_options.image_contrast = 1.0\n",
    "plot_options.image_bias = 0.58\n",
    "\n",
    "plot_options.layer = 'clear-f444w[DATA]'\n",
    "plot_options.stretch_vmin = 0.30899245276576615\n",
    "plot_options.stretch_vmax = 0.6400538735820935\n",
    "plot_options.image_contrast = 1.0\n",
    "plot_options.image_bias = 0.65\n",
    "\n",
    "plot_options.layer = 'f770w[DATA]'\n",
    "plot_options.stretch_vmin = 5.9726240229362215\n",
    "plot_options.stretch_vmax = 7.878922748915012\n",
    "plot_options.image_contrast = 1.0\n",
    "plot_options.image_bias = 0.68\n",
    "\n",
    "plot_options.layer = 'f1000w[DATA]'\n",
    "plot_options.stretch_vmin = 9.42733217069569\n",
    "plot_options.stretch_vmax = 30.0\n",
    "plot_options.image_contrast = 1.08\n",
    "plot_options.image_bias = 0.87\n",
    "\n",
    "plot_options.layer = 'f1280w[DATA]'\n",
    "plot_options.stretch_vmin = 29.91815698994846\n",
    "plot_options.stretch_vmax = 34.196719855288414\n",
    "plot_options.image_contrast = 1.34\n",
    "plot_options.image_bias = 0.82\n",
    "\n",
    "plot_options.layer = 'f1800w[DATA]'\n",
    "plot_options.stretch_vmin = 92.0\n",
    "plot_options.stretch_vmax = 104.61880288351134\n",
    "plot_options.image_contrast = 2.39\n",
    "plot_options.image_bias = 0.88"
   ]
  },
  {
   "cell_type": "markdown",
   "id": "7e22c161-9ece-4c8e-b74b-93ac05f3baef",
   "metadata": {},
   "source": [
    "Let's export the image we just made. This is a placeholder for when the export in the plugin with get the right path."
   ]
  },
  {
   "cell_type": "code",
   "execution_count": null,
   "id": "f51abc79-3999-4b02-af01-df1b4c730dab",
   "metadata": {},
   "outputs": [],
   "source": [
    "exportimg = imviz.plugins['Export Plot']\n",
    "exportimg.viewer = 'imviz-0'\n",
    "exportimg.filename = 'carina_rgb_preset.png'\n",
    "exportimg.export()"
   ]
  },
  {
   "cell_type": "markdown",
   "id": "e0878a15-cbb0-4038-8a4e-882beeea8091",
   "metadata": {},
   "source": [
    "<img style=\"float: right;\" src=\"https://raw.githubusercontent.com/spacetelescope/notebooks/master/assets/stsci_pri_combo_mark_horizonal_white_bkgd.png\" alt=\"Space Telescope Logo\" width=\"200px\"/>"
   ]
  },
  {
   "cell_type": "markdown",
   "id": "66059bce-bf3b-456f-8cc2-535855099625",
   "metadata": {},
   "source": [
    "Notebook created by Kyle Conroy and adapted by Jesse Averbukh and Camilla Pacifici."
   ]
  }
 ],
 "metadata": {
  "kernelspec": {
   "display_name": "Python 3 (ipykernel)",
   "language": "python",
   "name": "python3"
  },
  "language_info": {
   "codemirror_mode": {
    "name": "ipython",
    "version": 3
   },
   "file_extension": ".py",
   "mimetype": "text/x-python",
   "name": "python",
   "nbconvert_exporter": "python",
   "pygments_lexer": "ipython3",
   "version": "3.10.14"
  }
 },
 "nbformat": 4,
 "nbformat_minor": 5
}
