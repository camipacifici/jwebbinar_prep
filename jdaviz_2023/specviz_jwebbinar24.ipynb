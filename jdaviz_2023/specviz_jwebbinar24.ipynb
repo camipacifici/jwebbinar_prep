{
 "cells": [
  {
   "cell_type": "markdown",
   "id": "86210554-270e-4758-8de1-8dd7409b6d18",
   "metadata": {},
   "source": [
    "### The PI for this data is Klaus M. Pontoppidan and the Program ID is 02736.\n",
    "\n",
    "\n",
    "\n",
    "\n",
    "# The section below shows what the notebook looks like when it is downloaded from MAST"
   ]
  },
  {
   "cell_type": "markdown",
   "id": "83b70b2e",
   "metadata": {},
   "source": [
    "# Jdaviz Notebook\n",
    "This is an auto-generated Jupyter notebook to access the JWST file(s) **jw02736-o007_s09239_nirspec_f170lp-g235m_x1d.fits** using the\n",
    "[Jdaviz](https://jdaviz.readthedocs.io/en/latest/) Python package.  It attempts to download the data\n",
    "and open it in the Jdaviz [Specviz](https://jdaviz.readthedocs.io/en/latest/specviz/) viztool.\n",
    "\n",
    "### Required Packages\n",
    "This notebook requires the `jdaviz` and `astroquery` Python packages.  It requires `jdaviz >= 2.3.0`.\n",
    "To install or update `jdaviz`, please run:\n",
    "\n",
    "`pip install -U jdaviz`\n",
    "\n",
    "to install the latest version.  This notebook attempts to download JWST data using\n",
    "[astroquery](https://astroquery.readthedocs.io/en/latest/), and requires `astroquery >= 0.4.3`.\n",
    "To install or update `astroquery`, please run:\n",
    "\n",
    "`pip install -U astroquery`\n",
    "\n",
    "### MAST Authentication\n",
    "If the data are not public, it will attempt to authenticate using your MAST API authentication token. If you do not have one,\n",
    "see [MAST Auth Info](https://auth.mast.stsci.edu/info) to learn how to create a new token. After creating a valid auth token,\n",
    "set it to a new environment variable called **MAST_API_TOKEN**.  You can do this either in this notebook using\n",
    "[os.environ](https://docs.python.org/3/library/os.html#os.environ) or by setting the environment variable in your terminal shell\n",
    "environment and restarting this notebook.\n",
    "\n",
    "### Running this notebook\n",
    "To open this notebook, open a terminal and navigate to the directory where this file is located.  Run the following command:\n",
    "\n",
    "`jupyter notebook jdaviz_notebook_jw02736-o007_s09239_nirspec_f170lp-g235m_x1d.fits.ipynb`\n",
    "\n",
    "Once open you can run the individual cells below by selecting a cell and hitting `shift+enter`.  Or run all cells by\n",
    "clicking \"Cell -> Run All\" from the menu above.\n"
   ]
  },
  {
   "cell_type": "raw",
   "id": "a2385619-b6a4-4a14-b7a5-734de089581d",
   "metadata": {},
   "source": [
    "import os\n",
    "from astroquery.mast import Observations\n",
    "from jdaviz import Specviz"
   ]
  },
  {
   "cell_type": "raw",
   "id": "e3c5933e-615c-4191-b2f4-4cc71857f6b3",
   "metadata": {},
   "source": [
    "# get authentication token and login\n",
    "auth_token = os.environ.get('MAST_API_TOKEN', None)\n",
    "Observations.login(auth_token)\n",
    "\n",
    "# download the data file\n",
    "uri = f\"mast:jwst/product/jw02736-o007_s09239_nirspec_f170lp-g235m_x1d.fits\"\n",
    "result = Observations.download_file(uri, base_url='https://mast.stsci.edu/api/v0.1/Download/file')\n",
    "if result[0] == 'ERROR':\n",
    "    raise RuntimeError('Error retrieving file: ' + result[1])\n",
    "    "
   ]
  },
  {
   "cell_type": "raw",
   "id": "ac301181-1449-4faa-96e1-99b98d2f80b3",
   "metadata": {},
   "source": [
    "# construct the local filepath to load into Jdaviz\n",
    "local = os.path.join(os.path.abspath('.'), uri.rsplit('/', 1)[-1])\n"
   ]
  },
  {
   "cell_type": "raw",
   "id": "e3da70e8-a668-4533-b23d-f5ab51331695",
   "metadata": {},
   "source": [
    "# load the data file into the helper jdaviz class and display the application\n",
    "h = Specviz()\n",
    "h.load_spectrum(local)\n",
    "h.app"
   ]
  },
  {
   "cell_type": "markdown",
   "id": "02d63927-d058-4b6f-9202-cff7903d61c4",
   "metadata": {},
   "source": [
    "# We now move to our Specviz demo"
   ]
  },
  {
   "cell_type": "markdown",
   "id": "44afd56f-b8f8-4982-8b16-e2a1a6dd8060",
   "metadata": {},
   "source": [
    "What you see above is the default notebook generated when it is downloaded from MAST. What I will show now are some of the ways you can programmatically interact with Specviz from within the same notebook. We will look at the following plugins: Line Analysis, Model Fitting, and Line Lists.\n",
    "<br><br>\n",
    "First, let's import the packages we need and then create a new instance of Specviz in sidecar mode."
   ]
  },
  {
   "cell_type": "code",
   "execution_count": null,
   "id": "87e9b787-2841-4149-8837-9f86474f4503",
   "metadata": {},
   "outputs": [],
   "source": [
    "import os\n",
    "\n",
    "from glue.core.roi import XRangeROI\n",
    "from glue.core.edit_subset_mode import OrMode, NewMode\n",
    "\n",
    "from jdaviz import Specviz"
   ]
  },
  {
   "cell_type": "code",
   "execution_count": null,
   "id": "5456d061-44c0-4f73-a9c4-8d978fe22102",
   "metadata": {},
   "outputs": [],
   "source": [
    "data_path = \"/home/shared/preloaded-fits/jdaviz_data/\"\n",
    "fn = \"jw02736-o007_s09239_nirspec_f170lp-g235m_x1d.fits\"\n",
    "nirspec_spectrum_path = os.path.join(data_path, fn)"
   ]
  },
  {
   "cell_type": "code",
   "execution_count": null,
   "id": "e9c6e496-bf15-459d-aaf6-e6bee16799c0",
   "metadata": {},
   "outputs": [],
   "source": [
    "# load the data file into the helper Jdaviz class and display the application\n",
    "specviz = Specviz()\n",
    "specviz.load_spectrum(nirspec_spectrum_path)\n",
    "specviz.show_in_sidecar()"
   ]
  },
  {
   "cell_type": "markdown",
   "id": "202280b3-7713-48d9-9bca-a0628ebf2845",
   "metadata": {},
   "source": [
    "Now we will create a subset from 2.27 microns to 2.277 microns to highlight the H alpha emission line."
   ]
  },
  {
   "cell_type": "code",
   "execution_count": null,
   "id": "7f779cf7-52ed-43ec-8cdb-0c608a9003bc",
   "metadata": {},
   "outputs": [],
   "source": [
    "# API call to set region of interest (or \"subset\" in Jdaviz)\n",
    "\n",
    "viewer = specviz.app.get_viewer(specviz._default_spectrum_viewer_reference_name)\n",
    "viewer.apply_roi(XRangeROI(2.27, 2.277))\n",
    "\n",
    "# Because subsets are linked to data, we can have them interact in interesting ways"
   ]
  },
  {
   "cell_type": "markdown",
   "id": "91afcbf0-43ad-4995-a0f6-0432e5151a58",
   "metadata": {},
   "source": [
    "## What is an API? What is a subset? What is linking?\n",
    "\n",
    "<b>API</b> stands for Application Programming Interface. API allows for code to interact with the application and retrieve information that can be used with other programming tools.\n",
    "\n",
    "A <b>subset</b> is a geometrical region of interest that contains the parts of the data that are in the bounds of the region. This subset can be changed using the toolbar at the top of the UI.\n",
    "\n",
    "More information on the selection framework: https://docs.glueviz.org/en/stable/developer_guide/selection.html\n",
    "\n",
    "<b>Linking</b> is a bit of a tricky subject and a frequent source of pain for developers. Linking describes how multiple data are compatible with each other. For example, two spectra with that same spectral axis units can be \"linked\" along their spectral axis. Now, those spectra can be visualized in Specviz at the same time and we are able to do interactive analysis with them together.\n",
    "\n",
    "More information on linking: https://docs.glueviz.org/en/stable/developer_guide/linking.html"
   ]
  },
  {
   "cell_type": "markdown",
   "id": "39c7d1ee-eabe-467a-a0b6-312e75bd1ad3",
   "metadata": {},
   "source": [
    "### Helper API\n",
    "Each configuration in Jdaviz has a helper class that gives a user access to certain convenience methods. For example, the Specviz helper (in this notebook, the helper can be accessed with the variable `specviz`) has methods like `x_limits()` and `y_limits()` which change the x and y axis limits of the viewer, respectively. Another is `get_spectra()`, which returns a dictionary of the data in Specviz. If you ever need a reminder of the API helper methods, just run the following cell. This works with the helper methods of all configurations, so `dir(cubeviz)`, `dir(imviz)`, `dir(mosviz)` are all valid."
   ]
  },
  {
   "cell_type": "code",
   "execution_count": null,
   "id": "37b4474e-4f80-4ff9-ae05-526ca2e3d276",
   "metadata": {},
   "outputs": [],
   "source": [
    "specviz.x_limits(2.1, 2.43)\n",
    "specviz.y_limits(0.0, 9.0e-1)"
   ]
  },
  {
   "cell_type": "code",
   "execution_count": null,
   "id": "d6edf066-2147-4c6e-9b51-d5f44a0e55f2",
   "metadata": {},
   "outputs": [],
   "source": [
    "print(dir(specviz))"
   ]
  },
  {
   "cell_type": "markdown",
   "id": "3a8c2b7a-9bcb-49ab-87a8-1fa1079778c8",
   "metadata": {},
   "source": [
    "# Using plugins"
   ]
  },
  {
   "cell_type": "markdown",
   "id": "a10ad93f-de64-4429-8c79-aeb39e4a48e5",
   "metadata": {},
   "source": [
    "## Line analysis"
   ]
  },
  {
   "cell_type": "markdown",
   "id": "f3689b49-ced4-4152-852e-ded08cd9c4d5",
   "metadata": {},
   "source": [
    "Next we will look at how to return specutils analysis for a single spectral line. We will use the region we created earlier, \"Subset 1\" as our region of interest.\n",
    "\n",
    "A linear continuum is fitted and subtracted (divided for the case of equivalenth width) before computing the line statistics. By default, the continuum is fitted to a region surrounding the select line.\n",
    "\n",
    "To read more, please go to https://jdaviz.readthedocs.io/en/latest/specviz/plugins.html#line-analysis"
   ]
  },
  {
   "cell_type": "code",
   "execution_count": null,
   "id": "cf2d8b3c-fccd-4af0-94fc-1db73fba93b7",
   "metadata": {},
   "outputs": [],
   "source": [
    "la_plugin = specviz.plugins['Line Analysis']\n",
    "dir(la_plugin)"
   ]
  },
  {
   "cell_type": "markdown",
   "id": "3a168817-e659-4a1b-93be-fe8d44ee5447",
   "metadata": {},
   "source": [
    "Here we see what API is available to us using the `specviz.plugins` attribute, specifically with the Line Analysis plugin. We can visualize the continuum, change the width, open_in_tray (open the Line Analysis plugin in the instance of jdaviz), change the dataset and region, and get the results."
   ]
  },
  {
   "cell_type": "code",
   "execution_count": null,
   "id": "f1b6cdea-2651-46be-928e-e5591de98fb8",
   "metadata": {},
   "outputs": [],
   "source": [
    "la_plugin.open_in_tray()"
   ]
  },
  {
   "cell_type": "markdown",
   "id": "6c3cc434-c87c-4f56-8e00-829b325d0741",
   "metadata": {},
   "source": [
    "Create a subset to represent the continuum"
   ]
  },
  {
   "cell_type": "code",
   "execution_count": null,
   "id": "47254339-f9e4-49a7-a5d8-9c7ffc0ab4a3",
   "metadata": {},
   "outputs": [],
   "source": [
    "specviz.app.session.edit_subset_mode.mode = NewMode\n",
    "\n",
    "viewer.apply_roi(XRangeROI(2.24, 2.264))\n",
    "specviz.app.session.edit_subset_mode.mode = OrMode\n",
    "viewer.apply_roi(XRangeROI(2.29, 2.32))\n"
   ]
  },
  {
   "cell_type": "code",
   "execution_count": null,
   "id": "da3fb3fd-78b1-4445-a952-7f29fc5096f1",
   "metadata": {},
   "outputs": [],
   "source": [
    "la_plugin.spectral_subset"
   ]
  },
  {
   "cell_type": "code",
   "execution_count": null,
   "id": "4ab696e8-ab39-46dc-9896-169df61dd6f0",
   "metadata": {},
   "outputs": [],
   "source": [
    "la_plugin.continuum"
   ]
  },
  {
   "cell_type": "code",
   "execution_count": null,
   "id": "a37dc85b-440f-4581-a440-f24506931aac",
   "metadata": {},
   "outputs": [],
   "source": [
    "la_plugin.spectral_subset = 'Subset 1'"
   ]
  },
  {
   "cell_type": "code",
   "execution_count": null,
   "id": "b83b0b2c-37c2-400b-8ef0-8928cea10128",
   "metadata": {},
   "outputs": [],
   "source": [
    "la_plugin.continuum = 'Subset 2'"
   ]
  },
  {
   "cell_type": "code",
   "execution_count": null,
   "id": "d08a178e-ebe9-4dfb-b402-b38dee264084",
   "metadata": {},
   "outputs": [],
   "source": [
    "la_plugin.get_results()"
   ]
  },
  {
   "cell_type": "markdown",
   "id": "055026f6-2b64-45a2-a45d-8506eee4945d",
   "metadata": {},
   "source": [
    "## Model fitting"
   ]
  },
  {
   "cell_type": "markdown",
   "id": "e83af94d-2816-4e44-bbac-dd1f502f9a77",
   "metadata": {},
   "source": [
    "Next we will look at the Model Fitting plugin. This plugin fits astropy models to the spectrum and region of interest we select.\n",
    "\n",
    "More on Model Fitting can be found here https://jdaviz.readthedocs.io/en/latest/specviz/plugins.html#model-fitting"
   ]
  },
  {
   "cell_type": "code",
   "execution_count": null,
   "id": "0a55d39d-bfa8-43da-8490-5a46d17ff36b",
   "metadata": {},
   "outputs": [],
   "source": [
    "mf_plugin = specviz.plugins['Model Fitting']\n",
    "dir(mf_plugin)"
   ]
  },
  {
   "cell_type": "markdown",
   "id": "223b5523-1170-41ec-9950-0acce9fe7759",
   "metadata": {},
   "source": [
    "Create a subset to cover the entire gaussian triplet + continuum"
   ]
  },
  {
   "cell_type": "code",
   "execution_count": null,
   "id": "642b882b-ec0a-4597-8e27-744f4771a922",
   "metadata": {},
   "outputs": [],
   "source": [
    "specviz.app.session.edit_subset_mode.mode = NewMode\n",
    "\n",
    "viewer.apply_roi(XRangeROI(2.24, 2.32))\n"
   ]
  },
  {
   "cell_type": "code",
   "execution_count": null,
   "id": "fba77e4b-0d82-4f08-aa31-68d9e475a365",
   "metadata": {},
   "outputs": [],
   "source": [
    "mf_plugin.open_in_tray()"
   ]
  },
  {
   "cell_type": "code",
   "execution_count": null,
   "id": "d922d22d-663d-4620-b0d0-e016c2bca802",
   "metadata": {},
   "outputs": [],
   "source": [
    "mf_plugin.spectral_subset = 'Subset 3'\n",
    "mf_plugin.model_component = 'Linear1D'\n",
    "mf_plugin.create_model_component()"
   ]
  },
  {
   "cell_type": "code",
   "execution_count": null,
   "id": "c940ebf9-e957-4511-8797-2d184530c451",
   "metadata": {},
   "outputs": [],
   "source": [
    "mf_plugin.spectral_subset = 'Subset 3'\n",
    "mf_plugin.model_component = 'Gaussian1D'\n",
    "mf_plugin.create_model_component()"
   ]
  },
  {
   "cell_type": "code",
   "execution_count": null,
   "id": "daac68e7-e998-414c-897c-d0b762f122eb",
   "metadata": {},
   "outputs": [],
   "source": [
    "mf_plugin.spectral_subset = 'Subset 3'\n",
    "mf_plugin.model_component = 'Gaussian1D'\n",
    "mf_plugin.create_model_component()"
   ]
  },
  {
   "cell_type": "code",
   "execution_count": null,
   "id": "8a43bf79-7757-4a07-b011-3ae711b925bb",
   "metadata": {},
   "outputs": [],
   "source": [
    "mf_plugin.spectral_subset = 'Subset 3'\n",
    "mf_plugin.model_component = 'Gaussian1D'\n",
    "mf_plugin.create_model_component()"
   ]
  },
  {
   "cell_type": "code",
   "execution_count": null,
   "id": "2257cbdc-8903-4adb-88d0-dbfdcbe04ef5",
   "metadata": {},
   "outputs": [],
   "source": [
    "mf_plugin.set_model_component('G', 'mean', value=2.26789)\n",
    "mf_plugin.set_model_component('G', 'stddev', value=0.001)\n"
   ]
  },
  {
   "cell_type": "code",
   "execution_count": null,
   "id": "f9f60e60-70de-4da4-bb76-45729c1aa540",
   "metadata": {},
   "outputs": [],
   "source": [
    "mf_plugin.set_model_component('G_1', 'mean', value=2.27212)\n",
    "mf_plugin.set_model_component('G_1', 'stddev', value=0.001)\n"
   ]
  },
  {
   "cell_type": "code",
   "execution_count": null,
   "id": "bf085e85-6ee5-473d-9fdb-70e788b95a15",
   "metadata": {},
   "outputs": [],
   "source": [
    "mf_plugin.set_model_component('G_2', 'mean', value=2.28024)\n",
    "mf_plugin.set_model_component('G_2', 'stddev', value=0.001)\n"
   ]
  },
  {
   "cell_type": "code",
   "execution_count": null,
   "id": "a8b6d2f1-3df1-4e03-a627-fb71cf27a7bd",
   "metadata": {},
   "outputs": [],
   "source": [
    "mf_plugin.calculate_fit()"
   ]
  },
  {
   "cell_type": "markdown",
   "id": "37682e96-0dd3-437f-a0b8-8b5aa7616282",
   "metadata": {},
   "source": [
    "## Line list"
   ]
  },
  {
   "cell_type": "markdown",
   "id": "cf7991dc-c62f-4fd9-957b-c4b60472717a",
   "metadata": {},
   "source": [
    "The Line List plugin allows a user to plot line wavelengths from a preset or create custom lines.\n",
    "\n",
    "For more information on the Line List plugin, please go to https://jdaviz.readthedocs.io/en/latest/specviz/plugins.html#line-lists"
   ]
  },
  {
   "cell_type": "code",
   "execution_count": null,
   "id": "9ee20c93-cd91-4d71-a9c2-d3b70ddbce83",
   "metadata": {},
   "outputs": [],
   "source": [
    "ll_plugin = specviz.plugins['Line Lists']\n",
    "ll_plugin.open_in_tray()"
   ]
  },
  {
   "cell_type": "code",
   "execution_count": null,
   "id": "5cd8094f-fa33-4a4b-a0b8-21f16a8c76ad",
   "metadata": {},
   "outputs": [],
   "source": [
    "specviz.available_linelists"
   ]
  },
  {
   "cell_type": "code",
   "execution_count": null,
   "id": "ccbae6b7-242b-4443-b030-25fa696adf41",
   "metadata": {},
   "outputs": [],
   "source": [
    "specviz.load_line_list('Galactic 2000A-11000A')"
   ]
  },
  {
   "cell_type": "code",
   "execution_count": null,
   "id": "e547419f-30e7-4854-9933-5da68decadf3",
   "metadata": {},
   "outputs": [],
   "source": [
    "specviz.plot_spectral_line('H a')"
   ]
  },
  {
   "cell_type": "code",
   "execution_count": null,
   "id": "fe52387d-58e4-48b9-a527-32aee71564da",
   "metadata": {},
   "outputs": [],
   "source": [
    "specviz.set_redshift(2.4636274340926207)"
   ]
  },
  {
   "cell_type": "code",
   "execution_count": null,
   "id": "a6aa03bd-0467-4809-b9da-a9fab7306112",
   "metadata": {},
   "outputs": [],
   "source": []
  }
 ],
 "metadata": {
  "kernelspec": {
   "display_name": "Python 3 (ipykernel)",
   "language": "python",
   "name": "python3"
  },
  "language_info": {
   "codemirror_mode": {
    "name": "ipython",
    "version": 3
   },
   "file_extension": ".py",
   "mimetype": "text/x-python",
   "name": "python",
   "nbconvert_exporter": "python",
   "pygments_lexer": "ipython3",
   "version": "3.9.16"
  }
 },
 "nbformat": 4,
 "nbformat_minor": 5
}
