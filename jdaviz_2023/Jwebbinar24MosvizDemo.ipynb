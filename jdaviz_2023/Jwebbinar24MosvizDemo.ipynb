{
 "cells": [
  {
   "cell_type": "markdown",
   "id": "bd05f21a",
   "metadata": {},
   "source": [
    "# JWebbinar 24 Demonstration of Mosviz\n",
    "\n",
    "Welcome to JWST Data Analysis Tools (JDAT) demonstration of Mosviz, a Multi-Object Spectrograph visualziation tool built atop the Jdaviz framework. This notebook will demonstrate some of the features we've built into Mosviz to facilitate the specialized usecase of MOS analysis. To learn more about Mosviz, see our [Mosviz Documentation](https://jdaviz.readthedocs.io/en/latest/mosviz/index.html). To learn more about the Jdaviz framework and how you can build your own tool for your usecase, see our [Jdaviz Documentation](https://jdaviz.readthedocs.io/)\n",
    "\n",
    "The below dataset is a real JWST observation from the Early Release Science (ERS) program 1324. The Abell 2744 Cluster was observed using NIRCam, NIRISS, and NIRSpec. The following demonstration explores the NIRISS Wide Field Slitless Spectroscopy dataset observed. For more information, see more, see the homepage of the ERS program: [Through the Looking GLASS: A JWST Exploration of Galaxy Formation and Evolution from Cosmic Dawn to Present Day](https://www.stsci.edu/jwst/science-execution/approved-programs/dd-ers/program-1324)"
   ]
  },
  {
   "cell_type": "code",
   "execution_count": null,
   "id": "991510f9",
   "metadata": {},
   "outputs": [],
   "source": [
    "# Imports\n",
    "from astropy.utils.data import download_file\n",
    "import pathlib\n",
    "import tempfile\n",
    "import warnings\n",
    "from zipfile import ZipFile\n",
    "\n",
    "from jdaviz import Mosviz, Specviz2d\n",
    "\n",
    "warnings.simplefilter('ignore')"
   ]
  },
  {
   "cell_type": "markdown",
   "id": "ed693542",
   "metadata": {},
   "source": [
    "## Starting Mosviz,\n",
    "First, we'll load up Mosviz and display the window. This window will initially be empty since we haven't loaded our data just yet"
   ]
  },
  {
   "cell_type": "code",
   "execution_count": null,
   "id": "8aba9a98",
   "metadata": {
    "scrolled": false
   },
   "outputs": [],
   "source": [
    "mosviz = Mosviz()\n",
    "mosviz.show(loc=\"sidecar\")"
   ]
  },
  {
   "cell_type": "markdown",
   "id": "a5cb718b",
   "metadata": {},
   "source": [
    "## Downloading data\n",
    "Now we'll download our dataset produced by the GLASS observation. GLASS was observed in three NIRISS filters: F115W, F150W, and F200W. This demonstration explores the F115W observation.\n",
    "\n",
    "For the Jwebbinar, we have preloaded your data onto our compute platform, but in the event you are interested in downloading it for yourself, we've also included a cell block here to download the data. "
   ]
  },
  {
   "cell_type": "code",
   "execution_count": null,
   "id": "221a5a16",
   "metadata": {},
   "outputs": [],
   "source": [
    "# Load our preloaded data\n",
    "data_dir = \"/home/shared/preloaded-fits/jdaviz_data\""
   ]
  },
  {
   "cell_type": "raw",
   "id": "56be3e91",
   "metadata": {},
   "source": [
    "# Or download our data online\n",
    "data_dir = tempfile.gettempdir()\n",
    "example_data = 'https://stsci.box.com/shared/static/pg8f2vyb6lvn4flfetpetsprkh30e5ud.zip'\n",
    "fn = download_file(example_data, cache=True)\n",
    "with ZipFile(fn, 'r') as sample_data_zip:\n",
    "    sample_data_zip.extractall(data_dir)\n",
    "\n",
    "level3_path = pathlib.Path(data_dir)\n",
    "data_dir = level3_path"
   ]
  },
  {
   "cell_type": "markdown",
   "id": "d0d441c1",
   "metadata": {},
   "source": [
    "## Load data into Mosviz\n",
    "We have developed a specific parser for NIRISS data for Mosviz. By specifying `instrument=\"niriss\"`, Mosviz will handle all the instrument specific parsing required to visualize NIRISS WFSS data. Once you see the table populated and the tool is no longer grayed-out, the dataset has been successfully loaded into Mosviz, and you should see the table populate with all the different targets above. "
   ]
  },
  {
   "cell_type": "code",
   "execution_count": null,
   "id": "8838003e",
   "metadata": {},
   "outputs": [],
   "source": [
    "mosviz.load_data(directory=f\"{data_dir}/115\", instrument=\"niriss\")"
   ]
  },
  {
   "cell_type": "markdown",
   "id": "54880bdc",
   "metadata": {},
   "source": [
    "Portions of the following UI demonstration will occur within the Mosviz App being displayed in Cell 2.\n",
    "\n",
    "## UI Tasks\n",
    "### Select target 158\n",
    "\n",
    "The Mosviz Table Viewer displays all of the different dispersed spectra cutouts for each target identified in the field of view. To switch between targets, you can click on the corresponding row. For this exercise, we'll be looking at the source with the identifer of 158. Navigate to this target using the table viewer.\n",
    "\n",
    "### Visually identify the emission feature\n",
    "You can find an assortment of tools in the Toolbox icon in the upper-left corner of each viewer. Amongst them you can find a series of pan/zoom tools, including a bidirectional and individual axis panning and zooming. Using these tools, zoom into the spectral feature around 1.4um in the 1D spectral viewer. As you zoom around, you will notice the first-of-many MOS features we've built into Mosviz: linked data viewers. As the field of view is adjusted in either the 1D or 2D spectral viewer, the other viewer will synchronously pan and zoom as well.\n",
    "\n",
    "To make the feature more visible in the 2D spectral viewer, we'll need to adjust the stretch to the correct levels. To do this, open the Plot Options menu, select the 2D spectrum viewer, then modify the stretch \"min\" value to 0 and the \"max\" value to 15.\n",
    "\n",
    "### Use the Specviz tools to identify the redshift\n",
    "One of the great strengths of the Jdaviz Framework is the cross-compatibility and availability of the plugins! The 1D viewer has all the same tools you saw during the Specviz demonstration. As such, we have access to the line-identification plugins here in Mosviz as well! Let's try to identify the redshift using the Line List plugin\n",
    "\n",
    "*Hint*: Hb (4861 Angstroms) and OIII (5007 Angstroms) should be visible\n",
    "\n",
    "### Extract the redshift from the table\n",
    "Once you've modified the redshift, you should see that the value of the redshift is automatically saved in a new column in the table viewer. We can get the redshifts of all of our targets via the API:"
   ]
  },
  {
   "cell_type": "code",
   "execution_count": null,
   "id": "e28cd63a",
   "metadata": {},
   "outputs": [],
   "source": [
    "mosviz.get_column('Redshift')"
   ]
  },
  {
   "cell_type": "markdown",
   "id": "9480dc8b",
   "metadata": {},
   "source": [
    "### Interacting with the Table\n",
    "#### Updating existing values\n",
    "Through the API, we have full control over the columns and can even set the Redshift directly through the table. Once executed, you should see the new redshift value is automatically picked up by the Line List plugin, and the graphed lines should automatically update.\n",
    "\n",
    "Be sure to update the row value with the one in your Mosviz instance that corresponds to target 158:"
   ]
  },
  {
   "cell_type": "code",
   "execution_count": null,
   "id": "9b46443b",
   "metadata": {},
   "outputs": [],
   "source": [
    "# Modify this variable to the row that contains target 158\n",
    "row = 91"
   ]
  },
  {
   "cell_type": "code",
   "execution_count": null,
   "id": "2bbb9b38",
   "metadata": {},
   "outputs": [],
   "source": [
    "mosviz.update_column('Redshift', 1.3182, row=row)"
   ]
  },
  {
   "cell_type": "markdown",
   "id": "48b99050",
   "metadata": {},
   "source": [
    "#### Custom Columns\n",
    "We even have the ability to add new columns and hide existing ones. For instance, if we wanted to take notes on specific targets, or flag targets for further analysis, we could make a custom \"Notes\" column:"
   ]
  },
  {
   "cell_type": "code",
   "execution_count": null,
   "id": "508d4275",
   "metadata": {},
   "outputs": [],
   "source": [
    "mosviz.add_column('Notes')\n",
    "mosviz.update_column('Notes', 'This target looks cool!', row=row)"
   ]
  },
  {
   "cell_type": "markdown",
   "id": "901abb66",
   "metadata": {},
   "source": [
    "Likewise, if we don't need these columns anymore, we can hide them:"
   ]
  },
  {
   "cell_type": "code",
   "execution_count": null,
   "id": "1ea5a4b3",
   "metadata": {},
   "outputs": [],
   "source": [
    "mosviz.hide_column('Notes')"
   ]
  },
  {
   "cell_type": "markdown",
   "id": "486962f6",
   "metadata": {},
   "source": [
    "## Deeper analysis with Specviz2D\n",
    "Mosviz is a great tool for quickly exploring a very large dataset, but let's say you wanted a deep dive into one of these particular sources? The great thing with working in the Jupyter ecosystem is we can extract all of our data out and use it however we want! This is a great time to introduce another tool in the Jdaviz ecosystem specifically created to analyze 2D spectra: Specviz2D! Let's pull out our data and load it into a new Specviz2D instance:"
   ]
  },
  {
   "cell_type": "code",
   "execution_count": null,
   "id": "6b2843ac",
   "metadata": {},
   "outputs": [],
   "source": [
    "spectra2d = mosviz.app.get_data_from_viewer('spectrum-2d-viewer', data_label='F115W Source 158 spec2d C')\n",
    "specviz2d = Specviz2d()\n",
    "specviz2d.load_data(spectrum_2d=spectra2d)\n",
    "specviz2d.show()"
   ]
  },
  {
   "cell_type": "markdown",
   "id": "b2e5d0ae",
   "metadata": {},
   "source": [
    "Please see the Specviz2D notebook for a detailed analysis of that configuration"
   ]
  },
  {
   "cell_type": "markdown",
   "id": "cc3f2a9c",
   "metadata": {},
   "source": [
    "<img style=\"float: right;\" src=\"https://raw.githubusercontent.com/spacetelescope/notebooks/master/assets/stsci_pri_combo_mark_horizonal_white_bkgd.png\" alt=\"Space Telescope Logo\" width=\"200px\"/>"
   ]
  }
 ],
 "metadata": {
  "kernelspec": {
   "display_name": "Python 3 (ipykernel)",
   "language": "python",
   "name": "python3"
  },
  "language_info": {
   "codemirror_mode": {
    "name": "ipython",
    "version": 3
   },
   "file_extension": ".py",
   "mimetype": "text/x-python",
   "name": "python",
   "nbconvert_exporter": "python",
   "pygments_lexer": "ipython3",
   "version": "3.10.7"
  }
 },
 "nbformat": 4,
 "nbformat_minor": 5
}
