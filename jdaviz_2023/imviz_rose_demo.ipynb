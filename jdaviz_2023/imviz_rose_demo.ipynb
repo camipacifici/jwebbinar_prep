{
 "cells": [
  {
   "cell_type": "markdown",
   "id": "17b4af6f",
   "metadata": {},
   "source": [
    "# Imviz Demonstration Notebook: Valentine 2023 Edition 🌹\n",
    "\n",
    "\n",
    "This notebook demonstrates the Imviz API in the Notebook setting. UI equivalents for these actions, as well as additional documentation about Imviz, can be found here: https://jdaviz.readthedocs.io/en/latest/imviz/\n",
    "\n",
    "For best experience, run this on Lab in dark mode. Split out the Imviz display window and put it to the right of the cells.\n",
    "\n",
    "<hr/>"
   ]
  },
  {
   "cell_type": "markdown",
   "id": "7c73155f-c062-461a-8ca7-0891ce142901",
   "metadata": {},
   "source": [
    "Import module(s) needed for this notebook."
   ]
  },
  {
   "cell_type": "code",
   "execution_count": null,
   "id": "0915bde6-e3cc-4038-aca1-c2ae852f7a69",
   "metadata": {},
   "outputs": [],
   "source": [
    "from regions import CirclePixelRegion, PixCoord\n",
    "from jdaviz import Imviz"
   ]
  },
  {
   "cell_type": "markdown",
   "id": "d1120d18-65a4-41ec-b831-bc3637718b90",
   "metadata": {},
   "source": [
    "We create an Imviz instance and grab the default viewer instance as well."
   ]
  },
  {
   "cell_type": "code",
   "execution_count": null,
   "id": "0e81c635-97eb-459c-bfc0-3136839c2844",
   "metadata": {},
   "outputs": [],
   "source": [
    "imviz = Imviz()\n",
    "viewer = imviz.default_viewer"
   ]
  },
  {
   "cell_type": "markdown",
   "id": "60eb5782-264f-4af4-bb6e-ae583398277d",
   "metadata": {},
   "source": [
    "Now we grab three [Spitzer/IRAC](https://irsa.ipac.caltech.edu/data/SPITZER/docs/irac/) images of [NGC 7129](https://www.nasa.gov/vision/universe/starsgalaxies/spitzer_rosy_valentine.html): *Located 3,330 light-years away in the constellation Cepheus and spanning 10 light-years across, the rosebud-shaped nebula, numbered NGC 7129, is home to some 130 young stars. Our own Sun is believed to have grown up in a similar family setting.*\n",
    "\n",
    "| Channel | Effective wavelength (micron) | Bandwidth (micron) |\n",
    "| --- | --- | --- |\n",
    "| I1 | 3.551 | 0.750 |\n",
    "| I2 | 4.493 | 1.010 |\n",
    "| I3 | 5.730 | 1.420 |\n",
    "\n",
    "Afterwards, each file is loaded into Imviz. We will utilize the `batch_load` context manager since we are loading the files one by one."
   ]
  },
  {
   "cell_type": "markdown",
   "id": "e9bc98d6-130d-4d46-af72-070bafa1e926",
   "metadata": {},
   "source": [
    "Since you are on a machine/platform where the data are already pre-downloaded, do this:"
   ]
  },
  {
   "cell_type": "code",
   "execution_count": null,
   "id": "48385aff",
   "metadata": {},
   "outputs": [],
   "source": [
    "data_path = '/home/shared/preloaded-fits/jdaviz_data/'\n",
    "files = [\n",
    "    'SPITZER_I1_3655168_0000_7_E8350871_maic.fits',\n",
    "    'SPITZER_I2_3655168_0000_7_E8350890_maic.fits',\n",
    "    'SPITZER_I3_3655168_0000_7_E8350847_maic.fits']\n",
    "\n",
    "with imviz.batch_load():\n",
    "    for i, fn in enumerate(files):\n",
    "        imviz.load_data(data_path + fn, data_label=f'ngc7129_{i}')"
   ]
  },
  {
   "cell_type": "markdown",
   "id": "764715f8",
   "metadata": {},
   "source": [
    "If you are not on a machine/platform where the data are already pre-downloaded, do this instead."
   ]
  },
  {
   "cell_type": "raw",
   "id": "cb9056a8",
   "metadata": {},
   "source": [
    "from astropy.utils.data import download_file\n",
    "\n",
    "files = [\n",
    "    'https://irsa.ipac.caltech.edu/data/SPITZER/SHA/archive/proc/IRAC003600/r3655168/ch1/pbcd/SPITZER_I1_3655168_0000_7_E8350871_maic.fits',\n",
    "    'https://irsa.ipac.caltech.edu/data/SPITZER/SHA/archive/proc/IRAC003600/r3655168/ch2/pbcd/SPITZER_I2_3655168_0000_7_E8350890_maic.fits',\n",
    "    'https://irsa.ipac.caltech.edu/data/SPITZER/SHA/archive/proc/IRAC003600/r3655168/ch3/pbcd/SPITZER_I3_3655168_0000_7_E8350847_maic.fits']\n",
    "\n",
    "with imviz.batch_load():\n",
    "    for i, fn in enumerate(files):\n",
    "        result = download_file(fn, cache=True)\n",
    "        imviz.load_data(result, data_label=f'ngc7129_{i}')"
   ]
  },
  {
   "cell_type": "markdown",
   "id": "e28b9919-6f9e-410c-83f6-554631407d4b",
   "metadata": {},
   "source": [
    "Then, we visualize the data. It seems like Spitzer already aligned the exposures in a way that pixel and world coordinates both match, so we do not need to manually re-link the images."
   ]
  },
  {
   "cell_type": "code",
   "execution_count": null,
   "id": "229d64f3-843f-4a7f-ac98-989f2a95d4c1",
   "metadata": {},
   "outputs": [],
   "source": [
    "imviz.show()"
   ]
  },
  {
   "cell_type": "markdown",
   "id": "c4ffb25d",
   "metadata": {},
   "source": [
    "We could press \"b\" to blink through the images.\n",
    "\n",
    "We could mouseover the image to get information about pixel and sky coordinates, flux value, and label of visible layer (image).\n",
    "\n",
    "We could open up the Compass plugin to see how the celestial axes align with the image. Of course, you could also manually open it up from the \"hamburger\" icon and then select the Compass from the menu, if you want."
   ]
  },
  {
   "cell_type": "code",
   "execution_count": null,
   "id": "4b702b82",
   "metadata": {},
   "outputs": [],
   "source": [
    "compass_plugin = imviz.plugins['Compass']"
   ]
  },
  {
   "cell_type": "code",
   "execution_count": null,
   "id": "1f2b8473",
   "metadata": {},
   "outputs": [],
   "source": [
    "compass_plugin.open_in_tray()"
   ]
  },
  {
   "cell_type": "markdown",
   "id": "1abb759e",
   "metadata": {},
   "source": [
    "Panning and zooming is possible by showing the viewer toolbar and clicking on the '+'-shaped icon, then dragging around in the image and using scrolling to zoom in and out.\n",
    "\n",
    "This is also possible programmatically. For example, here we pan to the \"rose\" (which is upside-down) and then zoom in."
   ]
  },
  {
   "cell_type": "code",
   "execution_count": null,
   "id": "ec3d04fd",
   "metadata": {},
   "outputs": [],
   "source": [
    "viewer.center_on((1462, 911))  # X, Y"
   ]
  },
  {
   "cell_type": "code",
   "execution_count": null,
   "id": "1c681f15",
   "metadata": {},
   "outputs": [],
   "source": [
    "viewer.zoom_level = 0.5"
   ]
  },
  {
   "cell_type": "markdown",
   "id": "76c38eca",
   "metadata": {},
   "source": [
    "To change the stretch, you can open up Plot Options plugin, select the image (Layer) of interest, and then modify the stretch properties.\n",
    "\n",
    "Alternately, you can also change these programmatically, as follows, for the image that is currently visible."
   ]
  },
  {
   "cell_type": "code",
   "execution_count": null,
   "id": "f117ebce-c7a0-44fa-82a4-0c0876663093",
   "metadata": {},
   "outputs": [],
   "source": [
    "viewer.stretch_options"
   ]
  },
  {
   "cell_type": "code",
   "execution_count": null,
   "id": "d76b335d",
   "metadata": {},
   "outputs": [],
   "source": [
    "viewer.stretch = 'arcsinh'"
   ]
  },
  {
   "cell_type": "markdown",
   "id": "11888383",
   "metadata": {},
   "source": [
    "Similarly, for the colormap. (There are other properties you could set but we will not get into all of them in this demo.)"
   ]
  },
  {
   "cell_type": "code",
   "execution_count": null,
   "id": "28c82ed4-eb6c-4bd1-856f-3bc3a856dca3",
   "metadata": {},
   "outputs": [],
   "source": [
    "viewer.colormap_options"
   ]
  },
  {
   "cell_type": "code",
   "execution_count": null,
   "id": "fec4de61",
   "metadata": {},
   "outputs": [],
   "source": [
    "viewer.set_colormap('Rainbow')"
   ]
  },
  {
   "cell_type": "markdown",
   "id": "82dbc6a6-666a-4073-bde8-14518aa4507a",
   "metadata": {},
   "source": [
    "Now, let's draw a circular region on a blob using the `regions` package. Then, you can load it into Imviz. A new subset named \"Subset 1\" will appear."
   ]
  },
  {
   "cell_type": "code",
   "execution_count": null,
   "id": "80a015e0-8e73-4a97-8320-12bccdae7f26",
   "metadata": {},
   "outputs": [],
   "source": [
    "reg_1 = CirclePixelRegion(PixCoord(1852, 1119), 50)"
   ]
  },
  {
   "cell_type": "code",
   "execution_count": null,
   "id": "aa5ab84a-05d1-4405-92dd-103a7464ffe6",
   "metadata": {},
   "outputs": [],
   "source": [
    "imviz.load_regions(reg_1)"
   ]
  },
  {
   "cell_type": "markdown",
   "id": "c59544de-1ba5-47c4-bde4-e160be5f86b6",
   "metadata": {},
   "source": [
    "If you are unsatisfied with this subset, you could update its parameters via the Subset Tools plugin. For example, you could select \"Subset 1\" from the dropdown menu, change the radius to be smaller, and then click the \"update\" button. Then, you can auto-recenter the subset by expanding the \"Recenter\" sub-menu and click the \"recenter\" button (it uses center-of-mass)."
   ]
  },
  {
   "cell_type": "markdown",
   "id": "34921f4b-7837-4bee-9e6a-ef705d2ed77b",
   "metadata": {},
   "source": [
    "Once you are satisfied with the Subset, maybe you can try do some photometry with it using the \"Imviz Simple Aperture Photometry\" plugin. If you choose to do that, you can get the results back out as a table, as follows."
   ]
  },
  {
   "cell_type": "code",
   "execution_count": null,
   "id": "e56e4c6a-dec3-4cd1-8393-b48390e57354",
   "metadata": {},
   "outputs": [],
   "source": [
    "phot_tbl = imviz.get_aperture_photometry_results()"
   ]
  },
  {
   "cell_type": "code",
   "execution_count": null,
   "id": "1dc06ec9-c464-4065-998f-06d67965f88a",
   "metadata": {},
   "outputs": [],
   "source": [
    "phot_tbl"
   ]
  },
  {
   "cell_type": "markdown",
   "id": "5a7848d0",
   "metadata": {},
   "source": [
    "If you had modified or created new subset regions manually (for example, maybe you had to draw a rectangle to estimate background for aperture photometry above), you can get the subset regions back out as `regions` shapes, as follows."
   ]
  },
  {
   "cell_type": "code",
   "execution_count": null,
   "id": "1e369edd",
   "metadata": {},
   "outputs": [],
   "source": [
    "regions = imviz.get_interactive_regions()"
   ]
  },
  {
   "cell_type": "code",
   "execution_count": null,
   "id": "a0385234",
   "metadata": {},
   "outputs": [],
   "source": [
    "regions"
   ]
  },
  {
   "cell_type": "markdown",
   "id": "8204a3bb-972a-42d3-a702-ecfa6a9c0e86",
   "metadata": {},
   "source": [
    "## Bonus track: Kiss from a rose?\n",
    "\n",
    "Don't blink!"
   ]
  },
  {
   "cell_type": "code",
   "execution_count": null,
   "id": "ef260fdf-61c4-414f-99e4-64c8841aaacc",
   "metadata": {},
   "outputs": [],
   "source": [
    "imviz._delete_all_regions()"
   ]
  },
  {
   "cell_type": "code",
   "execution_count": null,
   "id": "57084821-56c1-4432-9e65-1ad9a2ca0a05",
   "metadata": {},
   "outputs": [],
   "source": [
    "viewer.state.color_mode = 'One color per layer'\n",
    "\n",
    "viewer.state.layers[2].color = 'red'\n",
    "viewer.state.layers[2].alpha = 1\n",
    "\n",
    "viewer.state.layers[1].color = 'green'\n",
    "viewer.state.layers[1].alpha = 1\n",
    "\n",
    "viewer.state.layers[0].color = 'blue'\n",
    "viewer.state.layers[0].alpha = 1"
   ]
  },
  {
   "cell_type": "code",
   "execution_count": null,
   "id": "c416f624-dee1-4655-a344-d1065cfe8aa3",
   "metadata": {},
   "outputs": [],
   "source": [
    "for lyr in viewer.state.layers:\n",
    "    lyr.visible = True\n",
    "    lyr.bias = 0.5\n",
    "    lyr.contrast = 1\n",
    "    lyr.stretch = 'arcsinh'\n",
    "    lyr.percentile = 99.5"
   ]
  },
  {
   "cell_type": "code",
   "execution_count": null,
   "id": "943e4bb0-7084-4b0a-b4be-a292b3c7088a",
   "metadata": {},
   "outputs": [],
   "source": []
  },
  {
   "cell_type": "markdown",
   "id": "55faaba5-93e0-4068-918c-8cf99eebf9bd",
   "metadata": {},
   "source": [
    "<img style=\"float: right;\" src=\"https://raw.githubusercontent.com/spacetelescope/notebooks/master/assets/stsci_pri_combo_mark_horizonal_white_bkgd.png\" alt=\"Space Telescope Logo\" width=\"200px\"/>"
   ]
  }
 ],
 "metadata": {
  "kernelspec": {
   "display_name": "Python 3 (ipykernel)",
   "language": "python",
   "name": "python3"
  },
  "language_info": {
   "codemirror_mode": {
    "name": "ipython",
    "version": 3
   },
   "file_extension": ".py",
   "mimetype": "text/x-python",
   "name": "python",
   "nbconvert_exporter": "python",
   "pygments_lexer": "ipython3",
   "version": "3.10.8"
  }
 },
 "nbformat": 4,
 "nbformat_minor": 5
}
