{
 "cells": [
  {
   "cell_type": "markdown",
   "id": "a00998fe",
   "metadata": {},
   "source": [
    "# Specviz2D - Spectral Extraction"
   ]
  },
  {
   "cell_type": "code",
   "execution_count": null,
   "id": "5d405ed3",
   "metadata": {},
   "outputs": [],
   "source": [
    "import tempfile\n",
    "import warnings\n",
    "from astropy.utils.data import download_file\n",
    "from astroquery.mast import Observations\n",
    "from zipfile import ZipFile\n",
    "\n",
    "from jdaviz import Mosviz, Specviz2d\n",
    "\n",
    "warnings.simplefilter('ignore')"
   ]
  },
  {
   "cell_type": "markdown",
   "id": "80c5ee40",
   "metadata": {},
   "source": [
    "## Trace Selection\n",
    "\n",
    "We'll use Mosviz to extract the 2D spectrum of a single object from the MOS data set shown in the Mosviz demo."
   ]
  },
  {
   "cell_type": "code",
   "execution_count": null,
   "id": "fb6a5ab4",
   "metadata": {},
   "outputs": [],
   "source": [
    "# If downloading data from Box:\n",
    "# example_data = 'https://stsci.box.com/shared/static/pg8f2vyb6lvn4flfetpetsprkh30e5ud.zip'\n",
    "# data_dir = tempfile.gettempdir()\n",
    "# fn = download_file(example_data, cache=False)\n",
    "# with ZipFile(fn, 'r') as sample_data_zip:\n",
    "#    sample_data_zip.extractall(data_dir)\n",
    "\n",
    "# If running on JWebbinar platform:\n",
    "data_dir = '/home/shared/preloaded-fits/jdaviz_data'\n",
    "\n",
    "mosviz = Mosviz()\n",
    "mosviz.load_data(directory=f\"{data_dir}/115\", instrument=\"niriss\")\n",
    "\n",
    "mosviz.app.get_viewer('table-viewer').select_row(1)\n",
    "spectra2d = mosviz.app.get_data_from_viewer('spectrum-2d-viewer', 'F115W Source 219 spec2d C')"
   ]
  },
  {
   "cell_type": "markdown",
   "id": "27fd750a",
   "metadata": {},
   "source": [
    "And then load that into Specviz2d."
   ]
  },
  {
   "cell_type": "code",
   "execution_count": null,
   "id": "f63e691c",
   "metadata": {},
   "outputs": [],
   "source": [
    "specviz2d = Specviz2d()\n",
    "specviz2d.load_data(spectrum_2d=spectra2d)\n",
    "specviz2d.show('sidecar:split-right')"
   ]
  },
  {
   "cell_type": "markdown",
   "id": "92ab0923",
   "metadata": {},
   "source": [
    "The x-limits on both viewers are kept in sync, so if we set the zoom limits with any zoom tool (in the viewer toolbars) or through the API, the x-limits on the other viewer will update accordingly."
   ]
  },
  {
   "cell_type": "code",
   "execution_count": null,
   "id": "b46a1ff4",
   "metadata": {},
   "outputs": [],
   "source": [
    "specviz2d.specviz.x_limits(150, 215)\n",
    "specviz2d.specviz.y_limits(0, 1e3)"
   ]
  },
  {
   "cell_type": "markdown",
   "id": "11d94445",
   "metadata": {},
   "source": [
    "Each plugin has its own API wrapper.  We can access these through the `specviz2d.plugins` dictionary."
   ]
  },
  {
   "cell_type": "code",
   "execution_count": null,
   "id": "95549786",
   "metadata": {},
   "outputs": [],
   "source": [
    "specviz2d.plugins"
   ]
  },
  {
   "cell_type": "markdown",
   "id": "92318b46",
   "metadata": {},
   "source": [
    "## Spectral Extraction\n",
    "\n",
    "Calling `dir()` will show all available attributes and methods of the plugin API object."
   ]
  },
  {
   "cell_type": "code",
   "execution_count": null,
   "id": "84e3ce82",
   "metadata": {},
   "outputs": [],
   "source": [
    "spext = specviz2d.plugins['Spectral Extraction']\n",
    "dir(spext)"
   ]
  },
  {
   "cell_type": "markdown",
   "id": "bd936494",
   "metadata": {},
   "source": [
    "For more information on any of the methods, use `help(...)`  (`help(spext.open_in_tray)` or `spext.open_in_tray?`)."
   ]
  },
  {
   "cell_type": "code",
   "execution_count": null,
   "id": "af95ae0a",
   "metadata": {},
   "outputs": [],
   "source": [
    "help(spext.open_in_tray)"
   ]
  },
  {
   "cell_type": "code",
   "execution_count": null,
   "id": "fc81ac39",
   "metadata": {},
   "outputs": [],
   "source": [
    "spext.open_in_tray()"
   ]
  },
  {
   "cell_type": "markdown",
   "id": "295ed3bb",
   "metadata": {},
   "source": [
    "Now we can manually edit trace options or access/set them from the plugin API."
   ]
  },
  {
   "cell_type": "code",
   "execution_count": null,
   "id": "dc3e3c50",
   "metadata": {},
   "outputs": [],
   "source": [
    "print(spext.trace_pixel)"
   ]
  },
  {
   "cell_type": "code",
   "execution_count": null,
   "id": "dcadd44b",
   "metadata": {},
   "outputs": [],
   "source": [
    "spext.trace_pixel = 146\n",
    "spext.bg_type = 'TwoSided'\n",
    "spext.bg_separation = 60\n",
    "spext.bg_width = 30"
   ]
  },
  {
   "cell_type": "markdown",
   "id": "69aa089f",
   "metadata": {},
   "source": [
    "### Cycle through Rows\n",
    "\n",
    "The API also allows for making calls to the plugin within more advanced scripts (including conditionals or for loops, etc).  Let's extract the spectrum for a single row at a time and cycle through the rows.  Here we want to disable background subtraction, by having the input to boxcar extraction be the 2D spectrum directly (instead of the background-subtracted image done on the fly within the plugin).  Every dropdown in the plugin has a corresponding attribute in the plugin object, including a list of the valid options:"
   ]
  },
  {
   "cell_type": "code",
   "execution_count": null,
   "id": "badbfc0f",
   "metadata": {},
   "outputs": [],
   "source": [
    "print(spext.ext_dataset)"
   ]
  },
  {
   "cell_type": "code",
   "execution_count": null,
   "id": "d2f6ee00",
   "metadata": {},
   "outputs": [],
   "source": [
    "spext.ext_dataset = 'Spectrum 2D'"
   ]
  },
  {
   "cell_type": "code",
   "execution_count": null,
   "id": "490a5dd7",
   "metadata": {},
   "outputs": [],
   "source": [
    "for row in range(0, 250):\n",
    "    spext.trace_pixel = row"
   ]
  },
  {
   "cell_type": "markdown",
   "id": "7ef677db",
   "metadata": {},
   "source": [
    "## Trace Fitting\n",
    "\n",
    "Now we'll start a new instance of `Specviz2d` and load a new data file that exhibits a non-linear spectrum."
   ]
  },
  {
   "cell_type": "code",
   "execution_count": null,
   "id": "a16ef933",
   "metadata": {},
   "outputs": [],
   "source": [
    "fn = 'jw01309-o022_s00003_nirspec_f290lp-g395h-s200a2-allslits_s2d.fits'\n",
    "\n",
    "# If downloading from MAST:\n",
    "# data_dir = tempfile.gettempdir()\n",
    "# result = Observations.download_file(f\"mast:JWST/product/{fn}\", local_path=f'{data_dir}/{fn}')\n",
    "\n",
    "# If running on JWebbinar platform:\n",
    "data_dir = '/home/shared/preloaded-fits/jdaviz_data'\n",
    "\n",
    "specviz2d = Specviz2d()\n",
    "specviz2d.load_data(f'{data_dir}/{fn}')\n",
    "\n",
    "specviz2d.show('sidecar:split-right')"
   ]
  },
  {
   "cell_type": "code",
   "execution_count": null,
   "id": "ff47cfe3",
   "metadata": {},
   "outputs": [],
   "source": [
    "spext = specviz2d.plugins['Spectral Extraction']\n",
    "spext.open_in_tray()"
   ]
  },
  {
   "cell_type": "markdown",
   "id": "87ac94e6",
   "metadata": {},
   "source": [
    "Now we can fit a polynomial trace with custom options, define a one-sided background, and use API calls to export the background image and extracted spectrum directly into the notebook.\n",
    "\n",
    "Trace options (through UI or API):"
   ]
  },
  {
   "cell_type": "code",
   "execution_count": null,
   "id": "89fa2801",
   "metadata": {},
   "outputs": [],
   "source": [
    "spext.trace_type = 'Polynomial'\n",
    "spext.trace_order = 3\n",
    "spext.trace_pixel = 23\n",
    "spext.trace_bins = 10\n",
    "spext.trace_window = 6"
   ]
  },
  {
   "cell_type": "markdown",
   "id": "501af869",
   "metadata": {},
   "source": [
    "Background options (through UI or API):"
   ]
  },
  {
   "cell_type": "code",
   "execution_count": null,
   "id": "e81bc9b7",
   "metadata": {},
   "outputs": [],
   "source": [
    "spext.bg_type = 'OneSided'\n",
    "spext.bg_separation = 8\n",
    "spext.bg_width = 8\n",
    "spext.bg_statistic = 'Median'"
   ]
  },
  {
   "cell_type": "code",
   "execution_count": null,
   "id": "c6c3132c",
   "metadata": {},
   "outputs": [],
   "source": [
    "spext.export_bg_img()"
   ]
  },
  {
   "cell_type": "markdown",
   "id": "6c5bd5d0",
   "metadata": {},
   "source": [
    "Boxcar extraction options (through UI or API):"
   ]
  },
  {
   "cell_type": "code",
   "execution_count": null,
   "id": "a2201162",
   "metadata": {},
   "outputs": [],
   "source": [
    "spext.ext_width = 2\n",
    "spext.export_extract_spectrum(add_data=True)"
   ]
  },
  {
   "cell_type": "code",
   "execution_count": null,
   "id": "227f100a",
   "metadata": {},
   "outputs": [],
   "source": []
  }
 ],
 "metadata": {
  "kernelspec": {
   "display_name": "Python 3 (ipykernel)",
   "language": "python",
   "name": "python3"
  },
  "language_info": {
   "codemirror_mode": {
    "name": "ipython",
    "version": 3
   },
   "file_extension": ".py",
   "mimetype": "text/x-python",
   "name": "python",
   "nbconvert_exporter": "python",
   "pygments_lexer": "ipython3",
   "version": "3.8.15"
  }
 },
 "nbformat": 4,
 "nbformat_minor": 5
}
