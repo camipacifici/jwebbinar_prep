{
 "cells": [
  {
   "cell_type": "markdown",
   "id": "61d70dd5-c705-4c8a-9d1b-f3bdac43b2b3",
   "metadata": {},
   "source": [
    "# `Cubeviz`: weigh a black hole\n",
    "\n",
    "In this demo we will (very roughly) measure the mass of a black hole with [JWST MIRI](https://jwst-docs.stsci.edu/jwst-mid-infrared-instrument) observations of [Stephan's Quintent](https://webbtelescope.org/news/first-images/gallery/zoomable-image-stephans-quintet) (PI: Klaus Pontoppidan, [JWST Early Release Observation Program 2732](https://www.stsci.edu/jwst/science-execution/program-information.html?id=2732)). We will load a spectral cube into [Cubeviz](https://jdaviz.readthedocs.io/en/latest/cubeviz/index.html) and measure physical quantities from the spectra.\n",
    "\n",
    "We begin with the necessary imports:"
   ]
  },
  {
   "cell_type": "code",
   "execution_count": null,
   "id": "e8527d83-3711-4c2f-ab07-838946cb3ed0",
   "metadata": {},
   "outputs": [],
   "source": [
    "import os\n",
    "import tempfile\n",
    "\n",
    "import numpy as np\n",
    "\n",
    "import astropy.units as u\n",
    "from astropy.constants import G\n",
    "\n",
    "from astroquery.mast import Observations\n",
    "from regions import PixCoord, CirclePixelRegion\n",
    "\n",
    "from jdaviz import Cubeviz\n",
    "\n",
    "def set_line_style(\n",
    "    helper, subset, line_width, line_opacity, viewer='spectrum-viewer'\n",
    "):\n",
    "    \"\"\"\n",
    "    This function tweaks a few line style settings to make the results\n",
    "    more easily visible in this notebook.\n",
    "    \"\"\"\n",
    "    plot_options = helper.plugins['Plot Options']\n",
    "    plot_options.viewer = viewer\n",
    "    plot_options.layer = subset\n",
    "    plot_options.line_opacity = line_opacity\n",
    "    plot_options.line_width = line_width"
   ]
  },
  {
   "cell_type": "markdown",
   "id": "cfb9223d-c094-4713-b928-12ead670470c",
   "metadata": {},
   "source": [
    "We could use `astroquery` to download the JWST observations from [MAST](https://mast.stsci.edu/), but here we load the file stored on the JWebbinar portal:"
   ]
  },
  {
   "cell_type": "code",
   "execution_count": null,
   "id": "82391e2f-f0db-4589-bdcb-06607822fa5e",
   "metadata": {},
   "outputs": [],
   "source": [
    "# JWST/MIRI observations of NGC 7319 (also available on MAST):\n",
    "data_path = \"/home/shared/preloaded-fits/jdaviz_data/\"\n",
    "fn = \"jw02732-c1001_t004_miri_ch3-shortmediumlong_s3d.fits\"\n",
    "miri_spectral_cube_path = os.path.join(data_path, fn)"
   ]
  },
  {
   "cell_type": "markdown",
   "id": "30a2acd5-3799-4e1d-a061-34e0fe18517d",
   "metadata": {},
   "source": [
    "Now we load the data into [Cubeviz](https://jdaviz.readthedocs.io/en/latest/cubeviz/index.html), and set the colormap scaling from the [Plot Options](https://jdaviz.readthedocs.io/en/latest/cubeviz/plugins.html#plot-options) plugin:"
   ]
  },
  {
   "cell_type": "code",
   "execution_count": null,
   "id": "d176b367-d635-4056-be4a-aca0a63661fd",
   "metadata": {},
   "outputs": [],
   "source": [
    "# initialize Cubeviz:\n",
    "cubeviz = Cubeviz()\n",
    "\n",
    "# load the dataset:\n",
    "cubeviz.load_data(miri_spectral_cube_path)\n",
    "\n",
    "# use the Plot Options plugin to \n",
    "# set the colorscale in the \"flux-viewer\"\n",
    "plot_options = cubeviz.plugins['Plot Options']\n",
    "plot_options.stretch_function = 'arcsinh'\n",
    "plot_options.stretch_vmin = 0\n",
    "plot_options.stretch_vmax = 2500\n",
    "\n",
    "# display interactive viewer in notebook:\n",
    "cubeviz.show('sidecar:split-right')"
   ]
  },
  {
   "cell_type": "markdown",
   "id": "a69fd290-16fd-41a8-ba2d-1ac2269b4f91",
   "metadata": {},
   "source": [
    "The following cells accomplish tasks can also be completed by interactively clicking around in the `Cubeviz` helper above. We include the code in this notebook so you can reproduce most steps exactly, and see examples for how to use the [plugin APIs](https://jdaviz.readthedocs.io/en/latest/cubeviz/plugins.html).\n",
    "\n",
    "\n",
    "### Define spatial regions\n",
    "\n",
    "Now let's define a spatial region from pixel coordinates in the \"flux-viewer\" in the upper left:"
   ]
  },
  {
   "cell_type": "code",
   "execution_count": null,
   "id": "5686c71f-8d78-4810-be7c-17ddb99f276e",
   "metadata": {},
   "outputs": [],
   "source": [
    "# define a circular spatial region near the\n",
    "# center of the galaxy:\n",
    "central_region = CirclePixelRegion(\n",
    "    center=PixCoord(x=26.5, y=26.5), \n",
    "    radius=2\n",
    ")\n",
    "\n",
    "# load the regions into Cubeviz:\n",
    "cubeviz.load_regions([central_region])\n",
    "\n",
    "# set collapsed spectrum line style:\n",
    "set_line_style(\n",
    "    cubeviz, 'Subset 1', line_width=3, line_opacity=0.9\n",
    ")"
   ]
  },
  {
   "cell_type": "markdown",
   "id": "5bb04437-0e7a-49ca-ade9-d5b12ef6676f",
   "metadata": {},
   "source": [
    "`Cubeviz` will \"collapse\" (by summing) the spectral cube within the selected spatial region into another spectrum in the \"spectrum-viewer\", shown above in red.\n",
    "\n",
    "### Spectral line analysis\n",
    "\n",
    "We can measure the [velocity dispersion](https://en.wikipedia.org/wiki/Velocity_dispersion) in the central region by using the [Line Analysis](https://jdaviz.readthedocs.io/en/latest/specviz/plugins.html#line-analysis) plugin:"
   ]
  },
  {
   "cell_type": "code",
   "execution_count": null,
   "id": "4547762a-3408-4229-8dee-3123fd6e7fd0",
   "metadata": {},
   "outputs": [],
   "source": [
    "line_analysis = cubeviz.plugins['Line Analysis']\n",
    "\n",
    "available_spectral_subsets = len(line_analysis.spectral_subset.choices) - 1\n",
    "\n",
    "if available_spectral_subsets:\n",
    "    velocity_dispersions = []\n",
    "    spatial_subset = 'Subset 1'\n",
    "    line_analysis.spatial_subset = spatial_subset\n",
    "    line_analysis.spectral_subset = 'Subset 2'\n",
    "\n",
    "    line_analysis_results = line_analysis.get_results()\n",
    "\n",
    "    # index 2 corresponds to the \"Gaussian Sigma Width\":\n",
    "    sigma_width = line_analysis_results[2]\n",
    "    sigma_width = float(sigma_width['result']) * u.Unit(sigma_width['unit'])\n",
    "\n",
    "    # last index corresponds to the wavelength centroid:\n",
    "    center = line_analysis_results[-1]\n",
    "    centroid_wavelength = float(center['result']) * u.Unit(center['unit'])\n",
    "\n",
    "    velocity_dispersion = (centroid_wavelength + sigma_width).to(\n",
    "        u.km / u.s, u.doppler_relativistic(centroid_wavelength)\n",
    "    )\n",
    "\n",
    "    print(f\"{spatial_subset} velocity dispersion = {velocity_dispersion:.1f}\")\n",
    "\n",
    "else: \n",
    "    raise Exception(\n",
    "        'Please select a spectral region in Cubeviz '\n",
    "        'centered on an emission line to '\n",
    "        'continue with the tutorial.'\n",
    "    )"
   ]
  },
  {
   "cell_type": "markdown",
   "id": "01691704-744b-444a-88a0-bdc6fb405aee",
   "metadata": {},
   "source": [
    "We can compare this result to the velocity dispersion from [Nelson & Whittle (1995)](https://ui.adsabs.harvard.edu/abs/1995ApJS...99...67N/abstract), for example, who find $130 \\pm 25 \\text{ km s}^{-1}$ for this galaxy.\n",
    "\n",
    "### Estimating mass with help from astropy units\n",
    "\n",
    "We can estimate the mass of the central black hole with a so-called [M-$\\sigma$ relation](https://en.wikipedia.org/wiki/M%E2%80%93sigma_relation), like this one used in [Woo & Urry (2002)](https://ui.adsabs.harvard.edu/abs/2002ApJ...579..530W/abstract):\n",
    "\n",
    "$${\\frac  {M}{10^{8}M_{\\odot }}}\\approx 1.349 \\left({\\frac  {\\sigma }{200~{{\\rm {km}}}~{{\\rm {s}}}^{{-1}}}}\\right)^{{4.02}}.$$"
   ]
  },
  {
   "cell_type": "code",
   "execution_count": null,
   "id": "d29a14f3-559b-44a4-9379-7caeb0434d1f",
   "metadata": {},
   "outputs": [],
   "source": [
    "bh_mass = 1.349e8 * u.M_sun * (velocity_dispersion / (200 * u.km / u.s)) ** 4.02\n",
    "bh_mass"
   ]
  },
  {
   "cell_type": "markdown",
   "id": "92da6c43-f74d-4794-983e-fa60d67efb0b",
   "metadata": {},
   "source": [
    "We can compare this mass with the one in the literature to find the relative error:"
   ]
  },
  {
   "cell_type": "code",
   "execution_count": null,
   "id": "6cc6cf0a-511e-4ee8-9e6d-7e3bb5e747e2",
   "metadata": {},
   "outputs": [],
   "source": [
    "# Woo & Urry (2002), Table 5: \n",
    "# https://ui.adsabs.harvard.edu/abs/2002ApJ...579..530W/abstract\n",
    "log10_bh_mass_lit = 7.38\n",
    "\n",
    "fractional_error = (bh_mass - u.M_sun * 10**log10_bh_mass_lit) / bh_mass\n",
    "print(f'Relative error vs lit: {100 * fractional_error:.1f}%')"
   ]
  },
  {
   "cell_type": "markdown",
   "id": "92bd8667-b289-4a77-b777-683bf00838a3",
   "metadata": {},
   "source": [
    "## How dense is the central region near the black hole?\n",
    "\n",
    "We can estimate the mass in the central region from the relative shifts in the emission line centroids in narrow regions on either side of the central black hole. As the central region galaxy rotates, approaching areas have blue-shifted emission lines, while receding areas have red-shifted lines. Let's measure these centroid shifts in two areas on either side of the center, convert the centroid shifts to velocities, and solve for the mass enclosed between the two areas.\n",
    "\n",
    "### Define two new spatial regions"
   ]
  },
  {
   "cell_type": "code",
   "execution_count": null,
   "id": "6ceb4ea4-c588-49eb-a5b3-57f535b8664d",
   "metadata": {},
   "outputs": [],
   "source": [
    "regions = [\n",
    "    CirclePixelRegion(\n",
    "        center=PixCoord(x=29.2, y=21.3), \n",
    "        radius=2\n",
    "    ),\n",
    "    CirclePixelRegion(\n",
    "        center=PixCoord(x=25.2, y=30.3), \n",
    "        radius=2\n",
    "    )\n",
    "]\n",
    "\n",
    "cubeviz.load_regions(regions)"
   ]
  },
  {
   "cell_type": "markdown",
   "id": "5cec2ae8-a35d-4ba3-b642-0b574e208388",
   "metadata": {},
   "source": [
    "### Measure line centroid shifts\n",
    "\n",
    "The centroids of the emission lines Doppler shift in response to bulk rotation. We can see this directly in the spectrum viewer! Here we use the Line Analysis plugin to measure the blue/red shifts in one emission line:"
   ]
  },
  {
   "cell_type": "code",
   "execution_count": null,
   "id": "8596534a-73df-4850-8618-0ffed4f0fd63",
   "metadata": {},
   "outputs": [],
   "source": [
    "# use the Line Analysis plugin measure spectral lines:\n",
    "line_analysis = cubeviz.plugins['Line Analysis']\n",
    "\n",
    "# check that user has interactively selected a spectral subset:\n",
    "available_spectral_subsets = len(line_analysis.spectral_subset.choices) - 1\n",
    "\n",
    "if available_spectral_subsets:\n",
    "    \n",
    "    # measure the centroid of the spectral line \n",
    "    # in each spatial subset \n",
    "    wavelength_centroids = []\n",
    "    line_analysis.spectral_subset = 'Subset 2'\n",
    "    for subset in sorted(cubeviz.get_interactive_regions().keys())[-2:]:\n",
    "        line_analysis.spatial_subset = subset\n",
    "\n",
    "        center = line_analysis.get_results()[-1]\n",
    "        centroid_wavelength = float(center['result']) * u.Unit(center['unit'])\n",
    "        wavelength_centroids.append(centroid_wavelength)\n",
    "        print(f\"{subset} centroid = {centroid_wavelength:.5f}\")\n",
    "\n",
    "    wavelength_centroids = u.Quantity(wavelength_centroids)\n",
    "else: \n",
    "    # raise an error if no spectral subset has been selected:\n",
    "    raise Exception(\n",
    "        'Please select a spectral region in Cubeviz '\n",
    "        'centered on an emission line to '\n",
    "        'continue with the tutorial.'\n",
    "    )"
   ]
  },
  {
   "cell_type": "markdown",
   "id": "9bb27969-d2b7-4f21-9e9a-8c3fe1d46a77",
   "metadata": {},
   "source": [
    "### Find angular separation between two regions\n",
    "\n",
    "The sky separation between the centers of the two spatial regions that we have selected can be extracted if we have both the pixel coordinates and the WCS for the image:"
   ]
  },
  {
   "cell_type": "code",
   "execution_count": null,
   "id": "562abfb0-d505-4a1f-aff8-024a467a0f66",
   "metadata": {},
   "outputs": [],
   "source": [
    "def pixel_regions_to_sky_regions(regions, data):\n",
    "    \"\"\"\n",
    "    Convert regions in pixel coordinates to \n",
    "    regions in sky coordinates from WCS.\n",
    "    \"\"\"\n",
    "    return [\n",
    "        region.to_sky(\n",
    "            data.get_object().meta['_orig_wcs'].celestial\n",
    "        )\n",
    "        for region in regions\n",
    "    ]\n",
    "\n",
    "# get the Data object that represents these observations:\n",
    "data_label = cubeviz.app.data_collection[0].label\n",
    "data = cubeviz.app.get_data_from_viewer('flux-viewer', data_label)\n",
    "\n",
    "# measure the sky separation between the centers of \n",
    "# the two spatial regions:\n",
    "region_a, region_b = pixel_regions_to_sky_regions(regions, data)\n",
    "angular_separation = region_a.center.separation(region_b.center).to(u.arcsec)\n",
    "angular_separation"
   ]
  },
  {
   "cell_type": "markdown",
   "id": "7fa5bf3a-cf02-461c-bec7-6d5567bfeafe",
   "metadata": {},
   "source": [
    "### Convert angular separation to distance\n",
    "\n",
    "If we know the distance to the NGC 7319, we can convert the angular separation to a rough distance between spatial regions:"
   ]
  },
  {
   "cell_type": "code",
   "execution_count": null,
   "id": "cd2b5bd0-2d01-4fb8-9635-1063d00e895e",
   "metadata": {},
   "outputs": [],
   "source": [
    "# Bitsakis et al. (2011): \n",
    "# https://ui.adsabs.harvard.edu/abs/2011A%26A...533A.142B/abstract\n",
    "ngc7319_distance = 98.1 * u.Mpc\n",
    "\n",
    "# Reminder: s = r * theta\n",
    "projected_distance_from_center = (\n",
    "    ngc7319_distance * \n",
    "    angular_separation.to_value(u.rad)\n",
    ").to(u.pc) / 2\n",
    "\n",
    "projected_distance_from_center"
   ]
  },
  {
   "cell_type": "markdown",
   "id": "b45efdc7-5dfa-409e-a9fe-e710c6945090",
   "metadata": {},
   "source": [
    "### Estimate rotational velocity and enclosed mass\n",
    "\n",
    "We can convert the wavelength shifts to corresponding velocities with [equivalencies](https://docs.astropy.org/en/stable/units/equivalencies.html) in `astropy.units`:"
   ]
  },
  {
   "cell_type": "code",
   "execution_count": null,
   "id": "5e20c4e2-1586-4884-9eb8-52ea780cc837",
   "metadata": {},
   "outputs": [],
   "source": [
    "rotation_velocity = wavelength_centroids[1].to(\n",
    "    u.km / u.s, u.doppler_relativistic(wavelength_centroids.mean())\n",
    ")\n",
    "\n",
    "rotation_velocity"
   ]
  },
  {
   "cell_type": "markdown",
   "id": "f8692b5a-3b67-4d41-a167-f43314fc51f9",
   "metadata": {},
   "source": [
    "The minimum mass$^*$ within this central region of the galaxy can be found by assuming acceleration due to gravity provides the centripetal force\n",
    "\n",
    "\\begin{eqnarray}\n",
    "\\text{(gravitational accel.)} &=& \\text{(centripetal accel.),}\\\\\n",
    "g &=& a_c,\\\\\n",
    "\\frac{GM}{r^2} &=& \\frac{v^2}{r}.\n",
    "\\end{eqnarray}\n",
    "\n",
    "Rearranging, we find\n",
    "\n",
    "$$M = \\frac{rv^2}{G},$$\n",
    "\n",
    "so let's combine the quantities we've derived in Cubeviz and from the literature to measure the enclosed mass:"
   ]
  },
  {
   "cell_type": "code",
   "execution_count": null,
   "id": "f6689133-5a41-4ca4-b419-e24970216006",
   "metadata": {},
   "outputs": [],
   "source": [
    "min_enclosed_mass = (projected_distance_from_center * rotation_velocity**2 / G).to(u.M_sun)\n",
    "min_enclosed_mass"
   ]
  },
  {
   "cell_type": "markdown",
   "id": "d1efc0ed-05cc-4751-8b62-2e3bd6694278",
   "metadata": {},
   "source": [
    "Wow, that's a lot of mass$^*$!\n",
    "\n",
    "<p style='text-align: right; color: gray'>$^*$The enclosed mass from this oversimplified derivation is likely smaller than the true mass, because we haven't used the inclination of the rotating galaxy, which would affect the inferred mass by a factor like $\\sin(i)$.</p>\n",
    "\n",
    "Now let's compare: (a) the estimated enclosed mass in the center between the two spatial subsets, with (b) the black hole mass derived from the velocity dispersion:"
   ]
  },
  {
   "cell_type": "code",
   "execution_count": null,
   "id": "a085bb69-e92d-40a0-bd8e-267f8e155712",
   "metadata": {},
   "outputs": [],
   "source": [
    "bh_mass_fraction = float(min_enclosed_mass / bh_mass)\n",
    "print(\n",
    "    f\"There's enough mass in the inner {projected_distance_from_center:.0f} \"\n",
    "    f\"to fill {bh_mass_fraction:.2f} black holes!\"\n",
    ")"
   ]
  },
  {
   "cell_type": "markdown",
   "id": "41486d08-24ef-42c0-b2eb-8a01a8fe7b5b",
   "metadata": {},
   "source": [
    "What is the average density in this central region?"
   ]
  },
  {
   "cell_type": "code",
   "execution_count": null,
   "id": "65f262ae-596a-41b2-bef8-3db8ef8cd0ba",
   "metadata": {},
   "outputs": [],
   "source": [
    "volume = 4/3 * np.pi * projected_distance_from_center ** 3\n",
    "density = min_enclosed_mass / volume\n",
    "density"
   ]
  },
  {
   "cell_type": "markdown",
   "id": "cf804d90-414c-4d0f-beec-6ca391272cb8",
   "metadata": {},
   "source": [
    "Despite being in the \"dense\" central region, there's not much more than a few stars per cubic-parsec."
   ]
  },
  {
   "cell_type": "markdown",
   "id": "47a20b8a-3a9c-49b2-9929-7ad6540b7ecf",
   "metadata": {},
   "source": [
    "***\n",
    "\n",
    "### Bonus: Putting the spatial regions in context\n",
    "  \n",
    "Finally, let's contextualize the spatial regions that we selected above. Let's view the beautiful JWST/NIRCam image from this same Early Release Observation program in [Imviz](https://jdaviz.readthedocs.io/en/latest/imviz/index.html), and load the spatial regions onto it:"
   ]
  },
  {
   "cell_type": "code",
   "execution_count": null,
   "id": "69f0e979-f382-44d9-a09b-aa23b5a14927",
   "metadata": {},
   "outputs": [],
   "source": [
    "from jdaviz import Imviz\n",
    "\n",
    "# JWST/NIRCam observations of NGC 7319 (also available on MAST):\n",
    "# Download the MIRI observations to a local temporary directory\n",
    "fn_image = \"jw02732-o001_t001_nircam_clear-f444w_i2d.fits\"\n",
    "nircam_image_path = os.path.join(data_path, fn_image)\n",
    "\n",
    "imviz = Imviz()\n",
    "imviz.load_data(nircam_image_path)\n",
    "imviz.load_regions([region_a, region_b])\n",
    "\n",
    "plot_options = imviz.plugins['Plot Options']\n",
    "\n",
    "plot_options.image_colormap = 'viridis'\n",
    "plot_options.stretch_function = 'log'\n",
    "plot_options.stretch_vmin = 0.36\n",
    "plot_options.stretch_vmax = 8\n",
    "imviz.show('sidecar:split-right')\n",
    "\n",
    "viewer = imviz.default_viewer\n",
    "viewer.center_on(region_a.center)"
   ]
  },
  {
   "cell_type": "markdown",
   "id": "55faaba5-93e0-4068-918c-8cf99eebf9bd",
   "metadata": {},
   "source": [
    "<img style=\"float: right;\" src=\"https://raw.githubusercontent.com/spacetelescope/notebooks/master/assets/stsci_pri_combo_mark_horizonal_white_bkgd.png\" alt=\"Space Telescope Logo\" width=\"200px\"/>"
   ]
  }
 ],
 "metadata": {
  "kernelspec": {
   "display_name": "Python 3 (ipykernel)",
   "language": "python",
   "name": "python3"
  },
  "language_info": {
   "codemirror_mode": {
    "name": "ipython",
    "version": 3
   },
   "file_extension": ".py",
   "mimetype": "text/x-python",
   "name": "python",
   "nbconvert_exporter": "python",
   "pygments_lexer": "ipython3",
   "version": "3.9.13"
  }
 },
 "nbformat": 4,
 "nbformat_minor": 5
}
