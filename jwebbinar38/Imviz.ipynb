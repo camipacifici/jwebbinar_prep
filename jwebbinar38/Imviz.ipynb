{
 "cells": [
  {
   "cell_type": "markdown",
   "id": "80876f9c-2019-4959-a0c1-0b42fce8c8bb",
   "metadata": {},
   "source": [
    "![title](https://github.com/STScI-MIRI/MRS-ExampleNB/raw/main/assets/banner1.png)"
   ]
  },
  {
   "cell_type": "markdown",
   "id": "faaaaafd-c448-4d82-8a2b-d8ac82c33205",
   "metadata": {},
   "source": [
    "# JWebbinar 38: Photometry with JWST - Imviz\n",
    "Author: Camilla Pacifici, Space Telescope Science Institute (adapting notebook by Clare Shanahan)\n",
    "\n",
    "## Tutorial Overview\n",
    "This tutorial will demonstrate how to use [Imviz](https://jdaviz.readthedocs.io/en/latest/imviz/index.html) to support a photometry workflow.\n",
    "\n",
    "1. Start Imviz and load data.\n",
    "2. Setting display options.\n",
    "3. Aligning images by WCS.\n",
    "4. Load catalog of sources from the interface and from the notebook.\n",
    "5. Load footprints.\n",
    "6. Select a source and do aperture photometry.\n",
    "\n",
    "The first half of the tutorial will show you how to perform these tasks in the interface. In the second part, we will see how the same tasks can be performed with code in the notebook."
   ]
  },
  {
   "cell_type": "markdown",
   "id": "aa716158-e683-49ee-80d9-60a5c3181f1c",
   "metadata": {},
   "source": [
    "## Import packages"
   ]
  },
  {
   "cell_type": "markdown",
   "id": "2f28b23f-4a49-4fe1-8ba9-dc417b26978c",
   "metadata": {},
   "source": [
    "First, import everything we need..."
   ]
  },
  {
   "cell_type": "code",
   "execution_count": 14,
   "id": "191f6ab3-634a-4161-b9a6-95970bdfb792",
   "metadata": {},
   "outputs": [],
   "source": [
    "from jdaviz import Imviz\n",
    "from astropy.table import QTable\n",
    "from astropy import units as u\n",
    "from astropy.coordinates import SkyCoord\n",
    "from regions import CircleSkyRegion"
   ]
  },
  {
   "cell_type": "markdown",
   "id": "19774986-fbc0-4adf-b24e-27b5c30acbc7",
   "metadata": {},
   "source": [
    "## Initialize Imviz"
   ]
  },
  {
   "cell_type": "code",
   "execution_count": 17,
   "id": "ff5e5be6-ccad-4e42-bb5a-cd4f65b4cf04",
   "metadata": {},
   "outputs": [
    {
     "data": {
      "application/vnd.jupyter.widget-view+json": {
       "model_id": "a5a8ff833008425ea734a55310dd3d61",
       "version_major": 2,
       "version_minor": 0
      },
      "text/plain": [
       "Application(config='imviz', docs_link='https://jdaviz.readthedocs.io/en/latest/imviz/index.html', events=['cal…"
      ]
     },
     "metadata": {},
     "output_type": "display_data"
    }
   ],
   "source": [
    "imviz = Imviz()\n",
    "imviz.show()"
   ]
  },
  {
   "cell_type": "markdown",
   "id": "8a83e218-0c3e-4a45-b998-7b18abeeb555",
   "metadata": {},
   "source": [
    "## Loading Data\n",
    "In addition to loading local data files or array data (e.g., a Spectrum1D for specviz/specviz2d, or numpy array/CCDData etc in imviz) in a notebook, jdaviz can download and load data directly from the MAST archive when given a URI.\n",
    "\n",
    "We will download two level 3 NIRCAM images of NGC 346 in two different filters (F335M and F227M) and load them as two layers\n",
    "in the same image viewer.\n",
    "\n",
    "(With 'cache=True', a local copy of the data is saved so it will not need to be downloaded next time.)"
   ]
  },
  {
   "cell_type": "code",
   "execution_count": 18,
   "id": "5c75536e-e679-4dbe-94eb-b340423711fc",
   "metadata": {},
   "outputs": [],
   "source": [
    "filenames = ['/Users/cpacifici/DATA/COSMOSWEB/mosaic_nircam_f115w_COSMOS-Web_30mas_v0_2_i2d.fits',\n",
    "             '/Users/cpacifici/DATA/COSMOSWEB/mosaic_nircam_f277w_COSMOS-Web_60mas_v0_2_i2d.fits',\n",
    "             '/Users/cpacifici/DATA/COSMOSWEB/mosaic_nircam_f444w_COSMOS-Web_60mas_v0_2_i2d.fits'\n",
    "            ]\n",
    "\n",
    "with imviz.batch_load():  # not necessary, but this context manager makes loading multiple files more efficient          \n",
    "    for filename in filenames:\n",
    "        # imviz.load_data(f'mast:JWST/product/{filename}', cache=True)\"  # to re-download from MAST (or use cached files)\n",
    "        imviz.load_data(f'{filename}', cache=True)  # pre-downloaded data"
   ]
  },
  {
   "cell_type": "markdown",
   "id": "ab62ab28-b2cf-4377-9682-173e075c97ea",
   "metadata": {},
   "source": [
    "Once these files are loaded (which will take longer the first time if they need to be downloaded), they will appear in Imviz in the cell above. Both datasets (given default labels 'A', 'B', and 'C') were loaded into the same viewer. They appear in the data menu on the left hand side. You can select/deselect loaded data to display, remove/re-add data from the viewer, and delete loaded data from the app. To blink between images, press the 'b' key (note that blinking will de-select non active layers)."
   ]
  },
  {
   "cell_type": "markdown",
   "id": "152faf67-0bbc-4b40-a758-9888cd05f907",
   "metadata": {},
   "source": [
    "### Linking by WCS\n",
    "\n",
    "By default, images are pixel linked when loaded. We can link them by WCS in the 'Orientation' plugin. (This doesn't matter so much in this case, it so happens, but we want to be using world coordinates for catalog functionality)."
   ]
  },
  {
   "cell_type": "code",
   "execution_count": null,
   "id": "1e1161d1-ad45-44fd-90f2-3ee061cd2c92",
   "metadata": {},
   "outputs": [],
   "source": [
    "plg_orient = imviz.plugins['Orientation']\n",
    "plg_orient.align_by = \"WCS\""
   ]
  },
  {
   "cell_type": "markdown",
   "id": "01c45a84-43fc-4e60-a524-ad07729f4940",
   "metadata": {},
   "source": [
    "## Modifying Image Display Options\n",
    "Now, we will modify some of the display options to better suit our data. For the live demo, we will do this in the UI in the 'Plot Options' plugin by modifying the image stretch from linear to logarithmic, and setting vmax to a more appropriate value. We will make use of 'layer multiselect' to apply these options to all images at the same time, but you can set different display options for each image independently as well. The following cell accomplishes the same task from the API. \n",
    "\n",
    "(Take a look around the Plot Options plugin, there is a lot more you can do to customize display settings including colormap, setting layer colors and opacities to create composite RGB images, and displaying contours.)"
   ]
  },
  {
   "cell_type": "code",
   "execution_count": null,
   "id": "4ecccd2c-241a-4d82-aa82-ebaaeba9720c",
   "metadata": {},
   "outputs": [],
   "source": [
    "plg_plot = imviz.plugins['Plot Options']\n",
    "\n",
    "print(plg_plot.stretch_function.choices)\n",
    "print(plg_plot.stretch_function.value)\n",
    "print()\n",
    "print(plg_plot.image_colormap.choices)\n",
    "print(plg_plot.image_colormap.value)"
   ]
  },
  {
   "cell_type": "code",
   "execution_count": null,
   "id": "2cb44178-83e7-48a3-8cff-25be6a140b6c",
   "metadata": {},
   "outputs": [],
   "source": [
    "# the following code is the API equivalent to the series of UI clicks we will do in the live demo\n",
    "\n",
    "# get the 'Plot Options' plugin\n",
    "plg_plot = imviz.plugins['Plot Options']\n",
    "\n",
    "# enable mutiselect so our chosen options are applied to all images\n",
    "plg_plot.layer.multiselect = True\n",
    "plg_plot.select_all()\n",
    "\n",
    "# switch stretch function from default linear to log\n",
    "plg_plot.stretch_function = 'arcsinh'\n",
    "\n",
    "# use the 99.5% stretch function preset\n",
    "plg_plot.stretch_preset = '99.5%'\n",
    "\n",
    "# increase vmax to a more suitable value\n",
    "plg_plot.stretch_vmax = 1\n",
    "plg_plot.stretch_vmin = 0\n"
   ]
  },
  {
   "cell_type": "markdown",
   "id": "4c3b12f0-5392-42eb-9b29-08c2284e7624",
   "metadata": {},
   "source": [
    "Now that we know how to set our own plot options, let's use one of the RGB presets, just for fun. This will apply preset color, stretch, and opacity settings to each layer."
   ]
  },
  {
   "cell_type": "code",
   "execution_count": null,
   "id": "a21c4e12-1989-4c2e-89e6-58df2bacd140",
   "metadata": {},
   "outputs": [],
   "source": [
    "plg_plot = imviz.plugins['Plot Options']\n",
    "plg_plot.image_color_mode = 'Color'\n",
    "plg_plot.apply_RGB_presets()"
   ]
  },
  {
   "cell_type": "markdown",
   "id": "8b42837e-56ec-4ec1-bd59-7596d1e33045",
   "metadata": {},
   "source": [
    "## Loading Catalogs\n",
    "\n",
    "SDSS and Gaia catalogs can be loaded directly from jdaviz (with more catalog support planned in the future). Additionally, you can load your own catalog into the application.\n",
    "\n",
    "In this demo, we are going to query for Gaia sources in the FOV of our image, plot some of them over the image, select them all and zoom to the region containing the sources using 'zoom_to_selected', and finally we will select just one source and zoom to that."
   ]
  },
  {
   "cell_type": "code",
   "execution_count": 4,
   "id": "94318b0e-6cfd-494c-badb-735f894deb62",
   "metadata": {},
   "outputs": [
    {
     "data": {
      "text/html": [
       "<div><i>QTable length=12</i>\n",
       "<table id=\"table4922666080\" class=\"table-striped table-bordered table-condensed\">\n",
       "<thead><tr><th>label</th><th>sky_centroid</th></tr></thead>\n",
       "<thead><tr><th></th><th>deg,deg</th></tr></thead>\n",
       "<thead><tr><th>int64</th><th>SkyCoord</th></tr></thead>\n",
       "<tr><td>1</td><td>149.95284346306025,2.386254387160591</td></tr>\n",
       "<tr><td>2</td><td>149.95551514121357,2.3850644734585216</td></tr>\n",
       "<tr><td>3</td><td>149.95248259026036,2.3901711840984894</td></tr>\n",
       "<tr><td>4</td><td>149.95002290207427,2.3915991548887416</td></tr>\n",
       "<tr><td>5</td><td>149.94436169789967,2.391923121958097</td></tr>\n",
       "<tr><td>6</td><td>149.94294106006635,2.392312479130075</td></tr>\n",
       "<tr><td>7</td><td>149.94113964301883,2.3852143581160914</td></tr>\n",
       "<tr><td>8</td><td>149.9532408923092,2.3966809089874204</td></tr>\n",
       "<tr><td>9</td><td>149.95337073831345,2.3957539816702966</td></tr>\n",
       "<tr><td>10</td><td>149.9417455131169,2.395726202143818</td></tr>\n",
       "<tr><td>11</td><td>149.95819743828446,2.3942713846311943</td></tr>\n",
       "<tr><td>12</td><td>149.96297198827065,2.3951723286000397</td></tr>\n",
       "</table></div>"
      ],
      "text/plain": [
       "<QTable length=12>\n",
       "label              sky_centroid            \n",
       "                     deg,deg               \n",
       "int64                SkyCoord              \n",
       "----- -------------------------------------\n",
       "    1  149.95284346306025,2.386254387160591\n",
       "    2 149.95551514121357,2.3850644734585216\n",
       "    3 149.95248259026036,2.3901711840984894\n",
       "    4 149.95002290207427,2.3915991548887416\n",
       "    5  149.94436169789967,2.391923121958097\n",
       "    6  149.94294106006635,2.392312479130075\n",
       "    7 149.94113964301883,2.3852143581160914\n",
       "    8  149.9532408923092,2.3966809089874204\n",
       "    9 149.95337073831345,2.3957539816702966\n",
       "   10   149.9417455131169,2.395726202143818\n",
       "   11 149.95819743828446,2.3942713846311943\n",
       "   12 149.96297198827065,2.3951723286000397"
      ]
     },
     "execution_count": 4,
     "metadata": {},
     "output_type": "execute_result"
    }
   ],
   "source": [
    "temp_cat = 'temp_catalog.ecsv'\n",
    "cat = QTable.read(temp_cat)\n",
    "cat"
   ]
  },
  {
   "cell_type": "code",
   "execution_count": 5,
   "id": "cc87140e-ee38-4eae-b595-572eb2726506",
   "metadata": {},
   "outputs": [],
   "source": [
    "plg_cat = imviz.plugins['Catalog Search']\n",
    "plg_cat.import_catalog('temp_catalog.ecsv')"
   ]
  },
  {
   "cell_type": "raw",
   "id": "f630afe3-a75f-4942-aaf0-952bcf4b68ac",
   "metadata": {},
   "source": [
    "plg_cat = imviz.plugins['Catalog Search']._obj\n",
    "\n",
    "# select Gaia catalog\n",
    "plg_cat.catalog.selected = 'Gaia'\n",
    "\n",
    "# request only 10 sources\n",
    "plg_cat.max_sources = 10\n",
    "\n",
    "# and run the search\n",
    "plg_cat.search()\n",
    "\n",
    "# select all catalog table entries\n",
    "plg_cat.table.selected_rows = plg_cat.table.items\n",
    "\n",
    "# and zoom to region containing these points\n",
    "plg_cat.zoom_to_selected()"
   ]
  },
  {
   "cell_type": "raw",
   "id": "656eeb55-a27c-496e-bc36-e51cfe66575e",
   "metadata": {},
   "source": [
    "# now select just the first point\n",
    "plg_cat.table.selected_rows = plg_cat.table.items[0:1]\n",
    "\n",
    "# and zoom to that point\n",
    "plg_cat.zoom_to_selected()"
   ]
  },
  {
   "cell_type": "markdown",
   "id": "91fa5d6a-c937-4c1f-b2a3-1ac3679acab6",
   "metadata": {},
   "source": [
    "## Load footprints"
   ]
  },
  {
   "cell_type": "code",
   "execution_count": 13,
   "id": "9e7e2372-beba-4b8c-9aec-1a6aaed420d3",
   "metadata": {},
   "outputs": [],
   "source": [
    "plg_fprint = imviz.plugins['Footprints']\n",
    "plg_fprint.add_overlay('nirspec')\n",
    "#plg_fprint.overlay = 'nirspec'\n",
    "plg_fprint.preset = 'NIRSpec'\n",
    "plg_fprint.ra = cat['sky_centroid'][0].ra.value\n",
    "plg_fprint.dec = cat['sky_centroid'][0].dec.value\n",
    "plg_fprint.pa = 30"
   ]
  },
  {
   "cell_type": "markdown",
   "id": "06025284-99ea-4cd6-bf86-a6e14ffab8f4",
   "metadata": {},
   "source": [
    "## Aperture photometry\n",
    "\n",
    "Lets do some rough analysis of our single selected gaia source. We can draw a circular 'subset' near the souce, then use 'recenter' to centroid the position a little better. Again, we will be doing this in the UI during the demo but the following API calls will replicate these steps."
   ]
  },
  {
   "cell_type": "markdown",
   "id": "5a7a3446-7bb3-49c9-b8d7-253360db195f",
   "metadata": {},
   "source": [
    "### Creating and loading regions"
   ]
  },
  {
   "cell_type": "code",
   "execution_count": 20,
   "id": "90ca3204-23d9-488a-ae39-586166d56119",
   "metadata": {},
   "outputs": [],
   "source": [
    "# get the 'Subsets Tools' plugin where we can create and interact with spatial regions in imviz\n",
    "plg_subset = imviz.plugins['Subset Tools']\n",
    "\n",
    "# load a circular region at the location of our selected catalog item\n",
    "# just for demo sake, shift the coordinates a tiny bit from the catalog position so we\n",
    "# can use the 'recenter' position. This recreates the scenario of freehand drawing a circular subset\n",
    "# rather than placing it at an exact location\n",
    "circular_region = CircleSkyRegion(center=cat['sky_centroid'][1], radius=3*u.arcsec)\n",
    "plg_subset.import_region(circular_region)"
   ]
  },
  {
   "cell_type": "code",
   "execution_count": 23,
   "id": "c5a4a10d-24d1-44b0-b1fa-01dfe3ff0b00",
   "metadata": {},
   "outputs": [],
   "source": [
    "# use the 'recenter' function to get our drawn region closer to the center of the source\n",
    "# call this a few times to converge on a better position\n",
    "plg_subset.subset = 'Subset 1'\n",
    "plg_subset.recenter()\n",
    "plg_subset.recenter()\n",
    "plg_subset.recenter()"
   ]
  },
  {
   "cell_type": "markdown",
   "id": "bb5ba4b1-8739-4c66-8be9-24fdf3053369",
   "metadata": {},
   "source": [
    "### Aperture Photometry\n",
    "With a subset created and placed on one of the sources in the image, we can use the Aperture Photometry plugin to do some analysis. We can make use of 'batch mode' to get photometry for all loaded images using the same subset (which is useful assuming images are well aligned)."
   ]
  },
  {
   "cell_type": "code",
   "execution_count": 24,
   "id": "06f5f2f4-af12-44c5-949c-fdc854bcc015",
   "metadata": {},
   "outputs": [],
   "source": [
    "# get the plugin\n",
    "aperture_photometry = imviz.plugins['Aperture Photometry']._obj\n",
    "\n",
    "# enable multiselect mode to do photometry on multiple datasets at once\n",
    "aperture_photometry.multiselect = True\n",
    "\n",
    "# select all datasets\n",
    "aperture_photometry.dataset.select_all()\n",
    "\n",
    "# select our photometric aperture\n",
    "aperture_photometry.aperture.selected = 'Subset 1'\n",
    "\n",
    "# and run photometry to produce output table\n",
    "aperture_photometry.vue_do_aper_phot()"
   ]
  },
  {
   "cell_type": "markdown",
   "id": "89d3710a-bf8e-4e0b-a7df-8e5f2e51ccd1",
   "metadata": {},
   "source": [
    "We can look at the output table to see the photometry results for the aperture on each image layer and compare, for example, the magnitude in each filter."
   ]
  },
  {
   "cell_type": "code",
   "execution_count": 25,
   "id": "93528731-a821-47bf-83ed-c89d5a2d5637",
   "metadata": {},
   "outputs": [
    {
     "data": {
      "application/vnd.jupyter.widget-view+json": {
       "model_id": "247ee62e9b8642c59f593d98103caee2",
       "version_major": 2,
       "version_minor": 0
      },
      "text/plain": [
       "Table(events=['clear_table', 'popout'], headers_avail=['xcenter', 'ycenter', 'sky_center', 'sum', 'sum_aper_ar…"
      ]
     },
     "execution_count": 25,
     "metadata": {},
     "output_type": "execute_result"
    }
   ],
   "source": [
    "aperture_photometry.table"
   ]
  },
  {
   "cell_type": "markdown",
   "id": "fa1fa2ee-303c-4589-a368-29aa92fa4497",
   "metadata": {},
   "source": [
    "(Bonus exercise if there is time remaining: Disable multiselect in Aperture Photometry and calculate and display a radial profile on each layer)"
   ]
  }
 ],
 "metadata": {
  "kernelspec": {
   "display_name": "Python 3 (ipykernel)",
   "language": "python",
   "name": "python3"
  },
  "language_info": {
   "codemirror_mode": {
    "name": "ipython",
    "version": 3
   },
   "file_extension": ".py",
   "mimetype": "text/x-python",
   "name": "python",
   "nbconvert_exporter": "python",
   "pygments_lexer": "ipython3",
   "version": "3.12.8"
  }
 },
 "nbformat": 4,
 "nbformat_minor": 5
}
