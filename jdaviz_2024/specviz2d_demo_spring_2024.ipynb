{
 "cells": [
  {
   "cell_type": "markdown",
   "id": "6b0ee22d",
   "metadata": {},
   "source": [
    "<img style=\"float: center;\" src='https://github.com/STScI-MIRI/MRS-ExampleNB/raw/main/assets/banner1.png' alt=\"stsci_logo\" width=\"1000px\"/> \n",
    "\n",
    "# Specviz2D tutorial - JWebbinar 32\n",
    "-----\n",
    "\n",
    "**Author**: Ricky O'Steen | Data Analysis Tools Branch, Space Telescope Science Institute\n",
    "<br>\n",
    "**Last Updated**: May 10th, 2024\n",
    "<br>"
   ]
  },
  {
   "cell_type": "markdown",
   "id": "b07f1ef5-5e43-457f-b666-e84abaa35f8a",
   "metadata": {},
   "source": [
    "In this tutorial, you will learn how to extract a one dimensional spectrum from a two dimensional spectrum using\n",
    "Specviz2D, and see how you can perform some basic analysis of the extracted spectrum. The first thing we'll do is\n",
    "import the packages that we'll be using in the notebook below:"
   ]
  },
  {
   "cell_type": "code",
   "execution_count": null,
   "id": "96bb6007-74c2-4aa8-9dfb-3214a1c1088a",
   "metadata": {},
   "outputs": [],
   "source": [
    "import astropy.units as u\n",
    "from glue.core.roi import XRangeROI\n",
    "from jdaviz import Specviz2d"
   ]
  },
  {
   "cell_type": "markdown",
   "id": "7989b6f7-5444-41be-a5f4-90827d8f1d15",
   "metadata": {},
   "source": [
    "Note: We filter most warnings here to avoid clutter in the notebook."
   ]
  },
  {
   "cell_type": "code",
   "execution_count": null,
   "id": "0bc1ea79-31d6-4b9e-a57e-013c66b4f714",
   "metadata": {},
   "outputs": [],
   "source": [
    "import warnings\n",
    "warnings.simplefilter('ignore')"
   ]
  },
  {
   "cell_type": "markdown",
   "id": "f691033d-a510-42c7-a6af-eb4b8f053afd",
   "metadata": {},
   "source": [
    "## A brief detour: data retrieval from MAST\n",
    "\n",
    "The data we will be using in this tutorial is a spectrum of a planetary nebula with strong emission lines that was\n",
    "used to [verify the NIRSpec wavelength calibration](https://www.stsci.edu/jwst/phase2-public/1125.pdf),\n",
    "and can be retrieved from [MAST](https://archive.stsci.edu/). Data in MAST\n",
    "can be opened in JDaviz in your web browser if it is in a format compatible with one of the Jdaviz configurations.\n",
    "You can see an example of this with the data that we'll be using by clicking [here](https://mast.stsci.edu/viz/ui/#/spectra?uri=mast%3AJWST%2Fproduct%2Fjw01125-o001_s00001_nirspec_f290lp-g395h-s200a1-subs200a1_s2d.fits). All of the UI features\n",
    "that we'll see today are available through MAST, with the downside of not being able to use notebook cells for\n",
    "Jdaviz API calls or additional analysis with other tools. \n",
    "\n",
    "In the top right of the Jdaviz-in-MAST page linked, above you should see a button labeled \"Open Data In\". Clicking that\n",
    "will allow you to select \"Jupyter\", which will download a notebook to your local machine with code in it to download\n",
    "the data you were looking at on MAST and open it in Jdaviz, giving you a local copy of what you were seeing on the page.\n",
    "Note that any operations or analyis you did on the web version will not be reflected in this local notebook, the downloaded\n",
    "notebook simply retrieves the data and opens Jdaviz in a fresh state. The commented-out code block below to retrieve the\n",
    "data from MAST is what you would see if you downloaded one of these notebooks from MAST, but today we have the data\n",
    "preloaded locally on the jwebbinar platform."
   ]
  },
  {
   "cell_type": "code",
   "execution_count": null,
   "id": "bdb62063",
   "metadata": {},
   "outputs": [],
   "source": [
    "'''\n",
    "import os\n",
    "from astroquery.mast import Observations\n",
    "\n",
    "# Get authentication token and login\n",
    "auth_token = os.environ.get('MAST_API_TOKEN', None)\n",
    "Observations.login(auth_token)\n",
    "\n",
    "# download the data file\n",
    "uri = f\"mast:jwst/product/jw01125-o001_s00001_nirspec_f290lp-g395h-s200a1-subs200a1_s2d.fits\"\n",
    "result = Observations.download_file(uri, base_url='https://mast.stsci.edu/api/v0.1/Download/file')\n",
    "if result[0] == 'ERROR':\n",
    "    raise RuntimeError('Error retrieving file: ' + result[1])\n",
    "\n",
    "# construct the local filepath to load into Jdaviz\n",
    "local_path = os.path.join(os.path.abspath('.'), uri.rsplit('/', 1)[-1])\n",
    "'''"
   ]
  },
  {
   "cell_type": "code",
   "execution_count": null,
   "id": "1051a432",
   "metadata": {},
   "outputs": [],
   "source": [
    "local_path = \"/home/shared/preloaded-fits/jdaviz_2024/staged_fits_webbinar_2024/jw01125-o001_s00001_nirspec_f290lp-g395h-s200a1-subs200a1_s2d.fits\""
   ]
  },
  {
   "cell_type": "markdown",
   "id": "477f1c0f-d9cd-4c6a-8bb7-6b179ca6bf5c",
   "metadata": {},
   "source": [
    "## Loading data into Specviz2D\n",
    "\n",
    "Now we load the data file and display the Jdaviz application. Note that you can also call the `specviz2d.show()` method\n",
    "before loading data, and then load data either through the API or by clicking the `Import Data` button in the top left\n",
    "of the Jdaviz application."
   ]
  },
  {
   "cell_type": "code",
   "execution_count": null,
   "id": "337bc487",
   "metadata": {},
   "outputs": [],
   "source": [
    "specviz2d = Specviz2d()\n",
    "specviz2d.load_data(local_path)\n",
    "specviz2d.show()"
   ]
  },
  {
   "cell_type": "markdown",
   "id": "fdb0a8e4-04b6-474b-8e73-038b1f8380c1",
   "metadata": {},
   "source": [
    "## Spectral Extraction with Specviz2D\n",
    "\n",
    "We'll be focusing on the Spectral Extraction plugin for the first part of the tutorial. Each plugin has an API that\n",
    "can be accessed in code cells to interact with the plugin, in addition to using the UI. This can be useful for operations\n",
    "that you may want to repeat every time you open a notebook, or simply to keep track of what you've done in your analysis.\n",
    "To access the Spectral Extraction API, we run:"
   ]
  },
  {
   "cell_type": "code",
   "execution_count": null,
   "id": "e636f47c-8dfd-4b1b-a2bd-1b0d547f0754",
   "metadata": {},
   "outputs": [],
   "source": [
    "extract = specviz2d.plugins[\"Spectral Extraction\"]"
   ]
  },
  {
   "cell_type": "markdown",
   "id": "62c1bafe-f892-447a-a04b-04dc7c6ecac2",
   "metadata": {},
   "source": [
    "Running `extract.open_in_plugin()` opens the plugin in the Jdaviz application.\n",
    "To see all of the parameters and methods that are accessible through the API, you can run `dir(extract)`:"
   ]
  },
  {
   "cell_type": "code",
   "execution_count": null,
   "id": "e5fa967e-f8a4-443f-8aec-c57c5fde783f",
   "metadata": {},
   "outputs": [],
   "source": [
    "extract.open_in_tray()\n",
    "dir(extract)"
   ]
  },
  {
   "cell_type": "markdown",
   "id": "54e347e0-3498-4955-b032-ed740881525c",
   "metadata": {},
   "source": [
    "Accessing the parameter associated with a selection menu will show you both the choices and which of those\n",
    "choices is currently selected:"
   ]
  },
  {
   "cell_type": "code",
   "execution_count": null,
   "id": "a659ce5d-e512-48ed-96e0-37d5c5511db0",
   "metadata": {},
   "outputs": [],
   "source": [
    "extract.trace_type"
   ]
  },
  {
   "cell_type": "markdown",
   "id": "57948417-c460-4368-85b0-d368183f40a0",
   "metadata": {},
   "source": [
    "Here, we will set the trace type to \"Polynomial\" and change the order from 3 to 5:"
   ]
  },
  {
   "cell_type": "code",
   "execution_count": null,
   "id": "1f00fe8b-1c3a-4809-ae4c-9c8e3f9a2380",
   "metadata": {},
   "outputs": [],
   "source": [
    "extract.trace_type = \"Polynomial\"\n",
    "extract.trace_order = 5"
   ]
  },
  {
   "cell_type": "markdown",
   "id": "b65db313-c18d-4746-8cce-a2ff50a4f797",
   "metadata": {},
   "source": [
    "We will explore the remaining options in the UI. One important thing to note is that the preview marks\n",
    "displayed in the viewers are context-dependent, based on which section of the plugin your mouse is hovering over.\n",
    "If you are in the trace section, the central trace for the extraction is shown, whereas in the background section\n",
    "the background windows are shown, and in the extract section the central trace and window width are shown.\n",
    "\n",
    "After setting the parameters as desired, clicking the `Extract` button will create a new data entry in the 1D spectrum\n",
    "viewer. If the data label chosen is the same as existing data, the button will instead read `Extract (Overwrite)`. The\n",
    "trace itself and some quantities related to the background can also be exported as their own data entries, but as these\n",
    "are less commonly used, these options are hidden in collapsed expandable sections.\n",
    "\n",
    "The extracted spectrum can be retrieved into the notebook with the `get_data()` method:"
   ]
  },
  {
   "cell_type": "code",
   "execution_count": null,
   "id": "6d96b8af-c69e-4e40-a1e4-bfc1d55a99a9",
   "metadata": {},
   "outputs": [],
   "source": [
    "extracted_spec = specviz2d.get_data(\"Spectrum 1D\")\n",
    "extracted_spec"
   ]
  },
  {
   "cell_type": "markdown",
   "id": "4fa8e62d-5672-4dfc-bcb3-01b3d01ca515",
   "metadata": {},
   "source": [
    "You could then analyze this spectrum using, for example, tools from `astropy`. Alternatively, some basic\n",
    "analysis can be done from the Jdaviz application, for example measuring or fitting emission lines. You\n",
    "can run the following to define a subset around one of the emission features in the spectrum, or use the UI\n",
    "subset selection to highlight another feature of your choosing:"
   ]
  },
  {
   "cell_type": "code",
   "execution_count": null,
   "id": "a9fd9d51-3d14-48f0-9b3e-c75273122c22",
   "metadata": {},
   "outputs": [],
   "source": [
    "sv = specviz2d.app.get_viewer('spectrum-viewer')\n",
    "sv.toolbar_active_subset.selected = []\n",
    "sv.apply_roi(XRangeROI(4.29, 4.31))"
   ]
  },
  {
   "cell_type": "markdown",
   "id": "724efb8a-dfdd-4006-ba89-a4a5d18845d1",
   "metadata": {},
   "source": [
    "Opening the `Line Analysis` plugin and selecting the subset you just created under \"Spectral region\"\n",
    "will automatically calculate some common measures of the line of interest. Alternatively, you can fit an\n",
    "[astropy.modeling](https://docs.astropy.org/en/stable/modeling/) model from within the Jdaviz application\n",
    "in the `Model Fitting` plugin for more a more customizable analysis."
   ]
  },
  {
   "cell_type": "markdown",
   "id": "b281786a-c3df-4986-b58f-b1a06cce4e61",
   "metadata": {},
   "source": [
    "<img style=\"float: right;\" src=\"https://raw.githubusercontent.com/spacetelescope/notebooks/master/assets/stsci_pri_combo_mark_horizonal_white_bkgd.png\" alt=\"Space Telescope Logo\" width=\"200px\"/>"
   ]
  }
 ],
 "metadata": {
  "kernelspec": {
   "display_name": "Python 3 (ipykernel)",
   "language": "python",
   "name": "python3"
  },
  "language_info": {
   "codemirror_mode": {
    "name": "ipython",
    "version": 3
   },
   "file_extension": ".py",
   "mimetype": "text/x-python",
   "name": "python",
   "nbconvert_exporter": "python",
   "pygments_lexer": "ipython3",
   "version": "3.12.3"
  }
 },
 "nbformat": 4,
 "nbformat_minor": 5
}
