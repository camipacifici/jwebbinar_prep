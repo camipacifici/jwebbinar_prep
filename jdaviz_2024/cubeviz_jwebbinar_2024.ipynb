{
 "cells": [
  {
   "cell_type": "markdown",
   "id": "5d5ac643-28f2-4007-8f87-84ad7a624719",
   "metadata": {},
   "source": [
    "<img style=\"float: center;\" src='https://github.com/STScI-MIRI/MRS-ExampleNB/raw/main/assets/banner1.png' alt=\"stsci_logo\" width=\"1000px\">"
   ]
  },
  {
   "cell_type": "markdown",
   "id": "6eab355c-e772-4e62-9396-ba6b2f719c6b",
   "metadata": {},
   "source": [
    "# Cubeviz with NIRSpec data - JWebbinar 2024"
   ]
  },
  {
   "cell_type": "markdown",
   "id": "ac30ff5f-6b01-405f-853b-3916a80b4f39",
   "metadata": {},
   "source": [
    "### Author: Jesse Averbukh | Software Engineer at STScI\n",
    "### Date: May 13, 2024 "
   ]
  },
  {
   "cell_type": "markdown",
   "id": "66365411-d1ef-428c-ac71-faad86aee935",
   "metadata": {},
   "source": [
    "## Introduction\n",
    "This tutorial will cover the following features:\n",
    "- Line lists\n",
    "- Line analysis\n",
    "- Redshift estimation\n",
    "- Moment maps\n",
    "- Spectrum when hovering over spaxel\n",
    "- Spectral extraction\n",
    "- Unit conversion"
   ]
  },
  {
   "cell_type": "markdown",
   "id": "1e9db6d1-13b6-4490-85a9-98e02139eaa8",
   "metadata": {},
   "source": [
    "The data used in this webinar is provided courtesy of MAST and the analysis is based on the paper \"GOALS-JWST: Gas Dynamics and Excitation in NGC 7469 Revealed by NIRSpec\" ( https://iopscience.iop.org/article/10.3847/1538-4357/ad2a50/pdf ) by Marina Bianchin et al. (2024)"
   ]
  },
  {
   "cell_type": "markdown",
   "id": "e6b0d32a-844c-47c2-9ae5-e4abcfa7469b",
   "metadata": {},
   "source": [
    "We will start with our imports:"
   ]
  },
  {
   "cell_type": "code",
   "execution_count": null,
   "id": "c4ea4f54-99e6-4247-9aef-e8c9016e9079",
   "metadata": {},
   "outputs": [],
   "source": [
    "# This is where we import the cubeviz configuration\n",
    "from jdaviz import Cubeviz\n",
    "\n",
    "# For accessing the file from MAST and loading it into a temporary directory\n",
    "import tempfile\n",
    "# from astroquery.mast import Observations\n",
    "import warnings\n",
    "\n",
    "# For creating spectral subsets\n",
    "from glue.core.roi import XRangeROI\n",
    "\n",
    "# For creating spatial subsets\n",
    "from glue.core.roi import CircularROI, RectangularROI\n",
    "\n",
    "# For loading line lists\n",
    "from jdaviz.core.linelists import load_preset_linelist\n",
    "\n",
    "# For creating a custom line list\n",
    "from astropy.table import QTable\n",
    "import astropy.units as u"
   ]
  },
  {
   "cell_type": "code",
   "execution_count": null,
   "id": "ab23c905-8c9d-4044-8536-0c4e2058545e",
   "metadata": {},
   "outputs": [],
   "source": [
    "# Create an instance of cubeviz\n",
    "cubeviz = Cubeviz()"
   ]
  },
  {
   "cell_type": "code",
   "execution_count": null,
   "id": "bce26f6f-7492-4062-b60a-b82657de82d3",
   "metadata": {},
   "outputs": [],
   "source": [
    "cubeviz.show('sidecar:right')"
   ]
  },
  {
   "cell_type": "code",
   "execution_count": null,
   "id": "f283b469-e165-4e41-991c-482b1bed1d4b",
   "metadata": {},
   "outputs": [],
   "source": [
    "fn = 'jw01328-o018_t010_nirspec_g235h-f170lp_s3d.fits'\n",
    "# data_dir = tempfile.gettempdir()\n",
    "\n",
    "# result = Observations.download_file(f\"mast:JWST/product/{fn}\", local_path=f'{data_dir}/{fn}')\n",
    "\n",
    "# We will use this path for the webinar\n",
    "staged_path = \"/home/shared/preloaded-fits/jdaviz_2024/staged_fits_webbinar_2024/\"\n",
    "\n",
    "with warnings.catch_warnings():\n",
    "    warnings.simplefilter('ignore')\n",
    "    cubeviz.load_data(f'{staged_path}/{fn}')"
   ]
  },
  {
   "cell_type": "code",
   "execution_count": null,
   "id": "c7d696c4-a27b-4221-bd76-4ac98567232c",
   "metadata": {},
   "outputs": [],
   "source": [
    "# Retrieve viewer object\n",
    "spec_viewer = cubeviz.viewers['spectrum-viewer']._obj\n",
    "\n",
    "# Highlight the H2 1-0S(1) line with a spectral subset\n",
    "spec_viewer.apply_roi(XRangeROI(2.1544, 2.1588))"
   ]
  },
  {
   "cell_type": "code",
   "execution_count": null,
   "id": "15671e5b-d518-4a50-862c-af160c617488",
   "metadata": {},
   "outputs": [],
   "source": [
    "# This creates a new spectral subset\n",
    "spec_viewer.toolbar.active_tool = spec_viewer.toolbar.tools['bqplot:xrange']\n",
    "\n",
    "# Highlight the Paschen-alpha line with a spectral subset\n",
    "spec_viewer.apply_roi(XRangeROI(1.9033, 1.9085))"
   ]
  },
  {
   "cell_type": "code",
   "execution_count": null,
   "id": "7ca488fb-0d02-4c4a-9342-a8ef641798c6",
   "metadata": {},
   "outputs": [],
   "source": [
    "# Load H2 line lists and plot the H 1-0S(1) line\n",
    "ll = cubeviz.plugins['Line Lists']._obj\n",
    "ll.open_in_tray()\n",
    "ll.available_lists\n",
    "cubeviz.load_line_list(load_preset_linelist('H2'))\n",
    "cubeviz.erase_spectral_lines()\n",
    "cubeviz.plot_spectral_line('H 1-0S(1)')"
   ]
  },
  {
   "cell_type": "code",
   "execution_count": null,
   "id": "d8435dca-340c-4e1a-a344-043511fd7f44",
   "metadata": {},
   "outputs": [],
   "source": [
    "# Load H-Paschen-Brackett line lists and plot the HI 4-3 line\n",
    "ll = cubeviz.plugins['Line Lists']._obj\n",
    "ll.open_in_tray()\n",
    "ll.available_lists\n",
    "cubeviz.load_line_list(load_preset_linelist('H-Paschen-Brackett'))\n",
    "cubeviz.erase_spectral_lines()\n",
    "cubeviz.plot_spectral_line('HI 4-3')\n",
    "cubeviz.plot_spectral_line('H 1-0S(1)')"
   ]
  },
  {
   "cell_type": "code",
   "execution_count": null,
   "id": "f0e6cbfa-3f67-40c9-8268-a165cac05e39",
   "metadata": {},
   "outputs": [],
   "source": [
    "# Look at statistics for the H2 line\n",
    "la = cubeviz.plugins['Line Analysis']\n",
    "la.open_in_tray()\n",
    "la.spectral_subset = 'Subset 1'\n",
    "la.continuum = 'Surrounding'"
   ]
  },
  {
   "cell_type": "code",
   "execution_count": null,
   "id": "b0062ac8-1d73-4108-bf0e-89a1d253ff80",
   "metadata": {},
   "outputs": [],
   "source": [
    "# Select line in order to find redshift of galaxy by comparing rest wavelength\n",
    "# to the observed wavelength\n",
    "print(la._obj.line_items)\n",
    "la._obj.selected_line = 'H 1-0S(1) 2.121'"
   ]
  },
  {
   "cell_type": "code",
   "execution_count": null,
   "id": "1b605869-f1c1-4b65-9990-b7f6f78f3050",
   "metadata": {},
   "outputs": [],
   "source": [
    "# Estimated redshift\n",
    "la._obj.selected_line_redshift"
   ]
  },
  {
   "cell_type": "code",
   "execution_count": null,
   "id": "025a21c0-7686-4ec5-ba48-10acda07671e",
   "metadata": {},
   "outputs": [],
   "source": [
    "# Set line lists to estimated redshift\n",
    "ll.rs_redshift = la._obj.selected_line_redshift"
   ]
  },
  {
   "cell_type": "markdown",
   "id": "616c77bf-8495-4e01-9074-1500bdd44425",
   "metadata": {},
   "source": [
    "Now that we have the spectral emissions highlighted, we can create moment maps for each of them to get a better sense of what is happening in the galaxy. We will start with a moment 0 map, which will show us the concentration of the particular element in the galaxy."
   ]
  },
  {
   "cell_type": "code",
   "execution_count": null,
   "id": "82cef9b1-6a35-49a0-9e0c-4fac21d82155",
   "metadata": {},
   "outputs": [],
   "source": [
    "# Create a moment map of 0 for the H2 emission line\n",
    "mm = cubeviz.plugins['Moment Maps']\n",
    "mm.open_in_tray()\n",
    "mm.spectral_subset = 'Subset 1'\n",
    "mm.continuum = 'Surrounding'\n",
    "mm.n_moment = 0\n",
    "mm.add_results.label = 'moment-0-h2'\n",
    "mm.add_results.viewer = 'uncert-viewer'\n",
    "mm.calculate_moment()"
   ]
  },
  {
   "cell_type": "code",
   "execution_count": null,
   "id": "3fb5ba00-5ab8-433c-888d-7c626ecbb9de",
   "metadata": {},
   "outputs": [],
   "source": [
    "# Create a moment map of 0 for the Paschen-alpha emission line\n",
    "mm = cubeviz.plugins['Moment Maps']\n",
    "mm.spectral_subset = 'Subset 2'\n",
    "mm.continuum = 'Surrounding'\n",
    "mm.n_moment = 0\n",
    "mm.add_results.label = 'moment-0-pa'\n",
    "mm.add_results.viewer = 'flux-viewer'\n",
    "mm.calculate_moment()"
   ]
  },
  {
   "cell_type": "markdown",
   "id": "d527a9ec-6efa-4125-af18-9a1eded4cac6",
   "metadata": {},
   "source": [
    "The paper makes some observations about the increased amounts of Paschen-alpha corresponding to star-forming regions in the north, west, and southern areas of the outer ring. There also appears to be a slight trail of this element going from the nucleus to the ring just south east of the nucleus."
   ]
  },
  {
   "cell_type": "markdown",
   "id": "f5dfcb08-b6b3-47ff-a8ca-bac9e20caaa6",
   "metadata": {},
   "source": [
    "We can also see that there is a high concentration of H2 in the nucleus. The paper asserts that this shows evidence of an AGN, because the high concentration of H2 is consistent with a nuclear radio jet that the authors hypothesize is leading to increased star formation in the galaxy. We will now create moment maps with a moment of 1 to see the flux-weighted centroid of the Paschen-alpha line. This will show us the velocity field in the galaxy at that wavelength."
   ]
  },
  {
   "cell_type": "code",
   "execution_count": null,
   "id": "c9ec6b25-eac7-4172-aab3-7736e2ad2f00",
   "metadata": {},
   "outputs": [],
   "source": [
    "# Create a moment map of 1 for the Paschen-alpha emission line\n",
    "mm = cubeviz.plugins['Moment Maps']\n",
    "mm.spectral_subset = 'Subset 2'\n",
    "mm.continuum = 'Surrounding'\n",
    "mm.n_moment = 1\n",
    "mm.reference_wavelength = 1.9065\n",
    "mm.add_results.label = 'moment-1-pa'\n",
    "mm.add_results.viewer = 'flux-viewer'\n",
    "mm.calculate_moment()"
   ]
  },
  {
   "cell_type": "code",
   "execution_count": null,
   "id": "84589473-712b-470d-803e-eed413501874",
   "metadata": {},
   "outputs": [],
   "source": [
    "# Create a moment map of 2 for the Paschen-alpha emission line\n",
    "mm = cubeviz.plugins['Moment Maps']\n",
    "mm.spectral_subset = 'Subset 2'\n",
    "mm.continuum = 'Surrounding'\n",
    "mm.n_moment = 2\n",
    "mm.reference_wavelength = 1.9065\n",
    "mm.add_results.label = 'moment-2-pa'\n",
    "mm.add_results.viewer = 'uncert-viewer'\n",
    "mm.calculate_moment()"
   ]
  },
  {
   "cell_type": "code",
   "execution_count": null,
   "id": "e443fb60-68d9-4fbe-bc5d-a74183897207",
   "metadata": {},
   "outputs": [],
   "source": [
    "po = cubeviz.plugins['Plot Options']\n",
    "po.open_in_tray()\n",
    "po.viewer = 'flux-viewer'\n",
    "po.layer = 'moment-1-pa'\n",
    "po.image_colormap.value = 'rainbow'"
   ]
  },
  {
   "cell_type": "code",
   "execution_count": null,
   "id": "0a8b662f-4a51-4ed8-9d64-c78e8d27fb50",
   "metadata": {},
   "outputs": [],
   "source": [
    "po.viewer = 'uncert-viewer'\n",
    "po.layer = 'moment-2-pa'\n",
    "po.stretch_preset.value = 90\n",
    "po.image_colormap.value = 'rainbow'"
   ]
  },
  {
   "cell_type": "markdown",
   "id": "bbeaf993-f467-43d0-a67f-ca93dbbaf335",
   "metadata": {},
   "source": [
    "Positive values in the flux and uncertainty viewers correspond to redshifted areas and negative values correspond to blueshifted areas. This means the galaxy is rotating in a counter-clockwise direction. We can find the minimum and maximum values to get an estimate of the speed of rotation."
   ]
  },
  {
   "cell_type": "markdown",
   "id": "89bbfcb5-967e-48eb-916e-c4e0d8d7575b",
   "metadata": {},
   "source": [
    "For the moment 2 map, we can see the outer ring is relatively calm with values close to the minimum threshold of the detector, while the nucleus is very turbulent. This is another sign of a nuclear radio jet coming from the AGN in the nucleus."
   ]
  },
  {
   "cell_type": "code",
   "execution_count": null,
   "id": "52456a0b-4a2a-4688-8b43-97f76696fb2a",
   "metadata": {},
   "outputs": [],
   "source": [
    "# Create spatial subset around large Paschen-alpha area\n",
    "flux_viewer = cubeviz.viewers['flux-viewer']._obj\n",
    "flux_viewer.toolbar.active_tool = flux_viewer.toolbar.tools['bqplot:rectangle']\n",
    "flux_viewer.apply_roi(RectangularROI(25, 30, 41, 50))"
   ]
  },
  {
   "cell_type": "code",
   "execution_count": null,
   "id": "e9c8df81-b622-480b-8146-345e5a05d16a",
   "metadata": {},
   "outputs": [],
   "source": [
    "# Create spatial subset around the nucleus\n",
    "flux_viewer.toolbar.active_tool = flux_viewer.toolbar.tools['bqplot:truecircle']\n",
    "flux_viewer.apply_roi(CircularROI(xc=23.5, yc=29.2, radius=5))"
   ]
  },
  {
   "cell_type": "markdown",
   "id": "9850daf6-7c69-4918-bb93-435f7412e467",
   "metadata": {},
   "source": [
    "We can see that Subset 3 is highlighting one of the strongest regions of star formation. Subset 4 is highlighting the strong line flux map in the nucleus. We can use the Spectral Extraction plugin to see how the nucleus looks with a conical aperture."
   ]
  },
  {
   "cell_type": "code",
   "execution_count": null,
   "id": "92130a6b-aca5-41eb-b32c-4464e467aeb2",
   "metadata": {},
   "outputs": [],
   "source": [
    "# We use a conical aperture for the nucleus because it is a PSF (point spread function)\n",
    "se = cubeviz.plugins['Spectral Extraction']\n",
    "se.open_in_tray()\n",
    "se.aperture = 'Subset 4'\n",
    "se.wavelength_dependent = True\n",
    "se.aperture_method = 'Exact'\n",
    "se.function = 'Sum'\n",
    "se.collapse_to_spectrum()"
   ]
  }
 ],
 "metadata": {
  "kernelspec": {
   "display_name": "Python 3 (ipykernel)",
   "language": "python",
   "name": "python3"
  },
  "language_info": {
   "codemirror_mode": {
    "name": "ipython",
    "version": 3
   },
   "file_extension": ".py",
   "mimetype": "text/x-python",
   "name": "python",
   "nbconvert_exporter": "python",
   "pygments_lexer": "ipython3",
   "version": "3.10.14"
  }
 },
 "nbformat": 4,
 "nbformat_minor": 5
}
