{
 "cells": [
  {
   "cell_type": "markdown",
   "metadata": {},
   "source": [
    "## Introduction\n",
    "\n",
    "This notebook demonstrates how to visualize and analyze JWST MOS spectra, including how to:\n",
    "\n",
    "* Launch [Mosviz](https://jdaviz.readthedocs.io/en/latest/mosviz/index.html)\n",
    "* [Load MOS data](https://jdaviz.readthedocs.io/en/latest/mosviz/import_data.html) from a notebook cell\n",
    "* Adjust [display parameters](https://jdaviz.readthedocs.io/en/latest/cubeviz/displaycubes.html#display-settings)\n",
    "* Select [spectral regions](https://jdaviz.readthedocs.io/en/latest/specviz/displaying.html#spectral-regions) for further analysis \n",
    "* [Line analysis](https://jdaviz.readthedocs.io/en/latest/specviz/plugins.html#line-analysis): centroids, widths, and fluxes\n",
    "* Load custom [line lists](https://jdaviz.readthedocs.io/en/latest/specviz/plugins.html#line-lists)\n",
    "\n",
    "\n"
   ]
  },
  {
   "cell_type": "markdown",
   "metadata": {},
   "source": [
    "## Data\n",
    "\n",
    "We use simulated NIRSpec MOS PRISM data created with the NIRSpec Instrument Performance Simulator (IPS).  This consists of 33 sources (primarily galaxies) plus background \n",
    "from 33 open slitlets. The dataset is not publicly released and will be replaced with another, better dataset when it becomes available.  Please do not distribute this version.\n",
    "\n",
    "The simulated Level2a data were run through the JWST Spec2 and Spec3 pipelines to create Level 2b and Level 3 (s2d and x1d) data products. Background subtraction was performed on the Level 3 data. The flux calibration for this dataset is inaccurate, pending on-orbit calibration."
   ]
  },
  {
   "cell_type": "markdown",
   "metadata": {},
   "source": [
    "## Imports\n",
    "* [_jdaviz_](https://jdaviz.readthedocs.io/en/latest/) : [Mosviz](https://jdaviz.readthedocs.io/en/latest/mosviz/index.html) data visualization tool\n",
    "* [os](https://docs.python.org/3/library/os.html), [glob](https://docs.python.org/3/library/glob.html), [zipfile](https://docs.python.org/3/library/zipfile.html), and [astropy.utils.data.download_file](https://docs.astropy.org/en/stable/api/astropy.utils.data.download_file.html) for file management \n",
    "* [_astropy.units_]() and [astropy.table] for line lists\n"
   ]
  },
  {
   "cell_type": "code",
   "execution_count": 1,
   "metadata": {},
   "outputs": [],
   "source": [
    "from jdaviz import MosViz\n",
    "import os\n",
    "import glob\n",
    "import zipfile\n",
    "from astropy.utils.data import download_file\n",
    "\n",
    "import numpy as np\n",
    "import astropy.units as u\n",
    "import astropy.table as t"
   ]
  },
  {
   "cell_type": "markdown",
   "metadata": {},
   "source": [
    "## Visualize simulated NIRSpec MOS data\n",
    "\n",
    "Execute the next cell to launch Mosviz, then follow the instructions for each task enumerated in the cell directly below the Cubeviz app."
   ]
  },
  {
   "cell_type": "code",
   "execution_count": 2,
   "metadata": {
    "scrolled": false
   },
   "outputs": [
    {
     "data": {
      "application/vnd.jupyter.widget-view+json": {
       "model_id": "6075d743171f40c593f97aec558568c2",
       "version_major": 2,
       "version_minor": 0
      },
      "text/plain": [
       "Application(components={'g-viewer-tab': '<template>\\n  <component :is=\"stack.container\">\\n    <g-viewer-tab\\n \u2026"
      ]
     },
     "metadata": {},
     "output_type": "display_data"
    }
   ],
   "source": [
    "mosviz = MosViz()\n",
    "mosviz.app"
   ]
  },
  {
   "cell_type": "markdown",
   "metadata": {},
   "source": [
    "### UI Instructions:\n",
    "#### Task 1:  Load the MOS data and view it\n",
    "* Load the NIRSpec MOS spectra and image cutouts into Mosviz using the code cells below\n",
    "* Click on the third row (not the checkbox) in the Mosviz table viewer to display data for one of the sources in the MOS dataset.\n",
    "* Open the Display menu of the Image viewer. In the Layer tab, change the stretch to Logarithmic, 99 percentile.\n",
    "* Try adjusting the stretch and colormap in the 2D spectrum viewer.\n",
    "\n",
    "#### Task 2:  Toggle the slit viewer on and off\n",
    "* Find the Slit Overlay Plugin by clicking the 'Lego' icon at upper right.\n",
    "* Uncheck or check the box to turn the slit viewer off or on.\n",
    "\n",
    "#### Task 3: Select a spectral region for further analysis\n",
    "* Use the horizontal and vertical pan-zoom tools in the 1D spectrum viewer to zoom in on the spectral line at 2 microns.  Note that the 2D spectral region matches the selection in the 1D viewer.\n",
    "* Use the spectral region selection tool in the 1D spectrum viewer to select the line at 2 microns (Subset 1).\n",
    "\n",
    "#### Task 4: Measure line centroids using the Line Analysis plugin\n",
    "* Find the Line Analysis Plugin by clicking the 'Lego' icon at upper right.\n",
    "* Select a dataset with the Data dropdown (e.g. Subset1).\n",
    "* Several line properties are automatically computed (flux, equivalent width, Gaussian sigma, Gaussian FWHM, and Centroid) using specutils functionality. Note that the line flux, Gaussian sigma, FWHM, and centroid require continuum subtraction or normalization, and will not be correct if there is a significant continuum component. The equivalent width, on the other hand, requires the continuum to be normalized to unity to give a correct answer. \n",
    "* The Halpha emission line complex is at 1.92 microns (redshift z = 1.93) \n",
    "* Now determine the centroid wavelength of the line at ~1.5 microns.  What is the line ID?\n",
    "\n",
    "#### Task 5: Identify spectral lines using the Line Lists plugin\n",
    "* Open the Line Lists plugin to create a custom line list: OIII5007 (1.467 um), Halpha (1.923 um)\n",
    "* Click on the 'Custom' tab and enter the first line name, wavelength, and wavelength unit, and click 'Add Line'\n",
    "* In the same place, enter the values for the second line and 'Add Line'\n",
    "* Click through the other spectra to see if those same lines appear (Hint: it is one of the first 5)\n",
    "\n",
    "#### Task 6: Load a line list from the notebook and display them in the spectrum viewer\n",
    "* Run the cell below to load a custom line list programmatically\n",
    "* Open the Line Lists plugin\n",
    "* Change the color of the 'Galaxy4' line list to distinguish from the 'Custom' line list\n",
    "* Click on Hide/Show All in the Galaxy4 line list to toggle lines on and off\n",
    "* Check/uncheck individual lines to show only the ones you want\n"
   ]
  },
  {
   "cell_type": "code",
   "execution_count": 6,
   "metadata": {},
   "outputs": [
    {
     "name": "stdout",
     "output_type": "stream",
     "text": [
      "['OII', 'Hbeta', 'OIIIa', 'OIIIb', 'Halpha', 'SII', 'Palpha']\n",
      "[1.092011 1.424273 1.452987 1.467051 1.922959 1.970132 5.495508]\n",
      "linename  rest  redshift listname\n",
      "           um                    \n",
      "-------- ------ -------- --------\n",
      "     OII 0.3727     1.93  Galaxy3\n",
      "   Hbeta 0.4861     1.93  Galaxy3\n",
      "   OIIIa 0.4959     1.93  Galaxy3\n",
      "   OIIIb 0.5007     1.93  Galaxy3\n",
      "  Halpha 0.6563     1.93  Galaxy3\n",
      "     SII 0.6724     1.93  Galaxy3\n",
      "  Palpha 1.8756     1.93  Galaxy3\n"
     ]
    }
   ],
   "source": [
    "#Redshifted optical emission lines\n",
    "\n",
    "line = ['OII', 'Hbeta', 'OIIIa', 'OIIIb', 'Halpha', 'SII', 'Palpha']\n",
    "wavel = [.3727, .4861, .4959, .5007, .6563, .6724, 1.8756]\n",
    "z =1.93\n",
    "\n",
    "wave = np.array(wavel)*(1+z)\n",
    "print(line)\n",
    "print(wave)\n",
    "\n",
    "#Create an astropy table \n",
    "lt = t.QTable()\n",
    "lt['linename'] = line\n",
    "lt['rest'] = wavel*u.um\n",
    "lt['redshift'] = u.Quantity(z)\n",
    "lt['listname'] = \"Galaxy3\"\n",
    "print(lt)\n",
    "\n",
    "#Load the line list table into the Line Lists plugin\n",
    "mosviz.specviz.load_line_list(lt)"
   ]
  },
  {
   "cell_type": "markdown",
   "metadata": {},
   "source": [
    "### Download the data"
   ]
  },
  {
   "cell_type": "code",
   "execution_count": 3,
   "metadata": {},
   "outputs": [
    {
     "name": "stdout",
     "output_type": "stream",
     "text": [
      "nirspec_mosdata_prism.zip already exists, skipping download...\n",
      "./nirspec_mosdata_prism.zip\n",
      "irspe james/nirspec_mossim_prism_s01507_combined_x1d.fits nirspec_mossim_prism_s01507_combined_s2d.fits james/cutout01507.fits\n",
      "irspe james/nirspec_mossim_prism_s02140_combined_x1d.fits nirspec_mossim_prism_s02140_combined_s2d.fits james/cutout02140.fits\n",
      "irspe james/nirspec_mossim_prism_s03339_combined_x1d.fits nirspec_mossim_prism_s03339_combined_s2d.fits james/cutout03339.fits\n",
      "irspe james/nirspec_mossim_prism_s05136_combined_x1d.fits nirspec_mossim_prism_s05136_combined_s2d.fits james/cutout05136.fits\n",
      "irspe james/nirspec_mossim_prism_s05803_combined_x1d.fits nirspec_mossim_prism_s05803_combined_s2d.fits james/cutout05803.fits\n",
      "irspe james/nirspec_mossim_prism_s05947_combined_x1d.fits nirspec_mossim_prism_s05947_combined_s2d.fits james/cutout05947.fits\n",
      "irspe james/nirspec_mossim_prism_s06811_combined_x1d.fits nirspec_mossim_prism_s06811_combined_s2d.fits james/cutout06811.fits\n",
      "irspe james/nirspec_mossim_prism_s07572_combined_x1d.fits nirspec_mossim_prism_s07572_combined_s2d.fits james/cutout07572.fits\n",
      "irspe james/nirspec_mossim_prism_s07640_combined_x1d.fits nirspec_mossim_prism_s07640_combined_s2d.fits james/cutout07640.fits\n",
      "irspe james/nirspec_mossim_prism_s11836_combined_x1d.fits nirspec_mossim_prism_s11836_combined_s2d.fits james/cutout11836.fits\n",
      "irspe james/nirspec_mossim_prism_s12042_combined_x1d.fits nirspec_mossim_prism_s12042_combined_s2d.fits james/cutout12042.fits\n",
      "irspe james/nirspec_mossim_prism_s12351_combined_x1d.fits nirspec_mossim_prism_s12351_combined_s2d.fits james/cutout12351.fits\n",
      "irspe james/nirspec_mossim_prism_s12514_combined_x1d.fits nirspec_mossim_prism_s12514_combined_s2d.fits james/cutout12514.fits\n",
      "irspe james/nirspec_mossim_prism_s13179_combined_x1d.fits nirspec_mossim_prism_s13179_combined_s2d.fits james/cutout13179.fits\n",
      "irspe james/nirspec_mossim_prism_s14163_combined_x1d.fits nirspec_mossim_prism_s14163_combined_s2d.fits james/cutout14163.fits\n",
      "irspe james/nirspec_mossim_prism_s15099_combined_x1d.fits nirspec_mossim_prism_s15099_combined_s2d.fits james/cutout15099.fits\n",
      "irspe james/nirspec_mossim_prism_s15177_combined_x1d.fits nirspec_mossim_prism_s15177_combined_s2d.fits james/cutout15177.fits\n",
      "irspe james/nirspec_mossim_prism_s15260_combined_x1d.fits nirspec_mossim_prism_s15260_combined_s2d.fits james/cutout15260.fits\n",
      "irspe james/nirspec_mossim_prism_s15687_combined_x1d.fits nirspec_mossim_prism_s15687_combined_s2d.fits james/cutout15687.fits\n",
      "irspe james/nirspec_mossim_prism_s18384_combined_x1d.fits nirspec_mossim_prism_s18384_combined_s2d.fits james/cutout18384.fits\n",
      "irspe james/nirspec_mossim_prism_s18745_combined_x1d.fits nirspec_mossim_prism_s18745_combined_s2d.fits james/cutout18745.fits\n",
      "irspe james/nirspec_mossim_prism_s21358_combined_x1d.fits nirspec_mossim_prism_s21358_combined_s2d.fits james/cutout21358.fits\n",
      "irspe james/nirspec_mossim_prism_s22845_combined_x1d.fits nirspec_mossim_prism_s22845_combined_s2d.fits james/cutout22845.fits\n",
      "irspe james/nirspec_mossim_prism_s24323_combined_x1d.fits nirspec_mossim_prism_s24323_combined_s2d.fits james/cutout24323.fits\n",
      "irspe james/nirspec_mossim_prism_s33784_combined_x1d.fits nirspec_mossim_prism_s33784_combined_s2d.fits james/cutout33784.fits\n",
      "irspe james/nirspec_mossim_prism_s35896_combined_x1d.fits nirspec_mossim_prism_s35896_combined_s2d.fits james/cutout35896.fits\n",
      "irspe james/nirspec_mossim_prism_s37653_combined_x1d.fits nirspec_mossim_prism_s37653_combined_s2d.fits james/cutout37653.fits\n",
      "irspe james/nirspec_mossim_prism_s42812_combined_x1d.fits nirspec_mossim_prism_s42812_combined_s2d.fits james/cutout42812.fits\n",
      "irspe james/nirspec_mossim_prism_s44372_combined_x1d.fits nirspec_mossim_prism_s44372_combined_s2d.fits james/cutout44372.fits\n",
      "irspe james/nirspec_mossim_prism_s44785_combined_x1d.fits nirspec_mossim_prism_s44785_combined_s2d.fits james/cutout44785.fits\n",
      "irspe james/nirspec_mossim_prism_s46018_combined_x1d.fits nirspec_mossim_prism_s46018_combined_s2d.fits james/cutout46018.fits\n",
      "irspe james/nirspec_mossim_prism_s46439_combined_x1d.fits nirspec_mossim_prism_s46439_combined_s2d.fits james/cutout46439.fits\n",
      "irspe james/nirspec_mossim_prism_s50873_combined_x1d.fits nirspec_mossim_prism_s50873_combined_s2d.fits james/cutout50873.fits\n"
     ]
    }
   ],
   "source": [
    "# From the Jwebbinar platform\n",
    "#!ls /home/shared/preloaded-fits/nirspec_files/mos_prism\n",
    "data_dir = '/home/shared/preloaded-fits/nirspec_files/mos_prism'\n",
    "\n",
    "#From a local directory\n",
    "#data_dir ='mos_prism' \n",
    "#zipfilename = 'nirspec_mosdata_prism.zip'\n",
    "#zf = zipfile.ZipFile(output_dir+zipfilename, 'r')\n",
    "#data_dir ='mos_prism'\n",
    "#zf.extractall(data_dir)\n",
    "\n",
    "# Create the lists of data products\n",
    "slit_id = []\n",
    "spectra_1d = []\n",
    "spectra_2d = []\n",
    "cutouts = []\n",
    "for file_path in glob.glob(str(data_dir+'/*')):\n",
    "    if ('x1d' in file_path):\n",
    "        spectra_1d.append(file_path)\n",
    "        slitid = file_path[74:79]\n",
    "        slit_id.append(slitid)\n",
    "    elif ('s2d' in file_path):\n",
    "        spectra_2d.append(file_path)\n",
    "    elif ('cutout' in file_path):\n",
    "        cutouts.append(file_path)     \n",
    "\n",
    "#Sort the slit ids and filenames\n",
    "slit_id_sorted = sorted (slit_id)    \n",
    "spectra_1d_sorted = sorted(spectra_1d)\n",
    "spectra_2d_sorted = sorted(spectra_2d)\n",
    "cutouts_sorted = sorted(cutouts)\n",
    "  \n",
    "#Print out the matched filenames for each slit\n",
    "for s_id, f_1d, f_2d, f_cut in zip(slit_id_sorted, spectra_1d_sorted, spectra_2d_sorted, cutouts_sorted): \n",
    "    print(s_id, f_1d[52:], '...'+f_2d[73:], f_cut[52:])"
   ]
  },
  {
   "cell_type": "markdown",
   "metadata": {},
   "source": [
    "## Load the data into Mosviz"
   ]
  },
  {
   "cell_type": "code",
   "execution_count": 4,
   "metadata": {},
   "outputs": [
    {
     "name": "stderr",
     "output_type": "stream",
     "text": [
      "WARNING:root:No 'BUNIT' defined in the header, using 'Jy'.\n",
      "WARNING:root:No 'BUNIT' defined in the header, using 'Jy'.\n",
      "WARNING:root:No 'BUNIT' defined in the header, using 'Jy'.\n",
      "WARNING:root:No 'BUNIT' defined in the header, using 'Jy'.\n",
      "WARNING:root:No 'BUNIT' defined in the header, using 'Jy'.\n",
      "WARNING:root:No 'BUNIT' defined in the header, using 'Jy'.\n",
      "WARNING:root:No 'BUNIT' defined in the header, using 'Jy'.\n",
      "WARNING:root:No 'BUNIT' defined in the header, using 'Jy'.\n",
      "WARNING:root:No 'BUNIT' defined in the header, using 'Jy'.\n",
      "WARNING:root:No 'BUNIT' defined in the header, using 'Jy'.\n"
     ]
    }
   ],
   "source": [
    "#Load the first 10 \n",
    "mosviz.load_data(spectra_1d_sorted[0:10], spectra_2d_sorted[0:10], images=cutouts_sorted[0:10])\n",
    "\n",
    "# Or alternatively: \n",
    "#mosviz.load_metadata(cutouts_sorted[0:10])            \n",
    "#mosviz.load_1d_spectra(spectra_1d_sorted[0:10])  \n",
    "#mosviz.load_2d_spectra(spectra_2d_sorted[0:10]) \n",
    "#mosviz.load_images(cutouts_sorted[0:10])"
   ]
  },
  {
   "cell_type": "markdown",
   "metadata": {},
   "source": [
    "## How to load datasets with no image cutouts\n",
    "If no images are provided, MOSViz can still display the spectra."
   ]
  },
  {
   "cell_type": "code",
   "execution_count": null,
   "metadata": {
    "scrolled": false
   },
   "outputs": [],
   "source": [
    "mosviz_no_images = MosViz()\n",
    "mosviz_no_images.app"
   ]
  },
  {
   "cell_type": "code",
   "execution_count": null,
   "metadata": {},
   "outputs": [],
   "source": [
    "mosviz_no_images.load_data(spectra_1d_sorted[0:10], spectra_2d_sorted[0:10])\n",
    "\n",
    "# Or alternatively: \n",
    "# mosviz_no_images.load_1d_spectra(spectra_1d)\n",
    "# mosviz_no_images.load_2d_spectra(spectra_2d)"
   ]
  },
  {
   "cell_type": "markdown",
   "metadata": {},
   "source": [
    "Images can be added later."
   ]
  },
  {
   "cell_type": "code",
   "execution_count": null,
   "metadata": {},
   "outputs": [],
   "source": [
    "mosviz_no_images.load_images(cutouts_sorted[0:10])\n",
    "mosviz_no_images.load_metadata(cutouts_sorted[0:10])"
   ]
  }
 ],
 "metadata": {
  "language_info": {
   "codemirror_mode": {
    "name": "ipython",
    "version": 3
   },
   "file_extension": ".py",
   "mimetype": "text/x-python",
   "name": "python",
   "nbconvert_exporter": "python",
   "pygments_lexer": "ipython3",
   "version": "3.8.10"
  }
 },
 "nbformat": 4,
 "nbformat_minor": 4
}