{
 "cells": [
  {
   "cell_type": "markdown",
   "metadata": {},
   "source": [
    "## Introduction\n",
    "\n",
    "This notebook demonstrates how to visualize and analyze JWST MOS spectra, including how to:\n",
    "\n",
    "* Launch [Mosviz](https://jdaviz.readthedocs.io/en/latest/mosviz/index.html)\n",
    "* [Load MOS data](https://jdaviz.readthedocs.io/en/latest/mosviz/import_data.html) from a notebook cell\n",
    "* Adjust [display parameters](https://jdaviz.readthedocs.io/en/latest/cubeviz/displaycubes.html#display-settings)\n",
    "* Select [spectral regions](https://jdaviz.readthedocs.io/en/latest/specviz/displaying.html#spectral-regions) for further analysis \n",
    "* Identify spectral features\n",
    "* Measure emission line redshifts\n",
    "* [Fit spectral models](https://jdaviz.readthedocs.io/en/latest/cubeviz/plugins.html#model-fitting) to 1D spectra.\n",
    "\n",
    "\n"
   ]
  },
  {
   "cell_type": "markdown",
   "metadata": {},
   "source": [
    "## Data\n",
    "\n",
    "We use simulated NIRSpec MOS PRISM data created with the NIRSpec Instrument Performance Simulator (IPS).  This consists of 33 sources (primarily galaxies) plus background \n",
    "from 33 open slitlets. The dataset is not publicly released and will be replaced with another, better dataset when it becomes available.  Please do not distribute this version.\n",
    "\n",
    "The simulated Level2a data were run through the JWST Spec2 and Spec3 pipelines to create Level 2b and Level 3 (s2d and x1d) data products. The flux calibration for this dataset is inaccurate, pending on-orbit calibration."
   ]
  },
  {
   "cell_type": "markdown",
   "metadata": {},
   "source": [
    "## Imports\n",
    "* [_jdaviz_](https://jdaviz.readthedocs.io/en/latest/) : Mosviz data visualization tool\n",
    "* [os]() and [glob]() for file management \n",
    "* [_astropy.utils.data_](https://docs.astropy.org/en/stable/utils/index.html) for downloading files from URLs\n"
   ]
  },
  {
   "cell_type": "code",
   "execution_count": null,
   "metadata": {},
   "outputs": [],
   "source": [
    "from jdaviz import MosViz\n",
    "import numpy as np\n",
    "import os\n",
    "import glob\n",
    "from astropy.utils.data import download_file\n",
    "import zipfile"
   ]
  },
  {
   "cell_type": "markdown",
   "metadata": {},
   "source": [
    "## Visualize simulated NIRSpec MOS data\n",
    "\n",
    "Execute the next cell to launch Mosviz, then follow the instructions for each task enumerated in the cell directly below the Cubeviz app."
   ]
  },
  {
   "cell_type": "code",
   "execution_count": null,
   "metadata": {
    "scrolled": false
   },
   "outputs": [],
   "source": [
    "mosviz = MosViz()\n",
    "mosviz.app"
   ]
  },
  {
   "cell_type": "markdown",
   "metadata": {},
   "source": [
    "### UI Instructions:\n",
    "#### Task 1:  Load the MOS data and view it\n",
    "* Load the NIRSpec MOS spectra and image cutouts into Mosviz using the next two code cells below\n",
    "* Click on the third row (not the checkbox) in the Mosviz table viewer to display data for one of the sources in the MOS dataset.\n",
    "* Open the Display menu of the Image viewer. In the Layer tab, change the stretch to Logarithmic, 99 percentile.\n",
    "* Try adjusting the stretch and colormap in the 2D spectrum viewer.\n",
    "\n",
    "#### Task 2:  Toggle the slit viewer on and off\n",
    "* Find the Slit Overlay Plugin by clicking the 'Lego' icon at upper right.\n",
    "* Uncheck or check the box to turn the slit viewer off or on.\n",
    "\n",
    "#### Task 3: Select a spectral region for further analysis\n",
    "* Use the horizontal and vertical pan-zoom tools in the 1D spectrum viewer to zoom in on the spectral line at 2 microns.  Note that the 2D spectral region matches the selection in the 1D viewer.\n",
    "* Use the spectral region selection tool in the 1D spectrum viewer to select the line at 2 microns (Subset 1).\n",
    "\n",
    "#### Task 4: Measure line centroids using the Line Analysis plugin\n",
    "* Find the Line Analysis Plugin by clicking the 'Lego' icon at upper right.\n",
    "* Select a dataset with the Data dropdown (e.g. Subset1).\n",
    "* Several line properties are automatically computed (flux, equivalent width, Gaussian sigma, Gaussian FWHM, and Centroid) using specutils functionality. Note that the Gaussian sigma, FWHM, and Centroid require continuum subtraction or normalization, and will not be correct if there is a significant continuum component. The equivalent width, on the other hand, requires the continuum to be normalized to unity to give a correct answer. \n",
    "* The Halpha emission line complex is at 1.92 microns (redshift z = 1.93) \n",
    "* Now determine the centroid wavelength of the line at ~1.5 microns.  What is the line ID?\n",
    "\n",
    "#### Task 5: Identify spectral lines using the Line Lists plugin\n",
    "* Open the Line Lists plugin to create a custom line list: OIII5007 (1.467 um), Halpha (1.923 um)\n",
    "* Click on the 'Custom' tab and enter the first line name, wavelength, and wavelength unit, and click 'Add Line'\n",
    "* In the same place, enter the values for the second line and 'Add Line'\n",
    "* Click through the other spectra to see if those same lines appear (Hint: it is one of the first 5)\n",
    "\n",
    "#### Task 6: Load a custom line list from the notebook\n",
    "* Run the cell below to load a custom line list programmatically\n"
   ]
  },
  {
   "cell_type": "code",
   "execution_count": null,
   "metadata": {},
   "outputs": [],
   "source": [
    "#Emission line cheat sheet\n",
    "line = ['OII', 'Hbeta', 'OIIIa', 'OIIIb', 'Halpha', 'SII', 'Palpha']\n",
    "wavel = [.3727, .4861, .4959, .5007, .6563, .6724, 1.8756]\n",
    "z =1.93\n",
    "wave = np.array(wavel)*(1+z)\n",
    "print(line)\n",
    "print(wave)"
   ]
  },
  {
   "cell_type": "code",
   "execution_count": null,
   "metadata": {},
   "outputs": [],
   "source": [
    "# set the Box link and file name\n",
    "output_dir='./'\n",
    "#ziplink = 'https://stsci.box.com/shared/static/8iwpmppwdp9pyaun2axk7z0831esc3ox.zip'\n",
    "ziplink = 'https://stsci.box.com/shared/static/xddvu98qa5k2ggjz3ru4az37t63anr1g.zip'\n",
    "zipfilename = 'nirspec_mosdata_prism.zip'\n",
    "if not os.path.isfile(os.path.join(output_dir, zipfilename)):\n",
    "    print('Downloading {}...'.format(zipfilename))\n",
    "    demo_file = download_file(ziplink, cache=True)\n",
    "    # Make a symbolic link using a local name for convenience\n",
    "    os.symlink(demo_file, os.path.join(output_dir, zipfilename))\n",
    "else:\n",
    "    print('{} already exists, skipping download...'.format(zipfilename))\n",
    "    \n",
    "# unzip\n",
    "output_dir='./'\n",
    "zipfilename='nirspec_mosdata_prism.zip'\n",
    "print(output_dir+zipfilename)\n",
    "zf = zipfile.ZipFile(output_dir+zipfilename, 'r')\n",
    "data_dir ='mosdata'\n",
    "zf.extractall(data_dir)\n",
    "\n",
    "data_dir='mosdata'\n",
    "#data_dir='mosdata_james'\n",
    "# Lists of data products\n",
    "slit_id = []\n",
    "spectra_1d = []\n",
    "spectra_2d = []\n",
    "cutouts = []\n",
    "for file_path in glob.glob(str(data_dir+'/*')):\n",
    "    if ('x1d' in file_path):\n",
    "        spectra_1d.append(file_path)\n",
    "        slitid = file_path[15:20]\n",
    "        #slitid = file_path[36:41]  #mosdata_james\n",
    "        slit_id.append(slitid)\n",
    "        #print(slitid)\n",
    "    elif ('s2d' in file_path):\n",
    "        spectra_2d.append(file_path)\n",
    "    elif ('cutout' in file_path):\n",
    "        cutouts.append(file_path)     \n",
    "\n",
    "#Sort the slit ids and filenames\n",
    "slit_id_sorted = sorted (slit_id)    \n",
    "spectra_1d_sorted = sorted(spectra_1d)\n",
    "spectra_2d_sorted = sorted(spectra_2d)\n",
    "cutouts_sorted = sorted(cutouts)\n",
    "  \n",
    "#Print out the matched filenames for each slit\n",
    "for s_id, f_1d, f_2d, f_cut in zip(slit_id_sorted, spectra_1d_sorted, spectra_2d_sorted, cutouts_sorted): \n",
    "    print(s_id, f_1d[8:], f_2d[14:], f_cut[8:])\n",
    "    #print(s_id, f_1d[14:], f_2d[20:], f_cut[14:]) #mosdata_james\n",
    "     \n"
   ]
  },
  {
   "cell_type": "code",
   "execution_count": null,
   "metadata": {},
   "outputs": [],
   "source": [
    "#Load the first 10 \n",
    "mosviz.load_data(spectra_1d_sorted[0:10], spectra_2d_sorted[0:10], images=cutouts_sorted[0:10])\n",
    "\n",
    "# Or alternatively: \n",
    "#mosviz.load_metadata(cutouts_sorted[0:10])            \n",
    "#mosviz.load_1d_spectra(spectra_1d_sorted[0:10])  \n",
    "#mosviz.load_2d_spectra(spectra_2d_sorted[0:10]) \n",
    "#mosviz.load_images(cutouts_sorted[0:10])"
   ]
  },
  {
   "cell_type": "markdown",
   "metadata": {},
   "source": [
    "If no images are provided, MOSViz can still display the spectra."
   ]
  },
  {
   "cell_type": "code",
   "execution_count": null,
   "metadata": {
    "scrolled": false
   },
   "outputs": [],
   "source": [
    "mosviz_no_images = MosViz()\n",
    "mosviz_no_images.app"
   ]
  },
  {
   "cell_type": "code",
   "execution_count": null,
   "metadata": {},
   "outputs": [],
   "source": [
    "mosviz_no_images.load_data(spectra_1d_sorted[0:10], spectra_2d_sorted[0:10])\n",
    "\n",
    "# Or alternatively: \n",
    "# mosviz_no_images.load_1d_spectra(spectra_1d)\n",
    "# mosviz_no_images.load_2d_spectra(spectra_2d)"
   ]
  },
  {
   "cell_type": "markdown",
   "metadata": {},
   "source": [
    "Images can be added later."
   ]
  },
  {
   "cell_type": "code",
   "execution_count": null,
   "metadata": {},
   "outputs": [],
   "source": [
    "mosviz_no_images.load_images(cutouts_sorted[0:10])\n",
    "mosviz_no_images.load_metadata(cutouts_sorted[0:10])"
   ]
  }
 ],
 "metadata": {
  "kernelspec": {
   "display_name": "Jdaviz",
   "language": "python",
   "name": "jdaviz"
  },
  "language_info": {
   "codemirror_mode": {
    "name": "ipython",
    "version": 3
   },
   "file_extension": ".py",
   "mimetype": "text/x-python",
   "name": "python",
   "nbconvert_exporter": "python",
   "pygments_lexer": "ipython3",
   "version": "3.8.10"
  }
 },
 "nbformat": 4,
 "nbformat_minor": 4
}