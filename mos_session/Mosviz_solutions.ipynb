{
 "cells": [
  {
   "cell_type": "markdown",
   "metadata": {},
   "source": [
    "## Introduction\n",
    "\n",
    "This notebook demonstrates how to visualize and analyze JWST MOS spectra, including how to:\n",
    "\n",
    "* Launch [Mosviz](https://jdaviz.readthedocs.io/en/latest/mosviz/index.html)\n",
    "* [Load MOS data](https://jdaviz.readthedocs.io/en/latest/mosviz/import_data.html) from a notebook cell\n",
    "* Adjust [display parameters](https://jdaviz.readthedocs.io/en/latest/cubeviz/displaycubes.html#display-settings)\n",
    "* Select [spectral regions](https://jdaviz.readthedocs.io/en/latest/specviz/displaying.html#spectral-regions) for further analysis \n",
    "* Identify spectral features\n",
    "* Measure emission line redshifts\n",
    "* [Fit spectral models](https://jdaviz.readthedocs.io/en/latest/cubeviz/plugins.html#model-fitting) to 1D spectra.\n",
    "\n",
    "\n"
   ]
  },
  {
   "cell_type": "markdown",
   "metadata": {},
   "source": [
    "## Data\n",
    "\n",
    "We use simulated NIRSpec MOS data created with the NIRSpec Instrument Performance Simulator (IPS).  This consists of 55 sources (primarily galaxies) plus background \n",
    "from 55 open slitlets. The dataset is not publicly released and will be replaced with another, better dataset when it becomes available.  \n",
    "\n",
    "The simulated Level2a data were run through the JWST Spec2 and Spec3 pipelines to create Level 2b and Level 3 (s2d and x1d) data products. The flux calibration for this dataset is inaccurate, pending on-orbit calibration."
   ]
  },
  {
   "cell_type": "markdown",
   "metadata": {},
   "source": [
    "## Imports\n",
    "* [_jdaviz_](https://jdaviz.readthedocs.io/en/latest/) : Mosviz data visualization tool\n",
    "* [glob]() to find files \n",
    "* [_astropy.utils.data_](https://docs.astropy.org/en/stable/utils/index.html) for downloading files from URLs\n"
   ]
  },
  {
   "cell_type": "code",
   "execution_count": null,
   "metadata": {},
   "outputs": [],
   "source": [
    "from jdaviz import MosViz\n",
    "import glob\n",
    "from astropy.utils.data import download_file"
   ]
  },
  {
   "cell_type": "code",
   "execution_count": null,
   "metadata": {},
   "outputs": [],
   "source": [
    "mosviz = MosViz()\n",
    "mosviz.app"
   ]
  },
  {
   "cell_type": "markdown",
   "metadata": {},
   "source": [
    "### UI Instructions:\n",
    "#### Task 1:  Load the MOS data and view it\n",
    "* Load the NIRSpec MOS spectra and image cutouts into Mosviz using the next two code cells below\n",
    "* Click on one of the rows (not the checkbox) in the Mosviz table viewer to display the spectra and image cutout for one of the sources in the MOS dataset.\n",
    "* Open the Display menu of the Image viewer\n",
    "* In the Layer tab, change the stretch to Logarithmic, 95 percentile.\n",
    "\n",
    "#### Task 2: Select a spectral region for further analysis"
   ]
  },
  {
   "cell_type": "code",
   "execution_count": null,
   "metadata": {
    "scrolled": false
   },
   "outputs": [],
   "source": [
    "\n",
    "# Lists of data products\n",
    "slit_id = []\n",
    "spectra_1d = []\n",
    "spectra_2d = []\n",
    "cutouts = []\n",
    "\n",
    "#Central Store data directories\n",
    "file_location = \"central\"\n",
    "if file_location == \"central\":\n",
    "    cutouts_path = \"/user/jotor/mosviz-cutouts/\"\n",
    "    level3_path = \"/grp/jwst/wit4/nirspec/Muzerolle/Sim_products/CEERS_PRISM/\"\n",
    "else:\n",
    "    #Local data directories\n",
    "    level3_path = \"/Users/pogle/Desktop/newcomputer/CEERS/CEERS_PRISM/\"\n",
    "    cutouts_path = \"/Users/pogle/Desktop/newcomputer/CEERS/CEERS_PRISM_cutouts/\"\n",
    "\n",
    "for file_path in glob.glob(str(level3_path+'*')):\n",
    "    if ('x1d' in file_path) & ('combined' in file_path):\n",
    "        spectra_1d.append(file_path)\n",
    "        if file_location == \"central\":\n",
    "            slitid = file_path[88:93]\n",
    "        else:\n",
    "            slitid = file_path[81:86]\n",
    "        slit_id.append(slitid)\n",
    "    elif ('s2d' in file_path) & ('combined' in file_path):\n",
    "        spectra_2d.append(file_path)\n",
    "#for file_path in glob.glob(str(cutouts_path+'*')):\n",
    "#    if ('cutout' in file_path) & ('.fits' in file_path):\n",
    "#        cutouts.append(file_path)   \n",
    " \n",
    "#Sort the slit ids and filenames\n",
    "slit_id_sorted = sorted (slit_id)    \n",
    "spectra_1d_sorted = sorted(spectra_1d)\n",
    "spectra_2d_sorted = sorted(spectra_2d)\n",
    "\n",
    "#Cutout filenames\n",
    "cutouts_sorted = []\n",
    "for s_id in slit_id_sorted: cutouts_sorted.append(cutouts_path+\"cutout\"+s_id+\".fits\")\n",
    "    \n",
    "#Print out the matched filenames for each slit\n",
    "for s_id, f_1d, f_2d, f_cut in zip(slit_id_sorted, spectra_1d_sorted, spectra_2d_sorted, cutouts_sorted): \n",
    "    if file_location == \"central\":\n",
    "        print(s_id, \"...\"+f_1d[87:], \"...\"+f_2d[87:], \"...\"+f_cut[27:])\n",
    "    else:\n",
    "        print(s_id, \"...\"+f_1d[80:], \"...\"+f_2d[80:], \"...\"+f_cut[59:])    \n"
   ]
  },
  {
   "cell_type": "code",
   "execution_count": null,
   "metadata": {},
   "outputs": [],
   "source": [
    "#mosviz.load_data(spectra_1d, spectra_2d, images=images)\n",
    "\n",
    "# Or alternatively: \n",
    "mosviz.load_metadata(cutouts_sorted[0:15])           #show the first 15  \n",
    "mosviz.load_1d_spectra(spectra_1d_sorted[0:15])  \n",
    "mosviz.load_2d_spectra(spectra_2d_sorted[0:15]) \n",
    "mosviz.load_images(cutouts_sorted[0:15])"
   ]
  },
  {
   "cell_type": "markdown",
   "metadata": {},
   "source": [
    "If no images are provided, MOSViz can still display the spectra."
   ]
  },
  {
   "cell_type": "code",
   "execution_count": null,
   "metadata": {},
   "outputs": [],
   "source": [
    "mosviz_no_images = MosViz()\n",
    "mosviz_no_images.app"
   ]
  },
  {
   "cell_type": "code",
   "execution_count": null,
   "metadata": {},
   "outputs": [],
   "source": [
    "mosviz_no_images.load_data(spectra_1d[0:15], spectra_2d[0:15])\n",
    "\n",
    "# Or alternatively: \n",
    "# mosviz_no_images.load_1d_spectra(spectra_1d)\n",
    "# mosviz_no_images.load_2d_spectra(spectra_2d)"
   ]
  },
  {
   "cell_type": "markdown",
   "metadata": {},
   "source": [
    "Images can be added later."
   ]
  },
  {
   "cell_type": "code",
   "execution_count": null,
   "metadata": {},
   "outputs": [],
   "source": [
    "mosviz_no_images.load_images(images)\n",
    "mosviz_no_images.load_metadata(images)"
   ]
  }
 ],
 "metadata": {
  "kernelspec": {
   "display_name": "Jdaviz",
   "language": "python",
   "name": "jdaviz"
  },
  "language_info": {
   "codemirror_mode": {
    "name": "ipython",
    "version": 3
   },
   "file_extension": ".py",
   "mimetype": "text/x-python",
   "name": "python",
   "nbconvert_exporter": "python",
   "pygments_lexer": "ipython3",
   "version": "3.8.10"
  }
 },
 "nbformat": 4,
 "nbformat_minor": 4
}