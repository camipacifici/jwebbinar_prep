{
 "cells": [
  {
   "cell_type": "markdown",
   "id": "67166f74",
   "metadata": {},
   "source": [
    "# Explore JWST and HST images"
   ]
  },
  {
   "cell_type": "markdown",
   "id": "0e6985ac",
   "metadata": {},
   "source": [
    "In this notebook, we load Imviz and we use mainly the user interface to explore some JWST and HST images. The data can be downloaded at this link (images are quite large so they are not packaged into a single humongous zip file. Feel free to download as many as you like."
   ]
  },
  {
   "cell_type": "code",
   "execution_count": null,
   "id": "9318cf8f",
   "metadata": {
    "scrolled": false
   },
   "outputs": [],
   "source": [
    "from jdaviz import Imviz\n",
    "\n",
    "imviz = Imviz()\n",
    "imviz.show()"
   ]
  },
  {
   "cell_type": "markdown",
   "id": "7c8f2727",
   "metadata": {},
   "source": [
    "Here is a list of steps we can do in the UI:\n",
    "- Import data\n",
    "- Link data by WCS\n",
    "- Blink between data\n",
    "- Deselect some dataset and keep only the JWST F150W and the HST file\n",
    "- Blink between the two (wow to resolution)\n",
    "- Zoom and pan and blink again\n",
    "- Select only the JWST longest wavelength and the HST file\n",
    "- Blink between the two (wow so many objects we did not see with HST)\n",
    "- Take a screenshot of one of those new objects (or your favorite object) and post in slack\n",
    "- Select a region around one of those objects in the JWST image\n",
    "- Recenter appropriately\n",
    "- Run aperture photometry and get an estimate of the flux\n",
    "- Select only JWST images and create an RGB image\n",
    "- Export (or screenshot) it and post in slack."
   ]
  },
  {
   "cell_type": "code",
   "execution_count": null,
   "id": "3aa0f677",
   "metadata": {},
   "outputs": [],
   "source": []
  }
 ],
 "metadata": {
  "kernelspec": {
   "display_name": "Python 3 (ipykernel)",
   "language": "python",
   "name": "python3"
  },
  "language_info": {
   "codemirror_mode": {
    "name": "ipython",
    "version": 3
   },
   "file_extension": ".py",
   "mimetype": "text/x-python",
   "name": "python",
   "nbconvert_exporter": "python",
   "pygments_lexer": "ipython3",
   "version": "3.10.9"
  }
 },
 "nbformat": 4,
 "nbformat_minor": 5
}
