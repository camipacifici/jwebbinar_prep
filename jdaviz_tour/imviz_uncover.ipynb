{
 "cells": [
  {
   "cell_type": "markdown",
   "id": "67166f74",
   "metadata": {},
   "source": [
    "# Explore JWST and HST images"
   ]
  },
  {
   "cell_type": "markdown",
   "id": "0e6985ac",
   "metadata": {},
   "source": [
    "In this notebook, we load Imviz and we use mainly the user interface to explore some JWST and HST images. The data can be downloaded at this link (images are quite large so they are not packaged into a single humongous zip file. Feel free to download as many as you like."
   ]
  },
  {
   "cell_type": "code",
   "execution_count": null,
   "id": "9318cf8f",
   "metadata": {
    "scrolled": false
   },
   "outputs": [],
   "source": [
    "import warnings\n",
    "from jdaviz import Imviz\n",
    "from astropy.coordinates import SkyCoord\n",
    "from photutils.aperture import SkyCircularAperture\n",
    "import astropy.units as u"
   ]
  },
  {
   "cell_type": "markdown",
   "id": "5a68f9c8",
   "metadata": {},
   "source": [
    "Choose one of the two ways to run Imviz."
   ]
  },
  {
   "cell_type": "code",
   "execution_count": null,
   "id": "af99995b",
   "metadata": {},
   "outputs": [],
   "source": [
    "# If in jupyter lab\n",
    "imviz = Imviz()\n",
    "imviz.show(loc='sidecar', height=1000)"
   ]
  },
  {
   "cell_type": "code",
   "execution_count": null,
   "id": "253c7fdc",
   "metadata": {},
   "outputs": [],
   "source": [
    "# If in notebook\n",
    "imviz = Imviz()\n",
    "imviz.show(height=700)"
   ]
  },
  {
   "cell_type": "markdown",
   "id": "7c8f2727",
   "metadata": {},
   "source": [
    "Here is a list of steps we can do in the UI:\n",
    "- Import data. The HST file is ic8n06020_drz.fits. The others are all JWST files sorted by photometric band.\n",
    "    - If you are on the platform, the data will be in /home/shared/preloaded-fits/jdaviz_data/UNCOVER.\n",
    "- Link data by WCS\n",
    "- Blink between data\n",
    "- Deselect some dataset and keep only the JWST F150W and the HST file\n",
    "- Blink between the two pressing b (wow to resolution)\n",
    "- Zoom and pan and blink again\n",
    "- Select only the JWST longest wavelength and the HST file\n",
    "- Blink between the two (find objects we did not see with HST)\n",
    "- Use the markers plugin to save the coordinates of your favorite objects\n",
    "- Take a screenshot of your favorite object and post in slack\n",
    "- Select a region around one of those objects in the JWST image\n",
    "- Recenter appropriately\n",
    "- Run aperture photometry and get an estimate of the flux\n",
    "- Select only JWST images and create an RGB image\n",
    "- Export (or screenshot) it and post in slack."
   ]
  },
  {
   "cell_type": "markdown",
   "id": "e39d6825",
   "metadata": {},
   "source": [
    "## Code to do the above steps programmatically"
   ]
  },
  {
   "cell_type": "markdown",
   "id": "fafb30a5",
   "metadata": {},
   "source": [
    "Change path to your local directory if you are not working on the platform."
   ]
  },
  {
   "cell_type": "code",
   "execution_count": null,
   "id": "3aa0f677",
   "metadata": {},
   "outputs": [],
   "source": [
    "#data_dir = '/home/shared/preloaded-fits/jdaviz_data/UNCOVER/'\n",
    "data_dir = './UNCOVER/'\n",
    "\n",
    "files = ['jw02561-o001_t003_nircam_clear-f200w_i2d.fits',\n",
    "         'jw02561-o001_t003_nircam_clear-f444w_i2d.fits',\n",
    "         'ic8n06020_drz.fits'\n",
    "        ]\n",
    "\n",
    "labels = ['JWST F200W',\n",
    "          'JWST F444W',\n",
    "          'HST'\n",
    "         ]\n",
    "\n",
    "for i in range(0,len(files)):\n",
    "    with warnings.catch_warnings():\n",
    "        warnings.simplefilter('ignore')\n",
    "        imviz.load_data(f'{data_dir}/{files[i]}', data_label=labels[i])"
   ]
  },
  {
   "cell_type": "code",
   "execution_count": null,
   "id": "23d9b354",
   "metadata": {},
   "outputs": [],
   "source": [
    "viewer = imviz.default_viewer"
   ]
  },
  {
   "cell_type": "code",
   "execution_count": null,
   "id": "1f5d9942",
   "metadata": {},
   "outputs": [],
   "source": [
    "imviz.plugins"
   ]
  },
  {
   "cell_type": "markdown",
   "id": "99d8c984",
   "metadata": {},
   "source": [
    "### Link by WCS"
   ]
  },
  {
   "cell_type": "code",
   "execution_count": null,
   "id": "533ba9c1",
   "metadata": {},
   "outputs": [],
   "source": [
    "linkwcs = imviz.plugins['Links Control']\n",
    "linkwcs.link_type = 'WCS'"
   ]
  },
  {
   "cell_type": "markdown",
   "id": "d6022971",
   "metadata": {},
   "source": [
    "### Set better plot options"
   ]
  },
  {
   "cell_type": "code",
   "execution_count": null,
   "id": "9bf44cfd",
   "metadata": {},
   "outputs": [],
   "source": [
    "plotopt = imviz.plugins['Plot Options']\n",
    "\n",
    "plotopt.layer = 'HST[SCI,1]'\n",
    "plotopt.stretch_function = 'Logarithmic'\n",
    "plotopt.stretch_vmin = 0.52\n",
    "plotopt.stretch_vmax = 30\n",
    "plotopt.image_colormap = 'Gray'\n",
    "\n",
    "plotopt.layer = 'JWST F200W[DATA]'\n",
    "plotopt.stretch_function = 'Logarithmic'\n",
    "plotopt.stretch_vmin = 0.12\n",
    "plotopt.stretch_vmax = 20\n",
    "plotopt.image_colormap = 'Viridis'\n",
    "\n",
    "plotopt.layer = 'JWST F444W[DATA]'\n",
    "plotopt.stretch_function = 'Logarithmic'\n",
    "plotopt.stretch_vmin = 0.24\n",
    "plotopt.stretch_vmax = 20\n",
    "plotopt.image_colormap = 'Inferno'\n"
   ]
  },
  {
   "cell_type": "markdown",
   "id": "09e926c8",
   "metadata": {},
   "source": [
    "Now to blink between the images you can press the 'b' key when the mouse is on the viewer. Land on the F444W filter for the next cell."
   ]
  },
  {
   "cell_type": "markdown",
   "id": "296b96f1",
   "metadata": {},
   "source": [
    "### Spot an object that is not in the HST data"
   ]
  },
  {
   "cell_type": "code",
   "execution_count": null,
   "id": "98780983",
   "metadata": {},
   "outputs": [],
   "source": [
    "# Center the image on given sky coordinates.\n",
    "sky = SkyCoord(ra=3.57984*u.degree, dec=-30.40156*u.degree, frame='icrs')\n",
    "#sky = SkyCoord(ra=3.5757827*u.degree, dec=-30.4130878*u.degree, frame='icrs')\n",
    "viewer.center_on(sky)"
   ]
  },
  {
   "cell_type": "code",
   "execution_count": null,
   "id": "e0ff4a90",
   "metadata": {},
   "outputs": [],
   "source": [
    "# Set the zoom level directly.\n",
    "viewer.zoom_level = 5"
   ]
  },
  {
   "cell_type": "markdown",
   "id": "7960b5c3",
   "metadata": {},
   "source": [
    "### Select a subset around the object"
   ]
  },
  {
   "cell_type": "code",
   "execution_count": null,
   "id": "813ca05c",
   "metadata": {},
   "outputs": [],
   "source": [
    "interesting_object = SkyCircularAperture(sky, 0.5 * u.arcsec)\n",
    "imviz.load_regions(interesting_object)"
   ]
  },
  {
   "cell_type": "markdown",
   "id": "d5388e3a",
   "metadata": {},
   "source": [
    "### Get aperture photometry for the object"
   ]
  },
  {
   "cell_type": "code",
   "execution_count": null,
   "id": "2108a67c",
   "metadata": {},
   "outputs": [],
   "source": [
    "aperphot = imviz.plugins['Imviz Simple Aperture Photometry']\n",
    "aperphot.open_in_tray()"
   ]
  },
  {
   "cell_type": "markdown",
   "id": "485845b9",
   "metadata": {},
   "source": [
    "This you have to do in the GUI because the API form the notebook is not ready yet. Make sure you select the correct layer that matches what you are seeing in the viewer."
   ]
  },
  {
   "cell_type": "code",
   "execution_count": null,
   "id": "baf7b20f",
   "metadata": {},
   "outputs": [],
   "source": []
  }
 ],
 "metadata": {
  "kernelspec": {
   "display_name": "JWebbinar",
   "language": "python",
   "name": "jwebbinar"
  },
  "language_info": {
   "codemirror_mode": {
    "name": "ipython",
    "version": 3
   },
   "file_extension": ".py",
   "mimetype": "text/x-python",
   "name": "python",
   "nbconvert_exporter": "python",
   "pygments_lexer": "ipython3",
   "version": "3.10.9"
  }
 },
 "nbformat": 4,
 "nbformat_minor": 5
}
